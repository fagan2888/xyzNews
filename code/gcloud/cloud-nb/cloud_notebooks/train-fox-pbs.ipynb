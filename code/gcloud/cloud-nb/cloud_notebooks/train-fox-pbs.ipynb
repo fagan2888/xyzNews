{
 "cells": [
  {
   "cell_type": "markdown",
   "metadata": {},
   "source": [
    "# Fox and PBS\n",
    "\n",
    "### Author \n",
    "Stephen Lee\n",
    "\n",
    "### Goal\n",
    "Classify news source based on the article text. Training data: \n",
    "- Fox News\n",
    "- PBS News\n",
    "\n",
    "### Date \n",
    "First  : 4.8.19\n",
    "\n",
    "Update : 6.24.19\n"
   ]
  },
  {
   "cell_type": "markdown",
   "metadata": {},
   "source": [
    "## Read Data"
   ]
  },
  {
   "cell_type": "code",
   "execution_count": 1,
   "metadata": {
    "collapsed": false
   },
   "outputs": [
    {
     "name": "stderr",
     "output_type": "stream",
     "text": [
      "Using TensorFlow backend.\n",
      "/home/smlee_981/anaconda3/lib/python3.5/site-packages/sklearn/utils/fixes.py:313: FutureWarning: numpy not_equal will not check object identity in the future. The comparison did not return the same result as suggested by the identity (`is`)) and will change.\n",
      "  _nan_object_mask = _nan_object_array != _nan_object_array\n"
     ]
    }
   ],
   "source": [
    "from keras.preprocessing.text import Tokenizer \n",
    "from keras.preprocessing.sequence import pad_sequences \n",
    "from keras.models import Sequential\n",
    "from keras.layers import GRU, Dense, Bidirectional, LSTM, Activation\n",
    "\n",
    "import os \n",
    "import math \n",
    "import pandas as pd \n",
    "\n",
    "from sklearn.model_selection import train_test_split\n",
    "from sklearn import metrics"
   ]
  },
  {
   "cell_type": "code",
   "execution_count": 2,
   "metadata": {
    "collapsed": false
   },
   "outputs": [],
   "source": [
    "FOLDER_READ = '/home/smlee_981/data'\n",
    "FILE = 'clean_article_df.csv'"
   ]
  },
  {
   "cell_type": "code",
   "execution_count": 3,
   "metadata": {
    "collapsed": false
   },
   "outputs": [
    {
     "data": {
      "text/plain": [
       "'/home/smlee_981'"
      ]
     },
     "execution_count": 3,
     "metadata": {},
     "output_type": "execute_result"
    }
   ],
   "source": [
    "os.getcwd()"
   ]
  },
  {
   "cell_type": "code",
   "execution_count": 4,
   "metadata": {
    "collapsed": false
   },
   "outputs": [],
   "source": [
    "os.chdir(FOLDER_READ)"
   ]
  },
  {
   "cell_type": "code",
   "execution_count": 5,
   "metadata": {
    "collapsed": false
   },
   "outputs": [
    {
     "data": {
      "text/plain": [
       "['clean_article_df.csv', 'glove.840B.300d.txt']"
      ]
     },
     "execution_count": 5,
     "metadata": {},
     "output_type": "execute_result"
    }
   ],
   "source": [
    "os.listdir()"
   ]
  },
  {
   "cell_type": "code",
   "execution_count": 6,
   "metadata": {
    "collapsed": false
   },
   "outputs": [
    {
     "data": {
      "text/html": [
       "<div>\n",
       "<style scoped>\n",
       "    .dataframe tbody tr th:only-of-type {\n",
       "        vertical-align: middle;\n",
       "    }\n",
       "\n",
       "    .dataframe tbody tr th {\n",
       "        vertical-align: top;\n",
       "    }\n",
       "\n",
       "    .dataframe thead th {\n",
       "        text-align: right;\n",
       "    }\n",
       "</style>\n",
       "<table border=\"1\" class=\"dataframe\">\n",
       "  <thead>\n",
       "    <tr style=\"text-align: right;\">\n",
       "      <th></th>\n",
       "      <th>article id</th>\n",
       "      <th>source</th>\n",
       "      <th>article</th>\n",
       "      <th>clean_articles</th>\n",
       "      <th>targets</th>\n",
       "    </tr>\n",
       "  </thead>\n",
       "  <tbody>\n",
       "    <tr>\n",
       "      <th>0</th>\n",
       "      <td>fox_politics_166</td>\n",
       "      <td>Fox</td>\n",
       "      <td>&lt;br&gt;\\nFormer New Jersey Gov. Chris Christie sa...</td>\n",
       "      <td>&lt;br&gt;\\nFormer New Jersey Gov. Chris Christie sa...</td>\n",
       "      <td>2</td>\n",
       "    </tr>\n",
       "    <tr>\n",
       "      <th>1</th>\n",
       "      <td>fox_politics_390</td>\n",
       "      <td>Fox</td>\n",
       "      <td>FILE--In this July 28, 2016 file photo, Sen. B...</td>\n",
       "      <td>FILE--In this July 28, 2016 file photo, Sen. B...</td>\n",
       "      <td>2</td>\n",
       "    </tr>\n",
       "    <tr>\n",
       "      <th>2</th>\n",
       "      <td>fox_politics_423</td>\n",
       "      <td>Fox</td>\n",
       "      <td>Howard Kurtz: How Michael Cohen, Democrats sto...</td>\n",
       "      <td>Howard Kurtz: How Michael Cohen, Democrats sto...</td>\n",
       "      <td>2</td>\n",
       "    </tr>\n",
       "    <tr>\n",
       "      <th>3</th>\n",
       "      <td>fox_politics_102</td>\n",
       "      <td>Fox</td>\n",
       "      <td>Student Union: Make UC Berkeley a sanctuary ca...</td>\n",
       "      <td>Student Union: Make UC Berkeley a sanctuary ca...</td>\n",
       "      <td>2</td>\n",
       "    </tr>\n",
       "    <tr>\n",
       "      <th>4</th>\n",
       "      <td>fox_politics_492</td>\n",
       "      <td>Fox</td>\n",
       "      <td>President Trump’s health care executive order:...</td>\n",
       "      <td>President Trump’s health care executive order:...</td>\n",
       "      <td>2</td>\n",
       "    </tr>\n",
       "  </tbody>\n",
       "</table>\n",
       "</div>"
      ],
      "text/plain": [
       "         article id source                                            article  \\\n",
       "0  fox_politics_166    Fox  <br>\\nFormer New Jersey Gov. Chris Christie sa...   \n",
       "1  fox_politics_390    Fox  FILE--In this July 28, 2016 file photo, Sen. B...   \n",
       "2  fox_politics_423    Fox  Howard Kurtz: How Michael Cohen, Democrats sto...   \n",
       "3  fox_politics_102    Fox  Student Union: Make UC Berkeley a sanctuary ca...   \n",
       "4  fox_politics_492    Fox  President Trump’s health care executive order:...   \n",
       "\n",
       "                                      clean_articles  targets  \n",
       "0  <br>\\nFormer New Jersey Gov. Chris Christie sa...        2  \n",
       "1  FILE--In this July 28, 2016 file photo, Sen. B...        2  \n",
       "2  Howard Kurtz: How Michael Cohen, Democrats sto...        2  \n",
       "3  Student Union: Make UC Berkeley a sanctuary ca...        2  \n",
       "4  President Trump’s health care executive order:...        2  "
      ]
     },
     "execution_count": 6,
     "metadata": {},
     "output_type": "execute_result"
    }
   ],
   "source": [
    "df_all = pd.read_csv(FILE, sep='|').drop('Unnamed: 0', axis=1)\n",
    "df_all.head()"
   ]
  },
  {
   "cell_type": "markdown",
   "metadata": {},
   "source": [
    "# MAKE DATASETS\n",
    "\n",
    "## First Dataset"
   ]
  },
  {
   "cell_type": "markdown",
   "metadata": {},
   "source": [
    "#### Remove Vox"
   ]
  },
  {
   "cell_type": "code",
   "execution_count": 7,
   "metadata": {
    "collapsed": false
   },
   "outputs": [
    {
     "data": {
      "text/html": [
       "<div>\n",
       "<style scoped>\n",
       "    .dataframe tbody tr th:only-of-type {\n",
       "        vertical-align: middle;\n",
       "    }\n",
       "\n",
       "    .dataframe tbody tr th {\n",
       "        vertical-align: top;\n",
       "    }\n",
       "\n",
       "    .dataframe thead th {\n",
       "        text-align: right;\n",
       "    }\n",
       "</style>\n",
       "<table border=\"1\" class=\"dataframe\">\n",
       "  <thead>\n",
       "    <tr style=\"text-align: right;\">\n",
       "      <th></th>\n",
       "      <th>article id</th>\n",
       "      <th>clean_articles</th>\n",
       "      <th>targets</th>\n",
       "    </tr>\n",
       "    <tr>\n",
       "      <th>source</th>\n",
       "      <th></th>\n",
       "      <th></th>\n",
       "      <th></th>\n",
       "    </tr>\n",
       "  </thead>\n",
       "  <tbody>\n",
       "    <tr>\n",
       "      <th>Fox</th>\n",
       "      <td>661</td>\n",
       "      <td>661</td>\n",
       "      <td>661</td>\n",
       "    </tr>\n",
       "    <tr>\n",
       "      <th>PBS</th>\n",
       "      <td>1739</td>\n",
       "      <td>1739</td>\n",
       "      <td>1739</td>\n",
       "    </tr>\n",
       "  </tbody>\n",
       "</table>\n",
       "</div>"
      ],
      "text/plain": [
       "        article id  clean_articles  targets\n",
       "source                                     \n",
       "Fox            661             661      661\n",
       "PBS           1739            1739     1739"
      ]
     },
     "execution_count": 7,
     "metadata": {},
     "output_type": "execute_result"
    }
   ],
   "source": [
    "df_all = df_all[df_all['source'] != \"Vox\"].drop('article', axis=1)\n",
    "df_all.groupby('source').count()"
   ]
  },
  {
   "cell_type": "code",
   "execution_count": 8,
   "metadata": {
    "collapsed": true
   },
   "outputs": [],
   "source": [
    "pbs = df_all[df_all['source'] == 'PBS']\n",
    "fox = df_all[df_all['source'] == 'Fox']"
   ]
  },
  {
   "cell_type": "markdown",
   "metadata": {},
   "source": [
    "#### Duplicate Fox to balance"
   ]
  },
  {
   "cell_type": "code",
   "execution_count": 11,
   "metadata": {
    "collapsed": false
   },
   "outputs": [
    {
     "data": {
      "text/html": [
       "<div>\n",
       "<style scoped>\n",
       "    .dataframe tbody tr th:only-of-type {\n",
       "        vertical-align: middle;\n",
       "    }\n",
       "\n",
       "    .dataframe tbody tr th {\n",
       "        vertical-align: top;\n",
       "    }\n",
       "\n",
       "    .dataframe thead th {\n",
       "        text-align: right;\n",
       "    }\n",
       "</style>\n",
       "<table border=\"1\" class=\"dataframe\">\n",
       "  <thead>\n",
       "    <tr style=\"text-align: right;\">\n",
       "      <th></th>\n",
       "      <th>article id</th>\n",
       "      <th>clean_articles</th>\n",
       "      <th>targets</th>\n",
       "    </tr>\n",
       "    <tr>\n",
       "      <th>source</th>\n",
       "      <th></th>\n",
       "      <th></th>\n",
       "      <th></th>\n",
       "    </tr>\n",
       "  </thead>\n",
       "  <tbody>\n",
       "    <tr>\n",
       "      <th>Fox</th>\n",
       "      <td>1739</td>\n",
       "      <td>1739</td>\n",
       "      <td>1739</td>\n",
       "    </tr>\n",
       "    <tr>\n",
       "      <th>PBS</th>\n",
       "      <td>1739</td>\n",
       "      <td>1739</td>\n",
       "      <td>1739</td>\n",
       "    </tr>\n",
       "  </tbody>\n",
       "</table>\n",
       "</div>"
      ],
      "text/plain": [
       "        article id  clean_articles  targets\n",
       "source                                     \n",
       "Fox           1739            1739     1739\n",
       "PBS           1739            1739     1739"
      ]
     },
     "execution_count": 11,
     "metadata": {},
     "output_type": "execute_result"
    }
   ],
   "source": [
    "# balance df by resampling from fox \n",
    "len_pbs = len(pbs)\n",
    "\n",
    "df_first = pbs.copy()\n",
    "df_first = df_first.append(fox.sample(len_pbs, replace=True), ignore_index=True)\n",
    "df_first.groupby('source').count()"
   ]
  },
  {
   "cell_type": "markdown",
   "metadata": {},
   "source": [
    "#### Relabel the targets"
   ]
  },
  {
   "cell_type": "code",
   "execution_count": 12,
   "metadata": {
    "collapsed": false
   },
   "outputs": [],
   "source": [
    "from tqdm import tqdm\n",
    "import numpy as np"
   ]
  },
  {
   "cell_type": "code",
   "execution_count": 13,
   "metadata": {
    "collapsed": false
   },
   "outputs": [
    {
     "name": "stderr",
     "output_type": "stream",
     "text": [
      "100%|██████████| 3478/3478 [00:00<00:00, 1397030.20it/s]\n"
     ]
    }
   ],
   "source": [
    "def label_fox(source):\n",
    "    if source == \"Fox\":\n",
    "        return 1 \n",
    "    elif source == \"PBS\": \n",
    "        return 0\n",
    "    else: \n",
    "        print(source)\n",
    "        return None\n",
    "\n",
    "targets = np.array([label_fox(t) for t in tqdm(df_first[\"source\"])])\n",
    "df_first['targets'] = targets"
   ]
  },
  {
   "cell_type": "code",
   "execution_count": 14,
   "metadata": {
    "collapsed": false
   },
   "outputs": [
    {
     "data": {
      "text/html": [
       "<div>\n",
       "<style scoped>\n",
       "    .dataframe tbody tr th:only-of-type {\n",
       "        vertical-align: middle;\n",
       "    }\n",
       "\n",
       "    .dataframe tbody tr th {\n",
       "        vertical-align: top;\n",
       "    }\n",
       "\n",
       "    .dataframe thead tr th {\n",
       "        text-align: left;\n",
       "    }\n",
       "\n",
       "    .dataframe thead tr:last-of-type th {\n",
       "        text-align: right;\n",
       "    }\n",
       "</style>\n",
       "<table border=\"1\" class=\"dataframe\">\n",
       "  <thead>\n",
       "    <tr>\n",
       "      <th></th>\n",
       "      <th colspan=\"8\" halign=\"left\">targets</th>\n",
       "    </tr>\n",
       "    <tr>\n",
       "      <th></th>\n",
       "      <th>count</th>\n",
       "      <th>mean</th>\n",
       "      <th>std</th>\n",
       "      <th>min</th>\n",
       "      <th>25%</th>\n",
       "      <th>50%</th>\n",
       "      <th>75%</th>\n",
       "      <th>max</th>\n",
       "    </tr>\n",
       "    <tr>\n",
       "      <th>source</th>\n",
       "      <th></th>\n",
       "      <th></th>\n",
       "      <th></th>\n",
       "      <th></th>\n",
       "      <th></th>\n",
       "      <th></th>\n",
       "      <th></th>\n",
       "      <th></th>\n",
       "    </tr>\n",
       "  </thead>\n",
       "  <tbody>\n",
       "    <tr>\n",
       "      <th>Fox</th>\n",
       "      <td>1739.0</td>\n",
       "      <td>1.0</td>\n",
       "      <td>0.0</td>\n",
       "      <td>1.0</td>\n",
       "      <td>1.0</td>\n",
       "      <td>1.0</td>\n",
       "      <td>1.0</td>\n",
       "      <td>1.0</td>\n",
       "    </tr>\n",
       "    <tr>\n",
       "      <th>PBS</th>\n",
       "      <td>1739.0</td>\n",
       "      <td>0.0</td>\n",
       "      <td>0.0</td>\n",
       "      <td>0.0</td>\n",
       "      <td>0.0</td>\n",
       "      <td>0.0</td>\n",
       "      <td>0.0</td>\n",
       "      <td>0.0</td>\n",
       "    </tr>\n",
       "  </tbody>\n",
       "</table>\n",
       "</div>"
      ],
      "text/plain": [
       "       targets                                   \n",
       "         count mean  std  min  25%  50%  75%  max\n",
       "source                                           \n",
       "Fox     1739.0  1.0  0.0  1.0  1.0  1.0  1.0  1.0\n",
       "PBS     1739.0  0.0  0.0  0.0  0.0  0.0  0.0  0.0"
      ]
     },
     "execution_count": 14,
     "metadata": {},
     "output_type": "execute_result"
    }
   ],
   "source": [
    "# make sure that the targets are correct\n",
    "df_first.groupby('source').describe()"
   ]
  },
  {
   "cell_type": "markdown",
   "metadata": {
    "collapsed": true
   },
   "source": [
    "## Second Dataset\n",
    "#### Sample from Vox to balance"
   ]
  },
  {
   "cell_type": "code",
   "execution_count": 16,
   "metadata": {
    "collapsed": false
   },
   "outputs": [
    {
     "data": {
      "text/plain": [
       "article id        661\n",
       "source            661\n",
       "clean_articles    661\n",
       "targets           661\n",
       "dtype: int64"
      ]
     },
     "execution_count": 16,
     "metadata": {},
     "output_type": "execute_result"
    }
   ],
   "source": [
    "fox.count()"
   ]
  },
  {
   "cell_type": "code",
   "execution_count": 17,
   "metadata": {
    "collapsed": false
   },
   "outputs": [
    {
     "data": {
      "text/plain": [
       "article id        1739\n",
       "source            1739\n",
       "clean_articles    1739\n",
       "targets           1739\n",
       "dtype: int64"
      ]
     },
     "execution_count": 17,
     "metadata": {},
     "output_type": "execute_result"
    }
   ],
   "source": [
    "pbs.count()"
   ]
  },
  {
   "cell_type": "code",
   "execution_count": 18,
   "metadata": {
    "collapsed": false
   },
   "outputs": [
    {
     "data": {
      "text/html": [
       "<div>\n",
       "<style scoped>\n",
       "    .dataframe tbody tr th:only-of-type {\n",
       "        vertical-align: middle;\n",
       "    }\n",
       "\n",
       "    .dataframe tbody tr th {\n",
       "        vertical-align: top;\n",
       "    }\n",
       "\n",
       "    .dataframe thead th {\n",
       "        text-align: right;\n",
       "    }\n",
       "</style>\n",
       "<table border=\"1\" class=\"dataframe\">\n",
       "  <thead>\n",
       "    <tr style=\"text-align: right;\">\n",
       "      <th></th>\n",
       "      <th>article id</th>\n",
       "      <th>clean_articles</th>\n",
       "      <th>targets</th>\n",
       "    </tr>\n",
       "    <tr>\n",
       "      <th>source</th>\n",
       "      <th></th>\n",
       "      <th></th>\n",
       "      <th></th>\n",
       "    </tr>\n",
       "  </thead>\n",
       "  <tbody>\n",
       "    <tr>\n",
       "      <th>Fox</th>\n",
       "      <td>661</td>\n",
       "      <td>661</td>\n",
       "      <td>661</td>\n",
       "    </tr>\n",
       "    <tr>\n",
       "      <th>PBS</th>\n",
       "      <td>661</td>\n",
       "      <td>661</td>\n",
       "      <td>661</td>\n",
       "    </tr>\n",
       "  </tbody>\n",
       "</table>\n",
       "</div>"
      ],
      "text/plain": [
       "        article id  clean_articles  targets\n",
       "source                                     \n",
       "Fox            661             661      661\n",
       "PBS            661             661      661"
      ]
     },
     "execution_count": 18,
     "metadata": {},
     "output_type": "execute_result"
    }
   ],
   "source": [
    "# make second dataset for training\n",
    "# start with fox and append with a sample of PBS\n",
    "len_fox = len(fox)\n",
    "\n",
    "df_second = fox.copy()\n",
    "df_second = df_second.append(pbs.sample(len_fox), ignore_index=True)\n",
    "df_second.groupby('source').count()"
   ]
  },
  {
   "cell_type": "markdown",
   "metadata": {},
   "source": [
    "#### Relabel the targets"
   ]
  },
  {
   "cell_type": "code",
   "execution_count": 20,
   "metadata": {
    "collapsed": false
   },
   "outputs": [
    {
     "name": "stderr",
     "output_type": "stream",
     "text": [
      "100%|██████████| 1322/1322 [00:00<00:00, 1098429.06it/s]\n"
     ]
    },
    {
     "data": {
      "text/html": [
       "<div>\n",
       "<style scoped>\n",
       "    .dataframe tbody tr th:only-of-type {\n",
       "        vertical-align: middle;\n",
       "    }\n",
       "\n",
       "    .dataframe tbody tr th {\n",
       "        vertical-align: top;\n",
       "    }\n",
       "\n",
       "    .dataframe thead th {\n",
       "        text-align: right;\n",
       "    }\n",
       "</style>\n",
       "<table border=\"1\" class=\"dataframe\">\n",
       "  <thead>\n",
       "    <tr style=\"text-align: right;\">\n",
       "      <th></th>\n",
       "      <th>article id</th>\n",
       "      <th>source</th>\n",
       "      <th>clean_articles</th>\n",
       "      <th>targets</th>\n",
       "    </tr>\n",
       "  </thead>\n",
       "  <tbody>\n",
       "    <tr>\n",
       "      <th>0</th>\n",
       "      <td>fox_politics_166</td>\n",
       "      <td>Fox</td>\n",
       "      <td>&lt;br&gt;\\nFormer New Jersey Gov. Chris Christie sa...</td>\n",
       "      <td>1</td>\n",
       "    </tr>\n",
       "    <tr>\n",
       "      <th>1</th>\n",
       "      <td>fox_politics_390</td>\n",
       "      <td>Fox</td>\n",
       "      <td>FILE--In this July 28, 2016 file photo, Sen. B...</td>\n",
       "      <td>1</td>\n",
       "    </tr>\n",
       "    <tr>\n",
       "      <th>2</th>\n",
       "      <td>fox_politics_423</td>\n",
       "      <td>Fox</td>\n",
       "      <td>Howard Kurtz: How Michael Cohen, Democrats sto...</td>\n",
       "      <td>1</td>\n",
       "    </tr>\n",
       "    <tr>\n",
       "      <th>3</th>\n",
       "      <td>fox_politics_102</td>\n",
       "      <td>Fox</td>\n",
       "      <td>Student Union: Make UC Berkeley a sanctuary ca...</td>\n",
       "      <td>1</td>\n",
       "    </tr>\n",
       "    <tr>\n",
       "      <th>4</th>\n",
       "      <td>fox_politics_492</td>\n",
       "      <td>Fox</td>\n",
       "      <td>President Trump’s health care executive order:...</td>\n",
       "      <td>1</td>\n",
       "    </tr>\n",
       "  </tbody>\n",
       "</table>\n",
       "</div>"
      ],
      "text/plain": [
       "         article id source                                     clean_articles  \\\n",
       "0  fox_politics_166    Fox  <br>\\nFormer New Jersey Gov. Chris Christie sa...   \n",
       "1  fox_politics_390    Fox  FILE--In this July 28, 2016 file photo, Sen. B...   \n",
       "2  fox_politics_423    Fox  Howard Kurtz: How Michael Cohen, Democrats sto...   \n",
       "3  fox_politics_102    Fox  Student Union: Make UC Berkeley a sanctuary ca...   \n",
       "4  fox_politics_492    Fox  President Trump’s health care executive order:...   \n",
       "\n",
       "   targets  \n",
       "0        1  \n",
       "1        1  \n",
       "2        1  \n",
       "3        1  \n",
       "4        1  "
      ]
     },
     "execution_count": 20,
     "metadata": {},
     "output_type": "execute_result"
    }
   ],
   "source": [
    "targets = np.array([label_fox(t) for t in tqdm(df_second[\"source\"])])\n",
    "df_second['targets'] = targets\n",
    "df_second.head()"
   ]
  },
  {
   "cell_type": "code",
   "execution_count": 21,
   "metadata": {
    "collapsed": false
   },
   "outputs": [
    {
     "data": {
      "text/html": [
       "<div>\n",
       "<style scoped>\n",
       "    .dataframe tbody tr th:only-of-type {\n",
       "        vertical-align: middle;\n",
       "    }\n",
       "\n",
       "    .dataframe tbody tr th {\n",
       "        vertical-align: top;\n",
       "    }\n",
       "\n",
       "    .dataframe thead tr th {\n",
       "        text-align: left;\n",
       "    }\n",
       "\n",
       "    .dataframe thead tr:last-of-type th {\n",
       "        text-align: right;\n",
       "    }\n",
       "</style>\n",
       "<table border=\"1\" class=\"dataframe\">\n",
       "  <thead>\n",
       "    <tr>\n",
       "      <th></th>\n",
       "      <th colspan=\"8\" halign=\"left\">targets</th>\n",
       "    </tr>\n",
       "    <tr>\n",
       "      <th></th>\n",
       "      <th>count</th>\n",
       "      <th>mean</th>\n",
       "      <th>std</th>\n",
       "      <th>min</th>\n",
       "      <th>25%</th>\n",
       "      <th>50%</th>\n",
       "      <th>75%</th>\n",
       "      <th>max</th>\n",
       "    </tr>\n",
       "    <tr>\n",
       "      <th>source</th>\n",
       "      <th></th>\n",
       "      <th></th>\n",
       "      <th></th>\n",
       "      <th></th>\n",
       "      <th></th>\n",
       "      <th></th>\n",
       "      <th></th>\n",
       "      <th></th>\n",
       "    </tr>\n",
       "  </thead>\n",
       "  <tbody>\n",
       "    <tr>\n",
       "      <th>Fox</th>\n",
       "      <td>661.0</td>\n",
       "      <td>1.0</td>\n",
       "      <td>0.0</td>\n",
       "      <td>1.0</td>\n",
       "      <td>1.0</td>\n",
       "      <td>1.0</td>\n",
       "      <td>1.0</td>\n",
       "      <td>1.0</td>\n",
       "    </tr>\n",
       "    <tr>\n",
       "      <th>PBS</th>\n",
       "      <td>661.0</td>\n",
       "      <td>0.0</td>\n",
       "      <td>0.0</td>\n",
       "      <td>0.0</td>\n",
       "      <td>0.0</td>\n",
       "      <td>0.0</td>\n",
       "      <td>0.0</td>\n",
       "      <td>0.0</td>\n",
       "    </tr>\n",
       "  </tbody>\n",
       "</table>\n",
       "</div>"
      ],
      "text/plain": [
       "       targets                                   \n",
       "         count mean  std  min  25%  50%  75%  max\n",
       "source                                           \n",
       "Fox      661.0  1.0  0.0  1.0  1.0  1.0  1.0  1.0\n",
       "PBS      661.0  0.0  0.0  0.0  0.0  0.0  0.0  0.0"
      ]
     },
     "execution_count": 21,
     "metadata": {},
     "output_type": "execute_result"
    }
   ],
   "source": [
    "# make sure that the targets are correct\n",
    "df_second.groupby('source').describe()"
   ]
  },
  {
   "cell_type": "markdown",
   "metadata": {},
   "source": [
    "## Get Embeddings and Define Helper Functions"
   ]
  },
  {
   "cell_type": "code",
   "execution_count": 22,
   "metadata": {
    "collapsed": false
   },
   "outputs": [
    {
     "name": "stderr",
     "output_type": "stream",
     "text": [
      "2196017it [03:41, 9905.89it/s] "
     ]
    },
    {
     "name": "stdout",
     "output_type": "stream",
     "text": [
      "Found 2196016 word vectors\n"
     ]
    },
    {
     "name": "stderr",
     "output_type": "stream",
     "text": [
      "\n"
     ]
    }
   ],
   "source": [
    "# glove embeddings and data are in same folder\n",
    "\n",
    "EMBEDS = 'glove.840B.300d.txt'\n",
    "\n",
    "embeddings_index = {}\n",
    " \n",
    "with open(EMBEDS, encoding='utf8') as embed:\n",
    "    for line in tqdm(embed):\n",
    "        values = line.split(' ')\n",
    "        word = values[0]\n",
    "        coefs = np.asarray(values[1:], dtype='float32')\n",
    "        embeddings_index[word] = coefs\n",
    "        \n",
    "print(\"Found {n} word vectors\".format(n=len(embeddings_index)))"
   ]
  },
  {
   "cell_type": "code",
   "execution_count": 23,
   "metadata": {
    "collapsed": false
   },
   "outputs": [],
   "source": [
    "def text_to_array(text, article_length=500):\n",
    "    empty_emb = np.zeros(300)                   # each word is represented by a length 300 vector\n",
    "    text = text[:-1].split()[:article_length]   # each article is length 500\n",
    "    \n",
    "    # look for word embedding, return zero array otherwise. \n",
    "    embeds = [embeddings_index.get(x, empty_emb) for x in text]\n",
    "    embeds += [empty_emb] * (article_length - len(embeds))\n",
    "    return np.array(embeds)"
   ]
  },
  {
   "cell_type": "code",
   "execution_count": 24,
   "metadata": {
    "collapsed": false
   },
   "outputs": [],
   "source": [
    "def batch_gen(train_df, batch_size=64, article_length=500):\n",
    "    n = math.ceil(len(train_df) / batch_size)\n",
    "    while True: \n",
    "        train_df = train_df.sample(frac=1.0)\n",
    "        \n",
    "        for i in range(n):\n",
    "            texts = train_df['clean_articles'][i*batch_size: (i+1)*batch_size]\n",
    "            targets = np.array(train_df['targets'][i*batch_size: (i+1)*batch_size])\n",
    "            text_arr = np.array([text_to_array(text, article_length=article_length) for text in texts])\n",
    "            yield text_arr, targets"
   ]
  },
  {
   "cell_type": "markdown",
   "metadata": {},
   "source": [
    "# Train Dataset 1"
   ]
  },
  {
   "cell_type": "markdown",
   "metadata": {},
   "source": [
    "### Define Models\n",
    "\n",
    "#### Model 1: Bidirectional LSTM"
   ]
  },
  {
   "cell_type": "code",
   "execution_count": 25,
   "metadata": {
    "collapsed": false
   },
   "outputs": [],
   "source": [
    "# parameters\n",
    "ARTICLE_LENGTH = 500\n",
    "BATCH_SIZE = 64\n",
    "DROPOUT = 0.2\n",
    "REC_DROPOUT = 0.1"
   ]
  },
  {
   "cell_type": "code",
   "execution_count": 26,
   "metadata": {
    "collapsed": false
   },
   "outputs": [
    {
     "name": "stdout",
     "output_type": "stream",
     "text": [
      "_________________________________________________________________\n",
      "Layer (type)                 Output Shape              Param #   \n",
      "=================================================================\n",
      "bidirectional_1 (Bidirection (None, 64)                85248     \n",
      "_________________________________________________________________\n",
      "activation_1 (Activation)    (None, 64)                0         \n",
      "_________________________________________________________________\n",
      "dense_1 (Dense)              (None, 1)                 65        \n",
      "=================================================================\n",
      "Total params: 85,313\n",
      "Trainable params: 85,313\n",
      "Non-trainable params: 0\n",
      "_________________________________________________________________\n"
     ]
    }
   ],
   "source": [
    "# SINGLE LAYER BIDIRECTIONAL LTSM\n",
    "# \n",
    "# note...\n",
    "#\n",
    "#      batch_size         -> words per batch\n",
    "#      article_length     -> words per article\n",
    "#      embed_length       -> vector length per word\n",
    "\n",
    "input_shape = (ARTICLE_LENGTH, 300)\n",
    "lstm_in = int(BATCH_SIZE/2)\n",
    "\n",
    "model_1 = Sequential()\n",
    "model_1.add(Bidirectional(LSTM(lstm_in, return_sequences=False, \\\n",
    "                        dropout=DROPOUT, recurrent_dropout=REC_DROPOUT), \\\n",
    "                        input_shape=input_shape))\n",
    "\n",
    "model_1.add(Activation('relu'))\n",
    "#model.add(Bidirectional(LSTM(lstm_in)))\n",
    "\n",
    "model_1.add(Dense(1, activation=\"sigmoid\"))\n",
    "model_1.compile(loss=\"binary_crossentropy\", \\\n",
    "              optimizer=\"adam\", \\\n",
    "              metrics=[\"accuracy\"])\n",
    "\n",
    "model_1.summary()"
   ]
  },
  {
   "cell_type": "markdown",
   "metadata": {},
   "source": [
    "#### Model 2: Regular LSTM"
   ]
  },
  {
   "cell_type": "code",
   "execution_count": 27,
   "metadata": {
    "collapsed": false
   },
   "outputs": [
    {
     "name": "stdout",
     "output_type": "stream",
     "text": [
      "_________________________________________________________________\n",
      "Layer (type)                 Output Shape              Param #   \n",
      "=================================================================\n",
      "lstm_2 (LSTM)                (None, 64)                93440     \n",
      "_________________________________________________________________\n",
      "activation_2 (Activation)    (None, 64)                0         \n",
      "_________________________________________________________________\n",
      "dense_2 (Dense)              (None, 1)                 65        \n",
      "=================================================================\n",
      "Total params: 93,505\n",
      "Trainable params: 93,505\n",
      "Non-trainable params: 0\n",
      "_________________________________________________________________\n"
     ]
    }
   ],
   "source": [
    "# SINGLE LAYER LTSM\n",
    "# \n",
    "# note...\n",
    "#\n",
    "#      batch_size         -> words per batch\n",
    "#      article_length     -> words per article\n",
    "#      embed_length       -> vector length per word\n",
    "\n",
    "input_shape = (ARTICLE_LENGTH, 300)\n",
    "lstm_in = int(BATCH_SIZE)\n",
    "\n",
    "model_2 = Sequential()\n",
    "model_2.add(LSTM(lstm_in, return_sequences=False, dropout=DROPOUT, \\\n",
    "                 recurrent_dropout=REC_DROPOUT, input_shape=input_shape))\n",
    "\n",
    "model_2.add(Activation('relu'))\n",
    "\n",
    "model_2.add(Dense(1, activation=\"sigmoid\"))\n",
    "model_2.compile(loss=\"binary_crossentropy\", \\\n",
    "              optimizer=\"adam\", \\\n",
    "              metrics=[\"accuracy\"])\n",
    "\n",
    "model_2.summary()"
   ]
  },
  {
   "cell_type": "markdown",
   "metadata": {},
   "source": [
    "#### Split into test and training"
   ]
  },
  {
   "cell_type": "code",
   "execution_count": 43,
   "metadata": {
    "collapsed": true
   },
   "outputs": [],
   "source": [
    "train_df, test_df = train_test_split(df_first, test_size=0.1)"
   ]
  },
  {
   "cell_type": "markdown",
   "metadata": {},
   "source": [
    "#### Check for similarity between test and training"
   ]
  },
  {
   "cell_type": "code",
   "execution_count": 44,
   "metadata": {
    "collapsed": false
   },
   "outputs": [
    {
     "data": {
      "text/html": [
       "<div>\n",
       "<style scoped>\n",
       "    .dataframe tbody tr th:only-of-type {\n",
       "        vertical-align: middle;\n",
       "    }\n",
       "\n",
       "    .dataframe tbody tr th {\n",
       "        vertical-align: top;\n",
       "    }\n",
       "\n",
       "    .dataframe thead tr th {\n",
       "        text-align: left;\n",
       "    }\n",
       "\n",
       "    .dataframe thead tr:last-of-type th {\n",
       "        text-align: right;\n",
       "    }\n",
       "</style>\n",
       "<table border=\"1\" class=\"dataframe\">\n",
       "  <thead>\n",
       "    <tr>\n",
       "      <th></th>\n",
       "      <th colspan=\"8\" halign=\"left\">targets</th>\n",
       "    </tr>\n",
       "    <tr>\n",
       "      <th></th>\n",
       "      <th>count</th>\n",
       "      <th>mean</th>\n",
       "      <th>std</th>\n",
       "      <th>min</th>\n",
       "      <th>25%</th>\n",
       "      <th>50%</th>\n",
       "      <th>75%</th>\n",
       "      <th>max</th>\n",
       "    </tr>\n",
       "    <tr>\n",
       "      <th>source</th>\n",
       "      <th></th>\n",
       "      <th></th>\n",
       "      <th></th>\n",
       "      <th></th>\n",
       "      <th></th>\n",
       "      <th></th>\n",
       "      <th></th>\n",
       "      <th></th>\n",
       "    </tr>\n",
       "  </thead>\n",
       "  <tbody>\n",
       "    <tr>\n",
       "      <th>Fox</th>\n",
       "      <td>178.0</td>\n",
       "      <td>1.0</td>\n",
       "      <td>0.0</td>\n",
       "      <td>1.0</td>\n",
       "      <td>1.0</td>\n",
       "      <td>1.0</td>\n",
       "      <td>1.0</td>\n",
       "      <td>1.0</td>\n",
       "    </tr>\n",
       "    <tr>\n",
       "      <th>PBS</th>\n",
       "      <td>170.0</td>\n",
       "      <td>0.0</td>\n",
       "      <td>0.0</td>\n",
       "      <td>0.0</td>\n",
       "      <td>0.0</td>\n",
       "      <td>0.0</td>\n",
       "      <td>0.0</td>\n",
       "      <td>0.0</td>\n",
       "    </tr>\n",
       "  </tbody>\n",
       "</table>\n",
       "</div>"
      ],
      "text/plain": [
       "       targets                                   \n",
       "         count mean  std  min  25%  50%  75%  max\n",
       "source                                           \n",
       "Fox      178.0  1.0  0.0  1.0  1.0  1.0  1.0  1.0\n",
       "PBS      170.0  0.0  0.0  0.0  0.0  0.0  0.0  0.0"
      ]
     },
     "execution_count": 44,
     "metadata": {},
     "output_type": "execute_result"
    }
   ],
   "source": [
    "test_df.groupby('source').describe()"
   ]
  },
  {
   "cell_type": "code",
   "execution_count": 45,
   "metadata": {
    "collapsed": false
   },
   "outputs": [
    {
     "data": {
      "text/html": [
       "<div>\n",
       "<style scoped>\n",
       "    .dataframe tbody tr th:only-of-type {\n",
       "        vertical-align: middle;\n",
       "    }\n",
       "\n",
       "    .dataframe tbody tr th {\n",
       "        vertical-align: top;\n",
       "    }\n",
       "\n",
       "    .dataframe thead tr th {\n",
       "        text-align: left;\n",
       "    }\n",
       "\n",
       "    .dataframe thead tr:last-of-type th {\n",
       "        text-align: right;\n",
       "    }\n",
       "</style>\n",
       "<table border=\"1\" class=\"dataframe\">\n",
       "  <thead>\n",
       "    <tr>\n",
       "      <th></th>\n",
       "      <th colspan=\"8\" halign=\"left\">targets</th>\n",
       "    </tr>\n",
       "    <tr>\n",
       "      <th></th>\n",
       "      <th>count</th>\n",
       "      <th>mean</th>\n",
       "      <th>std</th>\n",
       "      <th>min</th>\n",
       "      <th>25%</th>\n",
       "      <th>50%</th>\n",
       "      <th>75%</th>\n",
       "      <th>max</th>\n",
       "    </tr>\n",
       "    <tr>\n",
       "      <th>source</th>\n",
       "      <th></th>\n",
       "      <th></th>\n",
       "      <th></th>\n",
       "      <th></th>\n",
       "      <th></th>\n",
       "      <th></th>\n",
       "      <th></th>\n",
       "      <th></th>\n",
       "    </tr>\n",
       "  </thead>\n",
       "  <tbody>\n",
       "    <tr>\n",
       "      <th>Fox</th>\n",
       "      <td>1561.0</td>\n",
       "      <td>1.0</td>\n",
       "      <td>0.0</td>\n",
       "      <td>1.0</td>\n",
       "      <td>1.0</td>\n",
       "      <td>1.0</td>\n",
       "      <td>1.0</td>\n",
       "      <td>1.0</td>\n",
       "    </tr>\n",
       "    <tr>\n",
       "      <th>PBS</th>\n",
       "      <td>1569.0</td>\n",
       "      <td>0.0</td>\n",
       "      <td>0.0</td>\n",
       "      <td>0.0</td>\n",
       "      <td>0.0</td>\n",
       "      <td>0.0</td>\n",
       "      <td>0.0</td>\n",
       "      <td>0.0</td>\n",
       "    </tr>\n",
       "  </tbody>\n",
       "</table>\n",
       "</div>"
      ],
      "text/plain": [
       "       targets                                   \n",
       "         count mean  std  min  25%  50%  75%  max\n",
       "source                                           \n",
       "Fox     1561.0  1.0  0.0  1.0  1.0  1.0  1.0  1.0\n",
       "PBS     1569.0  0.0  0.0  0.0  0.0  0.0  0.0  0.0"
      ]
     },
     "execution_count": 45,
     "metadata": {},
     "output_type": "execute_result"
    }
   ],
   "source": [
    "train_df.groupby('source').describe()"
   ]
  },
  {
   "cell_type": "markdown",
   "metadata": {},
   "source": [
    "#### Prepare test set for validation"
   ]
  },
  {
   "cell_type": "code",
   "execution_count": 46,
   "metadata": {
    "collapsed": false
   },
   "outputs": [
    {
     "name": "stderr",
     "output_type": "stream",
     "text": [
      "100%|██████████| 348/348 [00:00<00:00, 585.87it/s]\n"
     ]
    }
   ],
   "source": [
    "# witheld for validation\n",
    "\n",
    "x_test = np.array([text_to_array(x, article_length=ARTICLE_LENGTH) \\\n",
    "                          for x in tqdm(test_df[\"clean_articles\"])])\n",
    "y_test = np.array(test_df[\"targets\"])"
   ]
  },
  {
   "cell_type": "markdown",
   "metadata": {},
   "source": [
    "#### Train"
   ]
  },
  {
   "cell_type": "code",
   "execution_count": 47,
   "metadata": {
    "collapsed": false
   },
   "outputs": [
    {
     "name": "stdout",
     "output_type": "stream",
     "text": [
      "Epoch 1/2\n",
      "250/250 [==============================] - 196s 785ms/step - loss: 0.2837 - acc: 0.8963\n",
      "Epoch 2/2\n",
      "250/250 [==============================] - 186s 744ms/step - loss: 0.0729 - acc: 0.9806\n"
     ]
    },
    {
     "data": {
      "text/plain": [
       "<keras.callbacks.History at 0x7ff869102518>"
      ]
     },
     "execution_count": 47,
     "metadata": {},
     "output_type": "execute_result"
    }
   ],
   "source": [
    "data = batch_gen(train_df, batch_size=BATCH_SIZE, article_length=ARTICLE_LENGTH)\n",
    "model_1.fit_generator(data, epochs=2, steps_per_epoch=250, \\\n",
    "                    validation_data=None, verbose=True)"
   ]
  },
  {
   "cell_type": "code",
   "execution_count": 48,
   "metadata": {
    "collapsed": false
   },
   "outputs": [
    {
     "name": "stdout",
     "output_type": "stream",
     "text": [
      "Epoch 1/2\n",
      "250/250 [==============================] - 167s 668ms/step - loss: 0.6209 - acc: 0.6541\n",
      "Epoch 2/2\n",
      "250/250 [==============================] - 156s 624ms/step - loss: 0.4387 - acc: 0.8120\n"
     ]
    },
    {
     "data": {
      "text/plain": [
       "<keras.callbacks.History at 0x7ff863897b38>"
      ]
     },
     "execution_count": 48,
     "metadata": {},
     "output_type": "execute_result"
    }
   ],
   "source": [
    "data = batch_gen(train_df, batch_size=BATCH_SIZE, article_length=ARTICLE_LENGTH)\n",
    "model_2.fit_generator(data, epochs=2, steps_per_epoch=250, \\\n",
    "                    validation_data=None, verbose=True)"
   ]
  },
  {
   "cell_type": "markdown",
   "metadata": {},
   "source": [
    "#### Look at predictions"
   ]
  },
  {
   "cell_type": "code",
   "execution_count": 49,
   "metadata": {
    "collapsed": false
   },
   "outputs": [
    {
     "data": {
      "text/plain": [
       "array([[ 0.98009944],\n",
       "       [ 0.99831539],\n",
       "       [ 0.03991568],\n",
       "       [ 0.02625093],\n",
       "       [ 0.00290164],\n",
       "       [ 0.00283876],\n",
       "       [ 0.99653018]], dtype=float32)"
      ]
     },
     "execution_count": 49,
     "metadata": {},
     "output_type": "execute_result"
    }
   ],
   "source": [
    "y_pred_1 = model_1.predict(x_test)\n",
    "y_pred_1[:7]"
   ]
  },
  {
   "cell_type": "code",
   "execution_count": 50,
   "metadata": {
    "collapsed": false
   },
   "outputs": [
    {
     "data": {
      "text/plain": [
       "array([[ 0.78650844],\n",
       "       [ 0.73700398],\n",
       "       [ 0.18937233],\n",
       "       [ 0.0717358 ],\n",
       "       [ 0.02441296],\n",
       "       [ 0.02862272],\n",
       "       [ 0.9660058 ]], dtype=float32)"
      ]
     },
     "execution_count": 50,
     "metadata": {},
     "output_type": "execute_result"
    }
   ],
   "source": [
    "y_pred_2 = model_2.predict(x_test)\n",
    "y_pred_2[:7]"
   ]
  },
  {
   "cell_type": "code",
   "execution_count": 51,
   "metadata": {
    "collapsed": false
   },
   "outputs": [
    {
     "data": {
      "text/html": [
       "<div>\n",
       "<style scoped>\n",
       "    .dataframe tbody tr th:only-of-type {\n",
       "        vertical-align: middle;\n",
       "    }\n",
       "\n",
       "    .dataframe tbody tr th {\n",
       "        vertical-align: top;\n",
       "    }\n",
       "\n",
       "    .dataframe thead th {\n",
       "        text-align: right;\n",
       "    }\n",
       "</style>\n",
       "<table border=\"1\" class=\"dataframe\">\n",
       "  <thead>\n",
       "    <tr style=\"text-align: right;\">\n",
       "      <th></th>\n",
       "      <th>source</th>\n",
       "      <th>clean_articles</th>\n",
       "      <th>targets</th>\n",
       "    </tr>\n",
       "  </thead>\n",
       "  <tbody>\n",
       "    <tr>\n",
       "      <th>3233</th>\n",
       "      <td>Fox</td>\n",
       "      <td>The investigation into Russian involvement in ...</td>\n",
       "      <td>1</td>\n",
       "    </tr>\n",
       "    <tr>\n",
       "      <th>3382</th>\n",
       "      <td>Fox</td>\n",
       "      <td>House Speaker-to-be Nancy Pelosi vacations in ...</td>\n",
       "      <td>1</td>\n",
       "    </tr>\n",
       "    <tr>\n",
       "      <th>1304</th>\n",
       "      <td>PBS</td>\n",
       "      <td>The Republican-led House oversight committee...</td>\n",
       "      <td>0</td>\n",
       "    </tr>\n",
       "    <tr>\n",
       "      <th>856</th>\n",
       "      <td>PBS</td>\n",
       "      <td>As he departed for his speech at the NRA conve...</td>\n",
       "      <td>0</td>\n",
       "    </tr>\n",
       "    <tr>\n",
       "      <th>219</th>\n",
       "      <td>PBS</td>\n",
       "      <td>RICHMOND, Va.  A panel of federal judges has c...</td>\n",
       "      <td>0</td>\n",
       "    </tr>\n",
       "    <tr>\n",
       "      <th>1513</th>\n",
       "      <td>PBS</td>\n",
       "      <td>DES MOINES, Iowa  After months of speculation ...</td>\n",
       "      <td>0</td>\n",
       "    </tr>\n",
       "    <tr>\n",
       "      <th>2126</th>\n",
       "      <td>Fox</td>\n",
       "      <td>Beto O'Rourke plans solo road trip, sparking n...</td>\n",
       "      <td>1</td>\n",
       "    </tr>\n",
       "  </tbody>\n",
       "</table>\n",
       "</div>"
      ],
      "text/plain": [
       "     source                                     clean_articles  targets\n",
       "3233    Fox  The investigation into Russian involvement in ...        1\n",
       "3382    Fox  House Speaker-to-be Nancy Pelosi vacations in ...        1\n",
       "1304    PBS    The Republican-led House oversight committee...        0\n",
       "856     PBS  As he departed for his speech at the NRA conve...        0\n",
       "219     PBS  RICHMOND, Va.  A panel of federal judges has c...        0\n",
       "1513    PBS  DES MOINES, Iowa  After months of speculation ...        0\n",
       "2126    Fox  Beto O'Rourke plans solo road trip, sparking n...        1"
      ]
     },
     "execution_count": 51,
     "metadata": {},
     "output_type": "execute_result"
    }
   ],
   "source": [
    "test_df[['source', 'clean_articles', 'targets']].head(7)"
   ]
  },
  {
   "cell_type": "code",
   "execution_count": 55,
   "metadata": {
    "collapsed": false
   },
   "outputs": [
    {
     "name": "stdout",
     "output_type": "stream",
     "text": [
      "Threshold 0.25 \n",
      "F1 score model 1: 0.962 \n",
      "F1 score model 2: 0.818 \n",
      "\n",
      "Threshold 0.3 \n",
      "F1 score model 1: 0.97 \n",
      "F1 score model 2: 0.821 \n",
      "\n",
      "Threshold 0.35 \n",
      "F1 score model 1: 0.973 \n",
      "F1 score model 2: 0.826 \n",
      "\n",
      "Threshold 0.4 \n",
      "F1 score model 1: 0.975 \n",
      "F1 score model 2: 0.828 \n",
      "\n",
      "Threshold 0.45 \n",
      "F1 score model 1: 0.975 \n",
      "F1 score model 2: 0.836 \n",
      "\n",
      "Threshold 0.5 \n",
      "F1 score model 1: 0.981 \n",
      "F1 score model 2: 0.822 \n",
      "\n",
      "Threshold 0.55 \n",
      "F1 score model 1: 0.978 \n",
      "F1 score model 2: 0.81 \n",
      "\n",
      "Threshold 0.6 \n",
      "F1 score model 1: 0.978 \n",
      "F1 score model 2: 0.802 \n",
      "\n",
      "Threshold 0.65 \n",
      "F1 score model 1: 0.981 \n",
      "F1 score model 2: 0.798 \n",
      "\n",
      "Threshold 0.7 \n",
      "F1 score model 1: 0.983 \n",
      "F1 score model 2: 0.798 \n",
      "\n",
      "Threshold 0.75 \n",
      "F1 score model 1: 0.983 \n",
      "F1 score model 2: 0.638 \n",
      "\n"
     ]
    }
   ],
   "source": [
    "for i in np.arange(0.25, 0.8, 0.05):\n",
    "    res_1 = metrics.f1_score(y_test, y_pred_1 > i)\n",
    "    res_2 = metrics.f1_score(y_test, y_pred_2 > i)\n",
    "    print(\"Threshold {i} \\nF1 score model 1: {res_1} \\nF1 score model 2: {res_2} \\n\".format(\\\n",
    "                                                                                       i=round(i,2), \\\n",
    "                                                                                       res_1 = round(res_1, 3), \\\n",
    "                                                                                       res_2 = round(res_2, 3)))"
   ]
  },
  {
   "cell_type": "markdown",
   "metadata": {},
   "source": [
    "# Train Dataset 2"
   ]
  },
  {
   "cell_type": "markdown",
   "metadata": {},
   "source": [
    "### Refresh Models\n",
    "\n",
    "#### Model 1: Bidirectional LSTM"
   ]
  },
  {
   "cell_type": "code",
   "execution_count": 56,
   "metadata": {
    "collapsed": false
   },
   "outputs": [
    {
     "name": "stdout",
     "output_type": "stream",
     "text": [
      "_________________________________________________________________\n",
      "Layer (type)                 Output Shape              Param #   \n",
      "=================================================================\n",
      "bidirectional_2 (Bidirection (None, 64)                85248     \n",
      "_________________________________________________________________\n",
      "activation_3 (Activation)    (None, 64)                0         \n",
      "_________________________________________________________________\n",
      "dense_3 (Dense)              (None, 1)                 65        \n",
      "=================================================================\n",
      "Total params: 85,313\n",
      "Trainable params: 85,313\n",
      "Non-trainable params: 0\n",
      "_________________________________________________________________\n"
     ]
    }
   ],
   "source": [
    "# SINGLE LAYER BIDIRECTIONAL LTSM\n",
    "# \n",
    "# note...\n",
    "#\n",
    "#      batch_size         -> words per batch\n",
    "#      article_length     -> words per article\n",
    "#      embed_length       -> vector length per word\n",
    "\n",
    "input_shape = (ARTICLE_LENGTH, 300)\n",
    "lstm_in = int(BATCH_SIZE/2)\n",
    "\n",
    "model_1 = Sequential()\n",
    "model_1.add(Bidirectional(LSTM(lstm_in, return_sequences=False, \\\n",
    "                        dropout=DROPOUT, recurrent_dropout=REC_DROPOUT), \\\n",
    "                        input_shape=input_shape))\n",
    "\n",
    "model_1.add(Activation('relu'))\n",
    "#model.add(Bidirectional(LSTM(lstm_in)))\n",
    "\n",
    "model_1.add(Dense(1, activation=\"sigmoid\"))\n",
    "model_1.compile(loss=\"binary_crossentropy\", \\\n",
    "              optimizer=\"adam\", \\\n",
    "              metrics=[\"accuracy\"])\n",
    "\n",
    "model_1.summary()"
   ]
  },
  {
   "cell_type": "markdown",
   "metadata": {},
   "source": [
    "#### Model 2: Regular LSTM"
   ]
  },
  {
   "cell_type": "code",
   "execution_count": 59,
   "metadata": {
    "collapsed": false
   },
   "outputs": [
    {
     "name": "stdout",
     "output_type": "stream",
     "text": [
      "_________________________________________________________________\n",
      "Layer (type)                 Output Shape              Param #   \n",
      "=================================================================\n",
      "lstm_5 (LSTM)                (None, 64)                93440     \n",
      "_________________________________________________________________\n",
      "activation_4 (Activation)    (None, 64)                0         \n",
      "_________________________________________________________________\n",
      "dense_4 (Dense)              (None, 1)                 65        \n",
      "=================================================================\n",
      "Total params: 93,505\n",
      "Trainable params: 93,505\n",
      "Non-trainable params: 0\n",
      "_________________________________________________________________\n"
     ]
    }
   ],
   "source": [
    "# SINGLE LAYER BIDIRECTIONAL LTSM\n",
    "# \n",
    "# note...\n",
    "#\n",
    "#      batch_size         -> words per batch\n",
    "#      article_length     -> words per article\n",
    "#      embed_length       -> vector length per word\n",
    "\n",
    "input_shape = (ARTICLE_LENGTH, 300)\n",
    "lstm_in = int(BATCH_SIZE)\n",
    "\n",
    "model_2 = Sequential()\n",
    "model_2.add(LSTM(lstm_in, return_sequences=False, dropout=DROPOUT, \\\n",
    "                 recurrent_dropout=REC_DROPOUT, input_shape=input_shape))\n",
    "\n",
    "model_2.add(Activation('relu'))\n",
    "\n",
    "model_2.add(Dense(1, activation=\"sigmoid\"))\n",
    "model_2.compile(loss=\"binary_crossentropy\", \\\n",
    "              optimizer=\"adam\", \\\n",
    "              metrics=[\"accuracy\"])\n",
    "\n",
    "model_2.summary()"
   ]
  },
  {
   "cell_type": "markdown",
   "metadata": {},
   "source": [
    "#### Split into test and training"
   ]
  },
  {
   "cell_type": "code",
   "execution_count": 62,
   "metadata": {
    "collapsed": false
   },
   "outputs": [
    {
     "data": {
      "text/html": [
       "<div>\n",
       "<style scoped>\n",
       "    .dataframe tbody tr th:only-of-type {\n",
       "        vertical-align: middle;\n",
       "    }\n",
       "\n",
       "    .dataframe tbody tr th {\n",
       "        vertical-align: top;\n",
       "    }\n",
       "\n",
       "    .dataframe thead tr th {\n",
       "        text-align: left;\n",
       "    }\n",
       "\n",
       "    .dataframe thead tr:last-of-type th {\n",
       "        text-align: right;\n",
       "    }\n",
       "</style>\n",
       "<table border=\"1\" class=\"dataframe\">\n",
       "  <thead>\n",
       "    <tr>\n",
       "      <th></th>\n",
       "      <th colspan=\"8\" halign=\"left\">targets</th>\n",
       "    </tr>\n",
       "    <tr>\n",
       "      <th></th>\n",
       "      <th>count</th>\n",
       "      <th>mean</th>\n",
       "      <th>std</th>\n",
       "      <th>min</th>\n",
       "      <th>25%</th>\n",
       "      <th>50%</th>\n",
       "      <th>75%</th>\n",
       "      <th>max</th>\n",
       "    </tr>\n",
       "    <tr>\n",
       "      <th>source</th>\n",
       "      <th></th>\n",
       "      <th></th>\n",
       "      <th></th>\n",
       "      <th></th>\n",
       "      <th></th>\n",
       "      <th></th>\n",
       "      <th></th>\n",
       "      <th></th>\n",
       "    </tr>\n",
       "  </thead>\n",
       "  <tbody>\n",
       "    <tr>\n",
       "      <th>Fox</th>\n",
       "      <td>592.0</td>\n",
       "      <td>1.0</td>\n",
       "      <td>0.0</td>\n",
       "      <td>1.0</td>\n",
       "      <td>1.0</td>\n",
       "      <td>1.0</td>\n",
       "      <td>1.0</td>\n",
       "      <td>1.0</td>\n",
       "    </tr>\n",
       "    <tr>\n",
       "      <th>PBS</th>\n",
       "      <td>597.0</td>\n",
       "      <td>0.0</td>\n",
       "      <td>0.0</td>\n",
       "      <td>0.0</td>\n",
       "      <td>0.0</td>\n",
       "      <td>0.0</td>\n",
       "      <td>0.0</td>\n",
       "      <td>0.0</td>\n",
       "    </tr>\n",
       "  </tbody>\n",
       "</table>\n",
       "</div>"
      ],
      "text/plain": [
       "       targets                                   \n",
       "         count mean  std  min  25%  50%  75%  max\n",
       "source                                           \n",
       "Fox      592.0  1.0  0.0  1.0  1.0  1.0  1.0  1.0\n",
       "PBS      597.0  0.0  0.0  0.0  0.0  0.0  0.0  0.0"
      ]
     },
     "execution_count": 62,
     "metadata": {},
     "output_type": "execute_result"
    }
   ],
   "source": [
    "train_df, test_df = train_test_split(df_second, test_size=0.1)\n",
    "train_df.groupby('source').describe()"
   ]
  },
  {
   "cell_type": "markdown",
   "metadata": {},
   "source": [
    "#### Check for similarity between test and training"
   ]
  },
  {
   "cell_type": "code",
   "execution_count": 63,
   "metadata": {
    "collapsed": false
   },
   "outputs": [
    {
     "data": {
      "text/html": [
       "<div>\n",
       "<style scoped>\n",
       "    .dataframe tbody tr th:only-of-type {\n",
       "        vertical-align: middle;\n",
       "    }\n",
       "\n",
       "    .dataframe tbody tr th {\n",
       "        vertical-align: top;\n",
       "    }\n",
       "\n",
       "    .dataframe thead tr th {\n",
       "        text-align: left;\n",
       "    }\n",
       "\n",
       "    .dataframe thead tr:last-of-type th {\n",
       "        text-align: right;\n",
       "    }\n",
       "</style>\n",
       "<table border=\"1\" class=\"dataframe\">\n",
       "  <thead>\n",
       "    <tr>\n",
       "      <th></th>\n",
       "      <th colspan=\"8\" halign=\"left\">targets</th>\n",
       "    </tr>\n",
       "    <tr>\n",
       "      <th></th>\n",
       "      <th>count</th>\n",
       "      <th>mean</th>\n",
       "      <th>std</th>\n",
       "      <th>min</th>\n",
       "      <th>25%</th>\n",
       "      <th>50%</th>\n",
       "      <th>75%</th>\n",
       "      <th>max</th>\n",
       "    </tr>\n",
       "    <tr>\n",
       "      <th>source</th>\n",
       "      <th></th>\n",
       "      <th></th>\n",
       "      <th></th>\n",
       "      <th></th>\n",
       "      <th></th>\n",
       "      <th></th>\n",
       "      <th></th>\n",
       "      <th></th>\n",
       "    </tr>\n",
       "  </thead>\n",
       "  <tbody>\n",
       "    <tr>\n",
       "      <th>Fox</th>\n",
       "      <td>69.0</td>\n",
       "      <td>1.0</td>\n",
       "      <td>0.0</td>\n",
       "      <td>1.0</td>\n",
       "      <td>1.0</td>\n",
       "      <td>1.0</td>\n",
       "      <td>1.0</td>\n",
       "      <td>1.0</td>\n",
       "    </tr>\n",
       "    <tr>\n",
       "      <th>PBS</th>\n",
       "      <td>64.0</td>\n",
       "      <td>0.0</td>\n",
       "      <td>0.0</td>\n",
       "      <td>0.0</td>\n",
       "      <td>0.0</td>\n",
       "      <td>0.0</td>\n",
       "      <td>0.0</td>\n",
       "      <td>0.0</td>\n",
       "    </tr>\n",
       "  </tbody>\n",
       "</table>\n",
       "</div>"
      ],
      "text/plain": [
       "       targets                                   \n",
       "         count mean  std  min  25%  50%  75%  max\n",
       "source                                           \n",
       "Fox       69.0  1.0  0.0  1.0  1.0  1.0  1.0  1.0\n",
       "PBS       64.0  0.0  0.0  0.0  0.0  0.0  0.0  0.0"
      ]
     },
     "execution_count": 63,
     "metadata": {},
     "output_type": "execute_result"
    }
   ],
   "source": [
    "test_df.groupby('source').describe()"
   ]
  },
  {
   "cell_type": "markdown",
   "metadata": {},
   "source": [
    "#### prepare test set for validation"
   ]
  },
  {
   "cell_type": "code",
   "execution_count": 64,
   "metadata": {
    "collapsed": false
   },
   "outputs": [
    {
     "name": "stderr",
     "output_type": "stream",
     "text": [
      "100%|██████████| 133/133 [00:00<00:00, 763.77it/s]\n"
     ]
    }
   ],
   "source": [
    "# witheld for validation\n",
    " \n",
    "x_test = np.array([text_to_array(x, article_length=ARTICLE_LENGTH) \\\n",
    "                          for x in tqdm(test_df[\"clean_articles\"])])\n",
    "y_test = np.array(test_df[\"targets\"])"
   ]
  },
  {
   "cell_type": "markdown",
   "metadata": {},
   "source": [
    "#### train"
   ]
  },
  {
   "cell_type": "code",
   "execution_count": 65,
   "metadata": {
    "collapsed": false
   },
   "outputs": [
    {
     "name": "stdout",
     "output_type": "stream",
     "text": [
      "Epoch 1/2\n",
      "250/250 [==============================] - 181s 725ms/step - loss: 0.2733 - acc: 0.8914\n",
      "Epoch 2/2\n",
      "250/250 [==============================] - 174s 696ms/step - loss: 0.0560 - acc: 0.9871\n"
     ]
    },
    {
     "data": {
      "text/plain": [
       "<keras.callbacks.History at 0x7ff861cc4080>"
      ]
     },
     "execution_count": 65,
     "metadata": {},
     "output_type": "execute_result"
    }
   ],
   "source": [
    "data = batch_gen(train_df, batch_size=BATCH_SIZE, article_length=ARTICLE_LENGTH)\n",
    "model_1.fit_generator(data, epochs=2, steps_per_epoch=250, \\\n",
    "                    validation_data=None, verbose=True)"
   ]
  },
  {
   "cell_type": "code",
   "execution_count": 66,
   "metadata": {
    "collapsed": false
   },
   "outputs": [
    {
     "name": "stdout",
     "output_type": "stream",
     "text": [
      "Epoch 1/2\n",
      "250/250 [==============================] - 159s 636ms/step - loss: 0.5920 - acc: 0.6739\n",
      "Epoch 2/2\n",
      "250/250 [==============================] - 141s 565ms/step - loss: 0.4151 - acc: 0.8216\n"
     ]
    },
    {
     "data": {
      "text/plain": [
       "<keras.callbacks.History at 0x7ff8628da630>"
      ]
     },
     "execution_count": 66,
     "metadata": {},
     "output_type": "execute_result"
    }
   ],
   "source": [
    "data = batch_gen(train_df, batch_size=BATCH_SIZE, article_length=ARTICLE_LENGTH)\n",
    "model_2.fit_generator(data, epochs=2, steps_per_epoch=250, \\\n",
    "                    validation_data=None, verbose=True)"
   ]
  },
  {
   "cell_type": "markdown",
   "metadata": {},
   "source": [
    "#### Look at predictions"
   ]
  },
  {
   "cell_type": "code",
   "execution_count": 67,
   "metadata": {
    "collapsed": false
   },
   "outputs": [
    {
     "data": {
      "text/plain": [
       "array([[ 0.9978168 ],\n",
       "       [ 0.99771464],\n",
       "       [ 0.06080681],\n",
       "       [ 0.9991371 ],\n",
       "       [ 0.41710827],\n",
       "       [ 0.00227717],\n",
       "       [ 0.99331832]], dtype=float32)"
      ]
     },
     "execution_count": 67,
     "metadata": {},
     "output_type": "execute_result"
    }
   ],
   "source": [
    "y_pred_1 = model_1.predict(x_test)\n",
    "y_pred_1[:7]"
   ]
  },
  {
   "cell_type": "code",
   "execution_count": 68,
   "metadata": {
    "collapsed": false
   },
   "outputs": [
    {
     "data": {
      "text/plain": [
       "array([[ 0.90293288],\n",
       "       [ 0.35094097],\n",
       "       [ 0.47305709],\n",
       "       [ 0.79048741],\n",
       "       [ 0.95655388],\n",
       "       [ 0.05289701],\n",
       "       [ 0.8803134 ]], dtype=float32)"
      ]
     },
     "execution_count": 68,
     "metadata": {},
     "output_type": "execute_result"
    }
   ],
   "source": [
    "y_pred_2 = model_2.predict(x_test)\n",
    "y_pred_2[:7]"
   ]
  },
  {
   "cell_type": "code",
   "execution_count": 70,
   "metadata": {
    "collapsed": false
   },
   "outputs": [
    {
     "name": "stdout",
     "output_type": "stream",
     "text": [
      "Threshold 0.25 \n",
      "F1 score model 1: 0.944 \n",
      "F1 score model 2: 0.71 \n",
      "\n",
      "Threshold 0.3 \n",
      "F1 score model 1: 0.964 \n",
      "F1 score model 2: 0.707 \n",
      "\n",
      "Threshold 0.35 \n",
      "F1 score model 1: 0.964 \n",
      "F1 score model 2: 0.699 \n",
      "\n",
      "Threshold 0.4 \n",
      "F1 score model 1: 0.957 \n",
      "F1 score model 2: 0.69 \n",
      "\n",
      "Threshold 0.45 \n",
      "F1 score model 1: 0.964 \n",
      "F1 score model 2: 0.681 \n",
      "\n",
      "Threshold 0.5 \n",
      "F1 score model 1: 0.964 \n",
      "F1 score model 2: 0.696 \n",
      "\n",
      "Threshold 0.55 \n",
      "F1 score model 1: 0.964 \n",
      "F1 score model 2: 0.686 \n",
      "\n",
      "Threshold 0.6 \n",
      "F1 score model 1: 0.964 \n",
      "F1 score model 2: 0.696 \n",
      "\n",
      "Threshold 0.65 \n",
      "F1 score model 1: 0.964 \n",
      "F1 score model 2: 0.687 \n",
      "\n",
      "Threshold 0.7 \n",
      "F1 score model 1: 0.971 \n",
      "F1 score model 2: 0.672 \n",
      "\n",
      "Threshold 0.75 \n",
      "F1 score model 1: 0.971 \n",
      "F1 score model 2: 0.436 \n",
      "\n"
     ]
    }
   ],
   "source": [
    "for i in np.arange(0.25, 0.8, 0.05):\n",
    "    res_1 = metrics.f1_score(y_test, y_pred_1 > i)\n",
    "    res_2 = metrics.f1_score(y_test, y_pred_2 > i)\n",
    "    print(\"Threshold {i} \\nF1 score model 1: {res_1} \\nF1 score model 2: {res_2} \\n\".format(\\\n",
    "                                                                                       i=round(i,2), \\\n",
    "                                                                                       res_1 = round(res_1, 3), \\\n",
    "                                                                                       res_2 = round(res_2, 3)))"
   ]
  },
  {
   "cell_type": "code",
   "execution_count": null,
   "metadata": {
    "collapsed": false
   },
   "outputs": [],
   "source": []
  }
 ],
 "metadata": {
  "kernelspec": {
   "display_name": "Python 3",
   "language": "python",
   "name": "python3"
  },
  "language_info": {
   "codemirror_mode": {
    "name": "ipython",
    "version": 3
   },
   "file_extension": ".py",
   "mimetype": "text/x-python",
   "name": "python",
   "nbconvert_exporter": "python",
   "pygments_lexer": "ipython3",
   "version": "3.5.4"
  }
 },
 "nbformat": 4,
 "nbformat_minor": 2
}
