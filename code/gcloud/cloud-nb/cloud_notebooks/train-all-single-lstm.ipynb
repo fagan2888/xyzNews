{
 "cells": [
  {
   "cell_type": "markdown",
   "metadata": {},
   "source": [
    "# Tokenize and Train\n",
    "\n",
    "### Author \n",
    "Stephen Lee\n",
    "\n",
    "### Goal\n",
    "Classify news source based on the article text. Training data: \n",
    "- Fox News\n",
    "- Vox News\n",
    "- PBS News\n",
    "\n",
    "### Date \n",
    "4.8.19"
   ]
  },
  {
   "cell_type": "markdown",
   "metadata": {},
   "source": [
    "## Read Data"
   ]
  },
  {
   "cell_type": "code",
   "execution_count": 3,
   "metadata": {
    "collapsed": false
   },
   "outputs": [
    {
     "name": "stderr",
     "output_type": "stream",
     "text": [
      "Using TensorFlow backend.\n",
      "/home/smlee_981/anaconda3/lib/python3.5/site-packages/sklearn/utils/fixes.py:313: FutureWarning: numpy not_equal will not check object identity in the future. The comparison did not return the same result as suggested by the identity (`is`)) and will change.\n",
      "  _nan_object_mask = _nan_object_array != _nan_object_array\n"
     ]
    }
   ],
   "source": [
    "from keras.preprocessing.text import Tokenizer \n",
    "from keras.preprocessing.sequence import pad_sequences \n",
    "from keras.models import Sequential\n",
    "from keras.layers import GRU, Dense, Bidirectional, LSTM, Activation\n",
    "from keras.utils import to_categorical\n",
    "\n",
    "import os \n",
    "import math \n",
    "import pandas as pd \n",
    "\n",
    "from sklearn.model_selection import train_test_split\n",
    "from sklearn import metrics"
   ]
  },
  {
   "cell_type": "code",
   "execution_count": 1,
   "metadata": {
    "collapsed": true
   },
   "outputs": [],
   "source": [
    "FOLDER_READ = '/home/smlee_981/data'\n",
    "FILE = 'clean_article_df.csv'\n",
    "ARTICLE_LENGTH = 500    # max length for an article"
   ]
  },
  {
   "cell_type": "code",
   "execution_count": 4,
   "metadata": {
    "collapsed": false
   },
   "outputs": [
    {
     "data": {
      "text/plain": [
       "'/home/smlee_981'"
      ]
     },
     "execution_count": 4,
     "metadata": {},
     "output_type": "execute_result"
    }
   ],
   "source": [
    "os.getcwd()"
   ]
  },
  {
   "cell_type": "code",
   "execution_count": 5,
   "metadata": {
    "collapsed": true
   },
   "outputs": [],
   "source": [
    "os.chdir(FOLDER_READ)"
   ]
  },
  {
   "cell_type": "code",
   "execution_count": 6,
   "metadata": {
    "collapsed": false
   },
   "outputs": [
    {
     "data": {
      "text/plain": [
       "['clean_article_df.csv', 'glove.840B.300d.txt']"
      ]
     },
     "execution_count": 6,
     "metadata": {},
     "output_type": "execute_result"
    }
   ],
   "source": [
    "os.listdir()"
   ]
  },
  {
   "cell_type": "code",
   "execution_count": 7,
   "metadata": {
    "collapsed": false
   },
   "outputs": [
    {
     "data": {
      "text/html": [
       "<div>\n",
       "<style scoped>\n",
       "    .dataframe tbody tr th:only-of-type {\n",
       "        vertical-align: middle;\n",
       "    }\n",
       "\n",
       "    .dataframe tbody tr th {\n",
       "        vertical-align: top;\n",
       "    }\n",
       "\n",
       "    .dataframe thead th {\n",
       "        text-align: right;\n",
       "    }\n",
       "</style>\n",
       "<table border=\"1\" class=\"dataframe\">\n",
       "  <thead>\n",
       "    <tr style=\"text-align: right;\">\n",
       "      <th></th>\n",
       "      <th>article id</th>\n",
       "      <th>source</th>\n",
       "      <th>clean_articles</th>\n",
       "      <th>targets</th>\n",
       "    </tr>\n",
       "  </thead>\n",
       "  <tbody>\n",
       "    <tr>\n",
       "      <th>0</th>\n",
       "      <td>fox_politics_166</td>\n",
       "      <td>Fox</td>\n",
       "      <td>&lt;br&gt;\\nFormer New Jersey Gov. Chris Christie sa...</td>\n",
       "      <td>2</td>\n",
       "    </tr>\n",
       "    <tr>\n",
       "      <th>1</th>\n",
       "      <td>fox_politics_390</td>\n",
       "      <td>Fox</td>\n",
       "      <td>FILE--In this July 28, 2016 file photo, Sen. B...</td>\n",
       "      <td>2</td>\n",
       "    </tr>\n",
       "    <tr>\n",
       "      <th>2</th>\n",
       "      <td>fox_politics_423</td>\n",
       "      <td>Fox</td>\n",
       "      <td>Howard Kurtz: How Michael Cohen, Democrats sto...</td>\n",
       "      <td>2</td>\n",
       "    </tr>\n",
       "    <tr>\n",
       "      <th>3</th>\n",
       "      <td>fox_politics_102</td>\n",
       "      <td>Fox</td>\n",
       "      <td>Student Union: Make UC Berkeley a sanctuary ca...</td>\n",
       "      <td>2</td>\n",
       "    </tr>\n",
       "    <tr>\n",
       "      <th>4</th>\n",
       "      <td>fox_politics_492</td>\n",
       "      <td>Fox</td>\n",
       "      <td>President Trump’s health care executive order:...</td>\n",
       "      <td>2</td>\n",
       "    </tr>\n",
       "  </tbody>\n",
       "</table>\n",
       "</div>"
      ],
      "text/plain": [
       "         article id source                                     clean_articles  \\\n",
       "0  fox_politics_166    Fox  <br>\\nFormer New Jersey Gov. Chris Christie sa...   \n",
       "1  fox_politics_390    Fox  FILE--In this July 28, 2016 file photo, Sen. B...   \n",
       "2  fox_politics_423    Fox  Howard Kurtz: How Michael Cohen, Democrats sto...   \n",
       "3  fox_politics_102    Fox  Student Union: Make UC Berkeley a sanctuary ca...   \n",
       "4  fox_politics_492    Fox  President Trump’s health care executive order:...   \n",
       "\n",
       "   targets  \n",
       "0        2  \n",
       "1        2  \n",
       "2        2  \n",
       "3        2  \n",
       "4        2  "
      ]
     },
     "execution_count": 7,
     "metadata": {},
     "output_type": "execute_result"
    }
   ],
   "source": [
    "df_all = pd.read_csv(FILE, sep='|').drop('Unnamed: 0', axis=1).drop('article', axis=1)\n",
    "df_all.head()"
   ]
  },
  {
   "cell_type": "markdown",
   "metadata": {},
   "source": [
    "#### Relabel targets from 0 - 2 for one-hot vectors"
   ]
  },
  {
   "cell_type": "code",
   "execution_count": 8,
   "metadata": {
    "collapsed": false
   },
   "outputs": [
    {
     "data": {
      "text/html": [
       "<div>\n",
       "<style scoped>\n",
       "    .dataframe tbody tr th:only-of-type {\n",
       "        vertical-align: middle;\n",
       "    }\n",
       "\n",
       "    .dataframe tbody tr th {\n",
       "        vertical-align: top;\n",
       "    }\n",
       "\n",
       "    .dataframe thead th {\n",
       "        text-align: right;\n",
       "    }\n",
       "</style>\n",
       "<table border=\"1\" class=\"dataframe\">\n",
       "  <thead>\n",
       "    <tr style=\"text-align: right;\">\n",
       "      <th></th>\n",
       "      <th>targets</th>\n",
       "    </tr>\n",
       "    <tr>\n",
       "      <th>source</th>\n",
       "      <th></th>\n",
       "    </tr>\n",
       "  </thead>\n",
       "  <tbody>\n",
       "    <tr>\n",
       "      <th>Fox</th>\n",
       "      <td>2</td>\n",
       "    </tr>\n",
       "    <tr>\n",
       "      <th>PBS</th>\n",
       "      <td>0</td>\n",
       "    </tr>\n",
       "    <tr>\n",
       "      <th>Vox</th>\n",
       "      <td>1</td>\n",
       "    </tr>\n",
       "  </tbody>\n",
       "</table>\n",
       "</div>"
      ],
      "text/plain": [
       "        targets\n",
       "source         \n",
       "Fox           2\n",
       "PBS           0\n",
       "Vox           1"
      ]
     },
     "execution_count": 8,
     "metadata": {},
     "output_type": "execute_result"
    }
   ],
   "source": [
    "df_all['targets'] = df_all['targets'].replace(3,0)\n",
    "df_all.groupby('source').mean()"
   ]
  },
  {
   "cell_type": "markdown",
   "metadata": {},
   "source": [
    "# MAKE DATASETS"
   ]
  },
  {
   "cell_type": "markdown",
   "metadata": {},
   "source": [
    "## First dataset\n",
    "#### Bootstrap data for balance"
   ]
  },
  {
   "cell_type": "code",
   "execution_count": 9,
   "metadata": {
    "collapsed": false
   },
   "outputs": [
    {
     "data": {
      "text/html": [
       "<div>\n",
       "<style scoped>\n",
       "    .dataframe tbody tr th:only-of-type {\n",
       "        vertical-align: middle;\n",
       "    }\n",
       "\n",
       "    .dataframe tbody tr th {\n",
       "        vertical-align: top;\n",
       "    }\n",
       "\n",
       "    .dataframe thead th {\n",
       "        text-align: right;\n",
       "    }\n",
       "</style>\n",
       "<table border=\"1\" class=\"dataframe\">\n",
       "  <thead>\n",
       "    <tr style=\"text-align: right;\">\n",
       "      <th></th>\n",
       "      <th>article id</th>\n",
       "      <th>clean_articles</th>\n",
       "      <th>targets</th>\n",
       "    </tr>\n",
       "    <tr>\n",
       "      <th>source</th>\n",
       "      <th></th>\n",
       "      <th></th>\n",
       "      <th></th>\n",
       "    </tr>\n",
       "  </thead>\n",
       "  <tbody>\n",
       "    <tr>\n",
       "      <th>Fox</th>\n",
       "      <td>661</td>\n",
       "      <td>661</td>\n",
       "      <td>661</td>\n",
       "    </tr>\n",
       "    <tr>\n",
       "      <th>PBS</th>\n",
       "      <td>1739</td>\n",
       "      <td>1739</td>\n",
       "      <td>1739</td>\n",
       "    </tr>\n",
       "    <tr>\n",
       "      <th>Vox</th>\n",
       "      <td>1027</td>\n",
       "      <td>1027</td>\n",
       "      <td>1027</td>\n",
       "    </tr>\n",
       "  </tbody>\n",
       "</table>\n",
       "</div>"
      ],
      "text/plain": [
       "        article id  clean_articles  targets\n",
       "source                                     \n",
       "Fox            661             661      661\n",
       "PBS           1739            1739     1739\n",
       "Vox           1027            1027     1027"
      ]
     },
     "execution_count": 9,
     "metadata": {},
     "output_type": "execute_result"
    }
   ],
   "source": [
    "df_all.groupby('source').count()"
   ]
  },
  {
   "cell_type": "markdown",
   "metadata": {},
   "source": [
    "#### Add more Fox and Vox"
   ]
  },
  {
   "cell_type": "code",
   "execution_count": 10,
   "metadata": {
    "collapsed": true
   },
   "outputs": [],
   "source": [
    "fox = df_all[df_all['source'] == 'Fox']\n",
    "vox = df_all[df_all['source'] == 'Vox']\n",
    "pbs = df_all[df_all['source'] == 'PBS']"
   ]
  },
  {
   "cell_type": "code",
   "execution_count": 11,
   "metadata": {
    "collapsed": false
   },
   "outputs": [
    {
     "data": {
      "text/html": [
       "<div>\n",
       "<style scoped>\n",
       "    .dataframe tbody tr th:only-of-type {\n",
       "        vertical-align: middle;\n",
       "    }\n",
       "\n",
       "    .dataframe tbody tr th {\n",
       "        vertical-align: top;\n",
       "    }\n",
       "\n",
       "    .dataframe thead th {\n",
       "        text-align: right;\n",
       "    }\n",
       "</style>\n",
       "<table border=\"1\" class=\"dataframe\">\n",
       "  <thead>\n",
       "    <tr style=\"text-align: right;\">\n",
       "      <th></th>\n",
       "      <th>article id</th>\n",
       "      <th>clean_articles</th>\n",
       "      <th>targets</th>\n",
       "    </tr>\n",
       "    <tr>\n",
       "      <th>source</th>\n",
       "      <th></th>\n",
       "      <th></th>\n",
       "      <th></th>\n",
       "    </tr>\n",
       "  </thead>\n",
       "  <tbody>\n",
       "    <tr>\n",
       "      <th>Fox</th>\n",
       "      <td>1739</td>\n",
       "      <td>1739</td>\n",
       "      <td>1739</td>\n",
       "    </tr>\n",
       "    <tr>\n",
       "      <th>PBS</th>\n",
       "      <td>1739</td>\n",
       "      <td>1739</td>\n",
       "      <td>1739</td>\n",
       "    </tr>\n",
       "    <tr>\n",
       "      <th>Vox</th>\n",
       "      <td>1739</td>\n",
       "      <td>1739</td>\n",
       "      <td>1739</td>\n",
       "    </tr>\n",
       "  </tbody>\n",
       "</table>\n",
       "</div>"
      ],
      "text/plain": [
       "        article id  clean_articles  targets\n",
       "source                                     \n",
       "Fox           1739            1739     1739\n",
       "PBS           1739            1739     1739\n",
       "Vox           1739            1739     1739"
      ]
     },
     "execution_count": 11,
     "metadata": {},
     "output_type": "execute_result"
    }
   ],
   "source": [
    "# start with the full dataset and append with \n",
    "# shorter targets\n",
    "pbs_fox_diff = len(pbs) - len(fox)\n",
    "pbs_vox_diff = len(pbs) - len(vox)\n",
    "\n",
    "fox_append = fox.sample(pbs_fox_diff, replace=True)\n",
    "vox_append = vox.sample(pbs_vox_diff)\n",
    "\n",
    "df_first = df_all.copy()\n",
    "df_first = df_first.append(fox_append, ignore_index=True)\n",
    "df_first = df_first.append(vox_append, ignore_index=True)\n",
    "df_first.groupby('source').count()"
   ]
  },
  {
   "cell_type": "markdown",
   "metadata": {},
   "source": [
    "## Second dataset\n",
    "#### Reduce to min (i.e. fox) for balance"
   ]
  },
  {
   "cell_type": "code",
   "execution_count": 12,
   "metadata": {
    "collapsed": false
   },
   "outputs": [
    {
     "data": {
      "text/html": [
       "<div>\n",
       "<style scoped>\n",
       "    .dataframe tbody tr th:only-of-type {\n",
       "        vertical-align: middle;\n",
       "    }\n",
       "\n",
       "    .dataframe tbody tr th {\n",
       "        vertical-align: top;\n",
       "    }\n",
       "\n",
       "    .dataframe thead th {\n",
       "        text-align: right;\n",
       "    }\n",
       "</style>\n",
       "<table border=\"1\" class=\"dataframe\">\n",
       "  <thead>\n",
       "    <tr style=\"text-align: right;\">\n",
       "      <th></th>\n",
       "      <th>article id</th>\n",
       "      <th>clean_articles</th>\n",
       "      <th>targets</th>\n",
       "    </tr>\n",
       "    <tr>\n",
       "      <th>source</th>\n",
       "      <th></th>\n",
       "      <th></th>\n",
       "      <th></th>\n",
       "    </tr>\n",
       "  </thead>\n",
       "  <tbody>\n",
       "    <tr>\n",
       "      <th>Fox</th>\n",
       "      <td>661</td>\n",
       "      <td>661</td>\n",
       "      <td>661</td>\n",
       "    </tr>\n",
       "    <tr>\n",
       "      <th>PBS</th>\n",
       "      <td>1739</td>\n",
       "      <td>1739</td>\n",
       "      <td>1739</td>\n",
       "    </tr>\n",
       "    <tr>\n",
       "      <th>Vox</th>\n",
       "      <td>1027</td>\n",
       "      <td>1027</td>\n",
       "      <td>1027</td>\n",
       "    </tr>\n",
       "  </tbody>\n",
       "</table>\n",
       "</div>"
      ],
      "text/plain": [
       "        article id  clean_articles  targets\n",
       "source                                     \n",
       "Fox            661             661      661\n",
       "PBS           1739            1739     1739\n",
       "Vox           1027            1027     1027"
      ]
     },
     "execution_count": 12,
     "metadata": {},
     "output_type": "execute_result"
    }
   ],
   "source": [
    "df_all.groupby('source').count()"
   ]
  },
  {
   "cell_type": "markdown",
   "metadata": {},
   "source": [
    "#### Sample from PBS and Vox"
   ]
  },
  {
   "cell_type": "code",
   "execution_count": 13,
   "metadata": {
    "collapsed": false,
    "scrolled": true
   },
   "outputs": [
    {
     "data": {
      "text/html": [
       "<div>\n",
       "<style scoped>\n",
       "    .dataframe tbody tr th:only-of-type {\n",
       "        vertical-align: middle;\n",
       "    }\n",
       "\n",
       "    .dataframe tbody tr th {\n",
       "        vertical-align: top;\n",
       "    }\n",
       "\n",
       "    .dataframe thead th {\n",
       "        text-align: right;\n",
       "    }\n",
       "</style>\n",
       "<table border=\"1\" class=\"dataframe\">\n",
       "  <thead>\n",
       "    <tr style=\"text-align: right;\">\n",
       "      <th></th>\n",
       "      <th>article id</th>\n",
       "      <th>clean_articles</th>\n",
       "      <th>targets</th>\n",
       "    </tr>\n",
       "    <tr>\n",
       "      <th>source</th>\n",
       "      <th></th>\n",
       "      <th></th>\n",
       "      <th></th>\n",
       "    </tr>\n",
       "  </thead>\n",
       "  <tbody>\n",
       "    <tr>\n",
       "      <th>Fox</th>\n",
       "      <td>661</td>\n",
       "      <td>661</td>\n",
       "      <td>661</td>\n",
       "    </tr>\n",
       "    <tr>\n",
       "      <th>PBS</th>\n",
       "      <td>661</td>\n",
       "      <td>661</td>\n",
       "      <td>661</td>\n",
       "    </tr>\n",
       "    <tr>\n",
       "      <th>Vox</th>\n",
       "      <td>661</td>\n",
       "      <td>661</td>\n",
       "      <td>661</td>\n",
       "    </tr>\n",
       "  </tbody>\n",
       "</table>\n",
       "</div>"
      ],
      "text/plain": [
       "        article id  clean_articles  targets\n",
       "source                                     \n",
       "Fox            661             661      661\n",
       "PBS            661             661      661\n",
       "Vox            661             661      661"
      ]
     },
     "execution_count": 13,
     "metadata": {},
     "output_type": "execute_result"
    }
   ],
   "source": [
    "# start with the smallest dataset and \n",
    "# sample from larger sets\n",
    "len_fox = len(fox)\n",
    "\n",
    "df_second = fox.copy()\n",
    "df_second = df_second.append(pbs.sample(len_fox), ignore_index=True)\n",
    "df_second = df_second.append(vox.sample(len_fox), ignore_index=True)\n",
    "df_second.groupby('source').count()"
   ]
  },
  {
   "cell_type": "markdown",
   "metadata": {},
   "source": [
    "## Get Embeddings, Build Functions"
   ]
  },
  {
   "cell_type": "code",
   "execution_count": 14,
   "metadata": {
    "collapsed": false
   },
   "outputs": [],
   "source": [
    "from tqdm import tqdm\n",
    "import numpy as np"
   ]
  },
  {
   "cell_type": "code",
   "execution_count": 15,
   "metadata": {
    "collapsed": false
   },
   "outputs": [
    {
     "name": "stderr",
     "output_type": "stream",
     "text": [
      "2196017it [03:06, 11772.23it/s]"
     ]
    },
    {
     "name": "stdout",
     "output_type": "stream",
     "text": [
      "Found 2196016 word vectors\n"
     ]
    },
    {
     "name": "stderr",
     "output_type": "stream",
     "text": [
      "\n"
     ]
    }
   ],
   "source": [
    "# glove embeddings and data are in same folder\n",
    "\n",
    "EMBEDS = 'glove.840B.300d.txt'\n",
    "\n",
    "embeddings_index = {}\n",
    " \n",
    "with open(EMBEDS, encoding='utf8') as embed:\n",
    "    for line in tqdm(embed):\n",
    "        values = line.split(' ')\n",
    "        word = values[0]\n",
    "        coefs = np.asarray(values[1:], dtype='float32')\n",
    "        embeddings_index[word] = coefs\n",
    "        \n",
    "print(\"Found {n} word vectors\".format(n=len(embeddings_index)))"
   ]
  },
  {
   "cell_type": "code",
   "execution_count": 16,
   "metadata": {
    "collapsed": true
   },
   "outputs": [],
   "source": [
    "def target_to_one_hot(target, num_classes=3):\n",
    "    return to_categorical(target, num_classes=num_classes)"
   ]
  },
  {
   "cell_type": "code",
   "execution_count": 17,
   "metadata": {
    "collapsed": true
   },
   "outputs": [],
   "source": [
    "def text_to_array(text, article_length=500):\n",
    "    empty_emb = np.zeros(300)                   # each word is represented by a length 300 vector\n",
    "    text = text[:-1].split()[:article_length]   # each article is length 500\n",
    "    \n",
    "    # look for word embedding, return zero array otherwise. \n",
    "    embeds = [embeddings_index.get(x, empty_emb) for x in text]\n",
    "    embeds += [empty_emb] * (article_length - len(embeds))\n",
    "    return np.array(embeds)"
   ]
  },
  {
   "cell_type": "code",
   "execution_count": 18,
   "metadata": {
    "collapsed": true
   },
   "outputs": [],
   "source": [
    "def batch_gen(train_df, batch_size=64, article_length=500, num_classes=3):\n",
    "    n = math.ceil(len(train_df) / batch_size)\n",
    "    while True: \n",
    "        train_df = train_df.sample(frac=1.0)\n",
    "        \n",
    "        for i in range(n):\n",
    "            texts = train_df['clean_articles'][i*batch_size: (i+1)*batch_size]\n",
    "            targets = train_df['targets'][i*batch_size: (i+1)*batch_size]\n",
    "            \n",
    "            targets = np.array([target_to_one_hot(t, num_classes) for t in targets])\n",
    "            text_arr = np.array([text_to_array(text, article_length=article_length) for text in texts])\n",
    "            yield text_arr, targets"
   ]
  },
  {
   "cell_type": "markdown",
   "metadata": {},
   "source": [
    "# Train Dataset 1\n",
    "\n",
    "### Define Models\n",
    "\n",
    "#### Model 1: Bidirectional LSTM"
   ]
  },
  {
   "cell_type": "code",
   "execution_count": 19,
   "metadata": {
    "collapsed": true
   },
   "outputs": [],
   "source": [
    "ARTICLE_LENGTH = 500\n",
    "BATCH_SIZE = 64\n",
    "DROPOUT = 0.2\n",
    "REC_DROPOUT = 0.1"
   ]
  },
  {
   "cell_type": "code",
   "execution_count": 26,
   "metadata": {
    "collapsed": false
   },
   "outputs": [
    {
     "name": "stdout",
     "output_type": "stream",
     "text": [
      "_________________________________________________________________\n",
      "Layer (type)                 Output Shape              Param #   \n",
      "=================================================================\n",
      "bidirectional_2 (Bidirection (None, 64)                85248     \n",
      "_________________________________________________________________\n",
      "activation_3 (Activation)    (None, 64)                0         \n",
      "_________________________________________________________________\n",
      "dense_3 (Dense)              (None, 3)                 195       \n",
      "=================================================================\n",
      "Total params: 85,443\n",
      "Trainable params: 85,443\n",
      "Non-trainable params: 0\n",
      "_________________________________________________________________\n"
     ]
    }
   ],
   "source": [
    "# SINGLE LAYER BIDIRECTIONAL LTSM\n",
    "# \n",
    "# note...\n",
    "#\n",
    "#      batch_size         -> words per batch\n",
    "#      article_length     -> words per article\n",
    "#      embed_length       -> vector length per word\n",
    "\n",
    "input_shape = (ARTICLE_LENGTH, 300)\n",
    "lstm_in = int(BATCH_SIZE/2)\n",
    "\n",
    "model_1 = Sequential()\n",
    "model_1.add(Bidirectional(LSTM(lstm_in, return_sequences=False, \\\n",
    "                        dropout=DROPOUT, recurrent_dropout=REC_DROPOUT), \\\n",
    "                        input_shape=input_shape))\n",
    "\n",
    "model_1.add(Activation('relu'))\n",
    "#model.add(Bidirectional(LSTM(lstm_in)))\n",
    "\n",
    "model_1.add(Dense(3, activation=\"sigmoid\"))\n",
    "model_1.compile(loss=\"binary_crossentropy\", \\\n",
    "              optimizer=\"adam\", \\\n",
    "              metrics=[\"accuracy\"])\n",
    "\n",
    "model_1.summary()"
   ]
  },
  {
   "cell_type": "markdown",
   "metadata": {},
   "source": [
    "#### Model 2: Regular LSTM"
   ]
  },
  {
   "cell_type": "code",
   "execution_count": 27,
   "metadata": {
    "collapsed": false
   },
   "outputs": [
    {
     "name": "stdout",
     "output_type": "stream",
     "text": [
      "_________________________________________________________________\n",
      "Layer (type)                 Output Shape              Param #   \n",
      "=================================================================\n",
      "lstm_4 (LSTM)                (None, 64)                93440     \n",
      "_________________________________________________________________\n",
      "activation_4 (Activation)    (None, 64)                0         \n",
      "_________________________________________________________________\n",
      "dense_4 (Dense)              (None, 3)                 195       \n",
      "=================================================================\n",
      "Total params: 93,635\n",
      "Trainable params: 93,635\n",
      "Non-trainable params: 0\n",
      "_________________________________________________________________\n"
     ]
    }
   ],
   "source": [
    "# SINGLE LAYER LTSM\n",
    "# \n",
    "# note...\n",
    "#\n",
    "#      batch_size         -> words per batch\n",
    "#      article_length     -> words per article\n",
    "#      embed_length       -> vector length per word\n",
    "\n",
    "input_shape = (ARTICLE_LENGTH, 300)\n",
    "lstm_in = int(BATCH_SIZE)\n",
    "\n",
    "model_2 = Sequential()\n",
    "model_2.add(LSTM(lstm_in, return_sequences=False, dropout=DROPOUT, \\\n",
    "                 recurrent_dropout=REC_DROPOUT, input_shape=input_shape))\n",
    "\n",
    "model_2.add(Activation('relu'))\n",
    "\n",
    "model_2.add(Dense(3, activation=\"sigmoid\"))\n",
    "model_2.compile(loss=\"binary_crossentropy\", \\\n",
    "              optimizer=\"adam\", \\\n",
    "              metrics=[\"accuracy\"])\n",
    "\n",
    "model_2.summary()"
   ]
  },
  {
   "cell_type": "markdown",
   "metadata": {},
   "source": [
    "#### Split into test and training"
   ]
  },
  {
   "cell_type": "code",
   "execution_count": 28,
   "metadata": {
    "collapsed": false
   },
   "outputs": [
    {
     "data": {
      "text/html": [
       "<div>\n",
       "<style scoped>\n",
       "    .dataframe tbody tr th:only-of-type {\n",
       "        vertical-align: middle;\n",
       "    }\n",
       "\n",
       "    .dataframe tbody tr th {\n",
       "        vertical-align: top;\n",
       "    }\n",
       "\n",
       "    .dataframe thead tr th {\n",
       "        text-align: left;\n",
       "    }\n",
       "\n",
       "    .dataframe thead tr:last-of-type th {\n",
       "        text-align: right;\n",
       "    }\n",
       "</style>\n",
       "<table border=\"1\" class=\"dataframe\">\n",
       "  <thead>\n",
       "    <tr>\n",
       "      <th></th>\n",
       "      <th colspan=\"8\" halign=\"left\">targets</th>\n",
       "    </tr>\n",
       "    <tr>\n",
       "      <th></th>\n",
       "      <th>count</th>\n",
       "      <th>mean</th>\n",
       "      <th>std</th>\n",
       "      <th>min</th>\n",
       "      <th>25%</th>\n",
       "      <th>50%</th>\n",
       "      <th>75%</th>\n",
       "      <th>max</th>\n",
       "    </tr>\n",
       "    <tr>\n",
       "      <th>source</th>\n",
       "      <th></th>\n",
       "      <th></th>\n",
       "      <th></th>\n",
       "      <th></th>\n",
       "      <th></th>\n",
       "      <th></th>\n",
       "      <th></th>\n",
       "      <th></th>\n",
       "    </tr>\n",
       "  </thead>\n",
       "  <tbody>\n",
       "    <tr>\n",
       "      <th>Fox</th>\n",
       "      <td>1575.0</td>\n",
       "      <td>2.0</td>\n",
       "      <td>0.0</td>\n",
       "      <td>2.0</td>\n",
       "      <td>2.0</td>\n",
       "      <td>2.0</td>\n",
       "      <td>2.0</td>\n",
       "      <td>2.0</td>\n",
       "    </tr>\n",
       "    <tr>\n",
       "      <th>PBS</th>\n",
       "      <td>1562.0</td>\n",
       "      <td>0.0</td>\n",
       "      <td>0.0</td>\n",
       "      <td>0.0</td>\n",
       "      <td>0.0</td>\n",
       "      <td>0.0</td>\n",
       "      <td>0.0</td>\n",
       "      <td>0.0</td>\n",
       "    </tr>\n",
       "    <tr>\n",
       "      <th>Vox</th>\n",
       "      <td>1558.0</td>\n",
       "      <td>1.0</td>\n",
       "      <td>0.0</td>\n",
       "      <td>1.0</td>\n",
       "      <td>1.0</td>\n",
       "      <td>1.0</td>\n",
       "      <td>1.0</td>\n",
       "      <td>1.0</td>\n",
       "    </tr>\n",
       "  </tbody>\n",
       "</table>\n",
       "</div>"
      ],
      "text/plain": [
       "       targets                                   \n",
       "         count mean  std  min  25%  50%  75%  max\n",
       "source                                           \n",
       "Fox     1575.0  2.0  0.0  2.0  2.0  2.0  2.0  2.0\n",
       "PBS     1562.0  0.0  0.0  0.0  0.0  0.0  0.0  0.0\n",
       "Vox     1558.0  1.0  0.0  1.0  1.0  1.0  1.0  1.0"
      ]
     },
     "execution_count": 28,
     "metadata": {},
     "output_type": "execute_result"
    }
   ],
   "source": [
    "train_df, test_df = train_test_split(df_first, test_size=0.1)\n",
    "train_df.groupby('source').describe()"
   ]
  },
  {
   "cell_type": "markdown",
   "metadata": {},
   "source": [
    "#### Check for similarity between test and training"
   ]
  },
  {
   "cell_type": "code",
   "execution_count": 29,
   "metadata": {
    "collapsed": false
   },
   "outputs": [
    {
     "data": {
      "text/html": [
       "<div>\n",
       "<style scoped>\n",
       "    .dataframe tbody tr th:only-of-type {\n",
       "        vertical-align: middle;\n",
       "    }\n",
       "\n",
       "    .dataframe tbody tr th {\n",
       "        vertical-align: top;\n",
       "    }\n",
       "\n",
       "    .dataframe thead tr th {\n",
       "        text-align: left;\n",
       "    }\n",
       "\n",
       "    .dataframe thead tr:last-of-type th {\n",
       "        text-align: right;\n",
       "    }\n",
       "</style>\n",
       "<table border=\"1\" class=\"dataframe\">\n",
       "  <thead>\n",
       "    <tr>\n",
       "      <th></th>\n",
       "      <th colspan=\"8\" halign=\"left\">targets</th>\n",
       "    </tr>\n",
       "    <tr>\n",
       "      <th></th>\n",
       "      <th>count</th>\n",
       "      <th>mean</th>\n",
       "      <th>std</th>\n",
       "      <th>min</th>\n",
       "      <th>25%</th>\n",
       "      <th>50%</th>\n",
       "      <th>75%</th>\n",
       "      <th>max</th>\n",
       "    </tr>\n",
       "    <tr>\n",
       "      <th>source</th>\n",
       "      <th></th>\n",
       "      <th></th>\n",
       "      <th></th>\n",
       "      <th></th>\n",
       "      <th></th>\n",
       "      <th></th>\n",
       "      <th></th>\n",
       "      <th></th>\n",
       "    </tr>\n",
       "  </thead>\n",
       "  <tbody>\n",
       "    <tr>\n",
       "      <th>Fox</th>\n",
       "      <td>164.0</td>\n",
       "      <td>2.0</td>\n",
       "      <td>0.0</td>\n",
       "      <td>2.0</td>\n",
       "      <td>2.0</td>\n",
       "      <td>2.0</td>\n",
       "      <td>2.0</td>\n",
       "      <td>2.0</td>\n",
       "    </tr>\n",
       "    <tr>\n",
       "      <th>PBS</th>\n",
       "      <td>177.0</td>\n",
       "      <td>0.0</td>\n",
       "      <td>0.0</td>\n",
       "      <td>0.0</td>\n",
       "      <td>0.0</td>\n",
       "      <td>0.0</td>\n",
       "      <td>0.0</td>\n",
       "      <td>0.0</td>\n",
       "    </tr>\n",
       "    <tr>\n",
       "      <th>Vox</th>\n",
       "      <td>181.0</td>\n",
       "      <td>1.0</td>\n",
       "      <td>0.0</td>\n",
       "      <td>1.0</td>\n",
       "      <td>1.0</td>\n",
       "      <td>1.0</td>\n",
       "      <td>1.0</td>\n",
       "      <td>1.0</td>\n",
       "    </tr>\n",
       "  </tbody>\n",
       "</table>\n",
       "</div>"
      ],
      "text/plain": [
       "       targets                                   \n",
       "         count mean  std  min  25%  50%  75%  max\n",
       "source                                           \n",
       "Fox      164.0  2.0  0.0  2.0  2.0  2.0  2.0  2.0\n",
       "PBS      177.0  0.0  0.0  0.0  0.0  0.0  0.0  0.0\n",
       "Vox      181.0  1.0  0.0  1.0  1.0  1.0  1.0  1.0"
      ]
     },
     "execution_count": 29,
     "metadata": {},
     "output_type": "execute_result"
    }
   ],
   "source": [
    "test_df.groupby('source').describe()"
   ]
  },
  {
   "cell_type": "markdown",
   "metadata": {},
   "source": [
    "#### Prepare test set for validation"
   ]
  },
  {
   "cell_type": "code",
   "execution_count": 30,
   "metadata": {
    "collapsed": false,
    "scrolled": true
   },
   "outputs": [
    {
     "name": "stderr",
     "output_type": "stream",
     "text": [
      "100%|██████████| 522/522 [00:00<00:00, 658.03it/s]\n",
      "100%|██████████| 522/522 [00:00<00:00, 53490.67it/s]\n"
     ]
    }
   ],
   "source": [
    "# witheld for validation\n",
    " \n",
    "x_test = np.array([text_to_array(x, article_length=ARTICLE_LENGTH) \\\n",
    "                          for x in tqdm(test_df[\"clean_articles\"])])\n",
    "y_test = np.array([target_to_one_hot(t) for t in tqdm(test_df[\"targets\"])])"
   ]
  },
  {
   "cell_type": "markdown",
   "metadata": {},
   "source": [
    "#### Train"
   ]
  },
  {
   "cell_type": "code",
   "execution_count": null,
   "metadata": {
    "collapsed": false
   },
   "outputs": [
    {
     "name": "stdout",
     "output_type": "stream",
     "text": [
      "Epoch 1/2\n",
      "161/500 [========>.....................] - ETA: 4:14 - loss: 0.1820 - acc: 0.9343"
     ]
    }
   ],
   "source": [
    "data = batch_gen(train_df, batch_size=BATCH_SIZE, article_length=ARTICLE_LENGTH)\n",
    "model_1.fit_generator(data, epochs=2, steps_per_epoch=500, \\\n",
    "                      validation_data=None, verbose=True)"
   ]
  },
  {
   "cell_type": "code",
   "execution_count": null,
   "metadata": {
    "collapsed": false
   },
   "outputs": [],
   "source": [
    "model_2.fit_generator(data, epochs=2, steps_per_epoch=500, \\\n",
    "                      validation_data=None, verbose=True)"
   ]
  },
  {
   "cell_type": "markdown",
   "metadata": {},
   "source": [
    "#### Look at predictions"
   ]
  },
  {
   "cell_type": "code",
   "execution_count": 34,
   "metadata": {
    "collapsed": false
   },
   "outputs": [
    {
     "data": {
      "text/plain": [
       "array([[ 0.14582711,  0.89899731,  0.01299682],\n",
       "       [ 0.06213471,  0.92457575,  0.01566279],\n",
       "       [ 0.09577557,  0.77901024,  0.15444529],\n",
       "       [ 0.18759233,  0.69716638,  0.02712774],\n",
       "       [ 0.50319964,  0.03062788,  0.47726333]], dtype=float32)"
      ]
     },
     "execution_count": 34,
     "metadata": {},
     "output_type": "execute_result"
    }
   ],
   "source": [
    "y_pred_1 = model_1.predict(x_test, batch_size=BATCH_SIZE)\n",
    "y_pred_class_1 = np.argmax(y_pred_1, axis=1)\n",
    "y_pred_one_hot_1 = to_categorical(y_pred_class_1, num_classes=3)\n",
    "y_pred_1[0:5]"
   ]
  },
  {
   "cell_type": "code",
   "execution_count": 35,
   "metadata": {
    "collapsed": false
   },
   "outputs": [
    {
     "data": {
      "text/plain": [
       "array([[ 0.35714245,  0.24999118,  0.36904681],\n",
       "       [ 0.41697901,  0.24259883,  0.38628492],\n",
       "       [ 0.45707053,  0.48080242,  0.4636448 ],\n",
       "       [ 0.43490097,  0.20910415,  0.36009645],\n",
       "       [ 0.51947153,  0.08273306,  0.37040639]], dtype=float32)"
      ]
     },
     "execution_count": 35,
     "metadata": {},
     "output_type": "execute_result"
    }
   ],
   "source": [
    "y_pred_2 = model_2.predict(x_test, batch_size=BATCH_SIZE)\n",
    "y_pred_class_2 = np.argmax(y_pred_2, axis=1)\n",
    "y_pred_one_hot_2 = to_categorical(y_pred_class_2, num_classes=3)\n",
    "y_pred_2[0:5]"
   ]
  },
  {
   "cell_type": "code",
   "execution_count": 36,
   "metadata": {
    "collapsed": false
   },
   "outputs": [
    {
     "data": {
      "text/html": [
       "<div>\n",
       "<style scoped>\n",
       "    .dataframe tbody tr th:only-of-type {\n",
       "        vertical-align: middle;\n",
       "    }\n",
       "\n",
       "    .dataframe tbody tr th {\n",
       "        vertical-align: top;\n",
       "    }\n",
       "\n",
       "    .dataframe thead th {\n",
       "        text-align: right;\n",
       "    }\n",
       "</style>\n",
       "<table border=\"1\" class=\"dataframe\">\n",
       "  <thead>\n",
       "    <tr style=\"text-align: right;\">\n",
       "      <th></th>\n",
       "      <th>source</th>\n",
       "      <th>clean_articles</th>\n",
       "      <th>targets</th>\n",
       "    </tr>\n",
       "  </thead>\n",
       "  <tbody>\n",
       "    <tr>\n",
       "      <th>2734</th>\n",
       "      <td>PBS</td>\n",
       "      <td>Congress appears headed towards a government s...</td>\n",
       "      <td>0</td>\n",
       "    </tr>\n",
       "    <tr>\n",
       "      <th>1599</th>\n",
       "      <td>Vox</td>\n",
       "      <td>The Trump administration is paving the road fo...</td>\n",
       "      <td>1</td>\n",
       "    </tr>\n",
       "    <tr>\n",
       "      <th>5129</th>\n",
       "      <td>Vox</td>\n",
       "      <td>Warren Buffett’s multinational conglomerate, B...</td>\n",
       "      <td>1</td>\n",
       "    </tr>\n",
       "    <tr>\n",
       "      <th>5118</th>\n",
       "      <td>Vox</td>\n",
       "      <td>Donald Trump won the 2016 presidential electio...</td>\n",
       "      <td>1</td>\n",
       "    </tr>\n",
       "    <tr>\n",
       "      <th>2424</th>\n",
       "      <td>PBS</td>\n",
       "      <td>Democratic Sen. Cory Booker of New Jersey says...</td>\n",
       "      <td>0</td>\n",
       "    </tr>\n",
       "  </tbody>\n",
       "</table>\n",
       "</div>"
      ],
      "text/plain": [
       "     source                                     clean_articles  targets\n",
       "2734    PBS  Congress appears headed towards a government s...        0\n",
       "1599    Vox  The Trump administration is paving the road fo...        1\n",
       "5129    Vox  Warren Buffett’s multinational conglomerate, B...        1\n",
       "5118    Vox  Donald Trump won the 2016 presidential electio...        1\n",
       "2424    PBS  Democratic Sen. Cory Booker of New Jersey says...        0"
      ]
     },
     "execution_count": 36,
     "metadata": {},
     "output_type": "execute_result"
    }
   ],
   "source": [
    "test_df[['source', 'clean_articles', 'targets']].head()"
   ]
  },
  {
   "cell_type": "code",
   "execution_count": 37,
   "metadata": {
    "collapsed": false
   },
   "outputs": [
    {
     "name": "stdout",
     "output_type": "stream",
     "text": [
      "F1 score model 1: 0.8869731800766284 \n",
      "F1 score model 2: 0.5172413793103449\n"
     ]
    }
   ],
   "source": [
    "res_1 = metrics.f1_score(y_test, y_pred_one_hot_1, average='micro')\n",
    "res_2 = metrics.f1_score(y_test, y_pred_one_hot_2, average='micro')\n",
    "print(\"F1 score model 1: {res_1} \\nF1 score model 2: {res_2}\".format(res_1=res_1, \n",
    "                                                                     res_2=res_2))"
   ]
  },
  {
   "cell_type": "markdown",
   "metadata": {},
   "source": [
    "## Train Dataset 2\n",
    "\n",
    "### Refresh Models\n",
    "\n",
    "#### Model 1: Bidirectional LSTM"
   ]
  },
  {
   "cell_type": "code",
   "execution_count": 25,
   "metadata": {
    "collapsed": false
   },
   "outputs": [
    {
     "name": "stdout",
     "output_type": "stream",
     "text": [
      "_________________________________________________________________\n",
      "Layer (type)                 Output Shape              Param #   \n",
      "=================================================================\n",
      "bidirectional_1 (Bidirection (None, 64)                85248     \n",
      "_________________________________________________________________\n",
      "activation_1 (Activation)    (None, 64)                0         \n",
      "_________________________________________________________________\n",
      "dense_1 (Dense)              (None, 3)                 195       \n",
      "=================================================================\n",
      "Total params: 85,443\n",
      "Trainable params: 85,443\n",
      "Non-trainable params: 0\n",
      "_________________________________________________________________\n"
     ]
    }
   ],
   "source": [
    "# SINGLE LAYER BIDIRECTIONAL LTSM\n",
    "# \n",
    "# note...\n",
    "#\n",
    "#      batch_size         -> words per batch\n",
    "#      article_length     -> words per article\n",
    "#      embed_length       -> vector length per word\n",
    "\n",
    "input_shape = (ARTICLE_LENGTH, 300)\n",
    "lstm_in = int(BATCH_SIZE/2)\n",
    "\n",
    "model_1 = Sequential()\n",
    "model_1.add(Bidirectional(LSTM(lstm_in, return_sequences=False, \\\n",
    "                        dropout=DROPOUT, recurrent_dropout=REC_DROPOUT), \\\n",
    "                        input_shape=input_shape))\n",
    "\n",
    "model_1.add(Activation('relu'))\n",
    "#model.add(Bidirectional(LSTM(lstm_in)))\n",
    "\n",
    "model_1.add(Dense(1, activation=\"sigmoid\"))\n",
    "model_1.compile(loss=\"binary_crossentropy\", \\\n",
    "              optimizer=\"adam\", \\\n",
    "              metrics=[\"accuracy\"])\n",
    "\n",
    "model_1.summary()"
   ]
  },
  {
   "cell_type": "markdown",
   "metadata": {},
   "source": [
    "#### Model 2: Regular LSTM"
   ]
  },
  {
   "cell_type": "code",
   "execution_count": 25,
   "metadata": {
    "collapsed": false
   },
   "outputs": [
    {
     "name": "stdout",
     "output_type": "stream",
     "text": [
      "_________________________________________________________________\n",
      "Layer (type)                 Output Shape              Param #   \n",
      "=================================================================\n",
      "bidirectional_1 (Bidirection (None, 64)                85248     \n",
      "_________________________________________________________________\n",
      "activation_1 (Activation)    (None, 64)                0         \n",
      "_________________________________________________________________\n",
      "dense_1 (Dense)              (None, 3)                 195       \n",
      "=================================================================\n",
      "Total params: 85,443\n",
      "Trainable params: 85,443\n",
      "Non-trainable params: 0\n",
      "_________________________________________________________________\n"
     ]
    }
   ],
   "source": [
    "# SINGLE LAYER LTSM\n",
    "# \n",
    "# note...\n",
    "#\n",
    "#      batch_size         -> words per batch\n",
    "#      article_length     -> words per article\n",
    "#      embed_length       -> vector length per word\n",
    "\n",
    "input_shape = (ARTICLE_LENGTH, 300)\n",
    "lstm_in = int(BATCH_SIZE)\n",
    "\n",
    "model_2 = Sequential()\n",
    "model_2.add(LSTM(lstm_in, return_sequences=False, dropout=DROPOUT, \\\n",
    "                 recurrent_dropout=REC_DROPOUT, input_shape=input_shape))\n",
    "\n",
    "model_2.add(Activation('relu'))\n",
    "\n",
    "model_2.add(Dense(1, activation=\"sigmoid\"))\n",
    "model_2.compile(loss=\"binary_crossentropy\", \\\n",
    "              optimizer=\"adam\", \\\n",
    "              metrics=[\"accuracy\"])\n",
    "\n",
    "model_2.summary()"
   ]
  },
  {
   "cell_type": "markdown",
   "metadata": {},
   "source": [
    "#### Split into test and training"
   ]
  },
  {
   "cell_type": "code",
   "execution_count": 14,
   "metadata": {
    "collapsed": false
   },
   "outputs": [
    {
     "data": {
      "text/html": [
       "<div>\n",
       "<style scoped>\n",
       "    .dataframe tbody tr th:only-of-type {\n",
       "        vertical-align: middle;\n",
       "    }\n",
       "\n",
       "    .dataframe tbody tr th {\n",
       "        vertical-align: top;\n",
       "    }\n",
       "\n",
       "    .dataframe thead th {\n",
       "        text-align: right;\n",
       "    }\n",
       "</style>\n",
       "<table border=\"1\" class=\"dataframe\">\n",
       "  <thead>\n",
       "    <tr style=\"text-align: right;\">\n",
       "      <th></th>\n",
       "      <th>article id</th>\n",
       "      <th>source</th>\n",
       "      <th>clean_articles</th>\n",
       "      <th>targets</th>\n",
       "    </tr>\n",
       "  </thead>\n",
       "  <tbody>\n",
       "    <tr>\n",
       "      <th>4571</th>\n",
       "      <td>vox_politics_1803</td>\n",
       "      <td>Vox</td>\n",
       "      <td>On January 31, Reuters released a survey that ...</td>\n",
       "      <td>1</td>\n",
       "    </tr>\n",
       "    <tr>\n",
       "      <th>4889</th>\n",
       "      <td>vox_politics_246</td>\n",
       "      <td>Vox</td>\n",
       "      <td>Sen. Elizabeth Warren (D-MA) isn’t ready to ce...</td>\n",
       "      <td>1</td>\n",
       "    </tr>\n",
       "    <tr>\n",
       "      <th>4160</th>\n",
       "      <td>fox_politics_890</td>\n",
       "      <td>Fox</td>\n",
       "      <td>Michael Cohen testifies behind closed doors on...</td>\n",
       "      <td>2</td>\n",
       "    </tr>\n",
       "    <tr>\n",
       "      <th>2916</th>\n",
       "      <td>pbs_politics_777</td>\n",
       "      <td>PBS</td>\n",
       "      <td>Democratic senators plan to press Attorney G...</td>\n",
       "      <td>0</td>\n",
       "    </tr>\n",
       "    <tr>\n",
       "      <th>4747</th>\n",
       "      <td>vox_politics_1931</td>\n",
       "      <td>Vox</td>\n",
       "      <td>Buried in Republicans’ tax bill, in a provisio...</td>\n",
       "      <td>1</td>\n",
       "    </tr>\n",
       "  </tbody>\n",
       "</table>\n",
       "</div>"
      ],
      "text/plain": [
       "             article id source  \\\n",
       "4571  vox_politics_1803    Vox   \n",
       "4889   vox_politics_246    Vox   \n",
       "4160   fox_politics_890    Fox   \n",
       "2916   pbs_politics_777    PBS   \n",
       "4747  vox_politics_1931    Vox   \n",
       "\n",
       "                                         clean_articles  targets  \n",
       "4571  On January 31, Reuters released a survey that ...        1  \n",
       "4889  Sen. Elizabeth Warren (D-MA) isn’t ready to ce...        1  \n",
       "4160  Michael Cohen testifies behind closed doors on...        2  \n",
       "2916    Democratic senators plan to press Attorney G...        0  \n",
       "4747  Buried in Republicans’ tax bill, in a provisio...        1  "
      ]
     },
     "execution_count": 14,
     "metadata": {},
     "output_type": "execute_result"
    }
   ],
   "source": [
    "train_df, test_df = train_test_split(df_second, test_size=0.1)\n",
    "train_df.groupby('source').describe()"
   ]
  },
  {
   "cell_type": "markdown",
   "metadata": {},
   "source": [
    "#### Check for similarity between test and training"
   ]
  },
  {
   "cell_type": "code",
   "execution_count": 16,
   "metadata": {
    "collapsed": false
   },
   "outputs": [
    {
     "data": {
      "text/html": [
       "<div>\n",
       "<style scoped>\n",
       "    .dataframe tbody tr th:only-of-type {\n",
       "        vertical-align: middle;\n",
       "    }\n",
       "\n",
       "    .dataframe tbody tr th {\n",
       "        vertical-align: top;\n",
       "    }\n",
       "\n",
       "    .dataframe thead th {\n",
       "        text-align: right;\n",
       "    }\n",
       "</style>\n",
       "<table border=\"1\" class=\"dataframe\">\n",
       "  <thead>\n",
       "    <tr style=\"text-align: right;\">\n",
       "      <th></th>\n",
       "      <th>article id</th>\n",
       "      <th>clean_articles</th>\n",
       "      <th>targets</th>\n",
       "    </tr>\n",
       "    <tr>\n",
       "      <th>source</th>\n",
       "      <th></th>\n",
       "      <th></th>\n",
       "      <th></th>\n",
       "    </tr>\n",
       "  </thead>\n",
       "  <tbody>\n",
       "    <tr>\n",
       "      <th>Fox</th>\n",
       "      <td>173</td>\n",
       "      <td>173</td>\n",
       "      <td>173</td>\n",
       "    </tr>\n",
       "    <tr>\n",
       "      <th>PBS</th>\n",
       "      <td>156</td>\n",
       "      <td>156</td>\n",
       "      <td>156</td>\n",
       "    </tr>\n",
       "    <tr>\n",
       "      <th>Vox</th>\n",
       "      <td>193</td>\n",
       "      <td>193</td>\n",
       "      <td>193</td>\n",
       "    </tr>\n",
       "  </tbody>\n",
       "</table>\n",
       "</div>"
      ],
      "text/plain": [
       "        article id  clean_articles  targets\n",
       "source                                     \n",
       "Fox            173             173      173\n",
       "PBS            156             156      156\n",
       "Vox            193             193      193"
      ]
     },
     "execution_count": 16,
     "metadata": {},
     "output_type": "execute_result"
    }
   ],
   "source": [
    "test_df.groupby('source').describe()"
   ]
  },
  {
   "cell_type": "markdown",
   "metadata": {},
   "source": [
    "#### Prepare test set for validation"
   ]
  },
  {
   "cell_type": "code",
   "execution_count": 24,
   "metadata": {
    "collapsed": false,
    "scrolled": true
   },
   "outputs": [
    {
     "name": "stderr",
     "output_type": "stream",
     "text": [
      "100%|██████████| 522/522 [00:00<00:00, 576.99it/s]\n",
      "100%|██████████| 522/522 [00:00<00:00, 60797.14it/s]\n"
     ]
    }
   ],
   "source": [
    "# witheld for validation\n",
    " \n",
    "x_test = np.array([text_to_array(x, article_length=ARTICLE_LENGTH) \\\n",
    "                          for x in tqdm(test_df[\"clean_articles\"])])\n",
    "y_test = np.array([target_to_one_hot(t) for t in tqdm(test_df[\"targets\"])])"
   ]
  },
  {
   "cell_type": "markdown",
   "metadata": {},
   "source": [
    "#### Train"
   ]
  },
  {
   "cell_type": "code",
   "execution_count": 28,
   "metadata": {
    "collapsed": false
   },
   "outputs": [
    {
     "name": "stdout",
     "output_type": "stream",
     "text": [
      "Epoch 1/2\n",
      "500/500 [==============================] - 364s 727ms/step - loss: 0.4208 - acc: 0.8393\n",
      "Epoch 2/2\n",
      "500/500 [==============================] - 359s 718ms/step - loss: 0.1690 - acc: 0.9415\n"
     ]
    },
    {
     "data": {
      "text/plain": [
       "<keras.callbacks.History at 0x7ffa9e40d860>"
      ]
     },
     "execution_count": 28,
     "metadata": {},
     "output_type": "execute_result"
    }
   ],
   "source": [
    "data = batch_gen(train_df, batch_size=BATCH_SIZE, article_length=ARTICLE_LENGTH)\n",
    "model_1.fit_generator(data, epochs=2, steps_per_epoch=250, \\\n",
    "                      validation_data=None, verbose=True)"
   ]
  },
  {
   "cell_type": "code",
   "execution_count": null,
   "metadata": {
    "collapsed": true
   },
   "outputs": [],
   "source": [
    "model_2.fit_generator(data, epochs=2, steps_per_epoch=250, \\\n",
    "                      validation_data=None, verbose=True)"
   ]
  },
  {
   "cell_type": "markdown",
   "metadata": {},
   "source": [
    "#### Look at predictions"
   ]
  },
  {
   "cell_type": "code",
   "execution_count": 29,
   "metadata": {
    "collapsed": false
   },
   "outputs": [],
   "source": [
    "y_pred_1 = model_1.predict(x_test, batch_size=BATCH_SIZE)\n",
    "y_pred_class_1 = np.argmax(y_pred, axis=1)\n",
    "y_pred_one_hot_1 = to_categorical(y_pred_class, num_classes=3)\n",
    "y_pred_1[0:5]"
   ]
  },
  {
   "cell_type": "code",
   "execution_count": 30,
   "metadata": {
    "collapsed": false
   },
   "outputs": [
    {
     "data": {
      "text/plain": [
       "array([[  8.88640702e-01,   1.08859196e-01,   2.50014453e-03],\n",
       "       [  9.99586936e-03,   2.20355950e-03,   9.87800598e-01],\n",
       "       [  1.00982422e-02,   9.89862919e-01,   3.88756453e-05],\n",
       "       [  9.98584032e-01,   7.99316331e-04,   6.16667385e-04],\n",
       "       [  9.91307318e-01,   8.12769495e-03,   5.65017574e-04]], dtype=float32)"
      ]
     },
     "execution_count": 30,
     "metadata": {},
     "output_type": "execute_result"
    }
   ],
   "source": [
    "y_pred_2 = model_2.predict(x_test, batch_size=BATCH_SIZE)\n",
    "y_pred_class_2 = np.argmax(y_pred, axis=1)\n",
    "y_pred_one_hot_2 = to_categorical(y_pred_class, num_classes=3)\n",
    "y_pred_2[0:5]"
   ]
  },
  {
   "cell_type": "code",
   "execution_count": 31,
   "metadata": {
    "collapsed": false
   },
   "outputs": [
    {
     "data": {
      "text/html": [
       "<div>\n",
       "<style scoped>\n",
       "    .dataframe tbody tr th:only-of-type {\n",
       "        vertical-align: middle;\n",
       "    }\n",
       "\n",
       "    .dataframe tbody tr th {\n",
       "        vertical-align: top;\n",
       "    }\n",
       "\n",
       "    .dataframe thead th {\n",
       "        text-align: right;\n",
       "    }\n",
       "</style>\n",
       "<table border=\"1\" class=\"dataframe\">\n",
       "  <thead>\n",
       "    <tr style=\"text-align: right;\">\n",
       "      <th></th>\n",
       "      <th>source</th>\n",
       "      <th>clean_articles</th>\n",
       "      <th>targets</th>\n",
       "    </tr>\n",
       "  </thead>\n",
       "  <tbody>\n",
       "    <tr>\n",
       "      <th>2990</th>\n",
       "      <td>PBS</td>\n",
       "      <td>The 24-hour news cycle is filled with politics...</td>\n",
       "      <td>0</td>\n",
       "    </tr>\n",
       "    <tr>\n",
       "      <th>411</th>\n",
       "      <td>Fox</td>\n",
       "      <td>Pelosi works on Democratic leadership term-lim...</td>\n",
       "      <td>2</td>\n",
       "    </tr>\n",
       "    <tr>\n",
       "      <th>1209</th>\n",
       "      <td>Vox</td>\n",
       "      <td>In an interview that aired Sunday on 60 Minute...</td>\n",
       "      <td>1</td>\n",
       "    </tr>\n",
       "    <tr>\n",
       "      <th>1925</th>\n",
       "      <td>PBS</td>\n",
       "      <td>White House press secretary Sarah Huckabee S...</td>\n",
       "      <td>0</td>\n",
       "    </tr>\n",
       "    <tr>\n",
       "      <th>3166</th>\n",
       "      <td>PBS</td>\n",
       "      <td>President Donald Trump says he has a “great lo...</td>\n",
       "      <td>0</td>\n",
       "    </tr>\n",
       "  </tbody>\n",
       "</table>\n",
       "</div>"
      ],
      "text/plain": [
       "     source                                     clean_articles  targets\n",
       "2990    PBS  The 24-hour news cycle is filled with politics...        0\n",
       "411     Fox  Pelosi works on Democratic leadership term-lim...        2\n",
       "1209    Vox  In an interview that aired Sunday on 60 Minute...        1\n",
       "1925    PBS    White House press secretary Sarah Huckabee S...        0\n",
       "3166    PBS  President Donald Trump says he has a “great lo...        0"
      ]
     },
     "execution_count": 31,
     "metadata": {},
     "output_type": "execute_result"
    }
   ],
   "source": [
    "test_df[['source', 'clean_articles', 'targets']].head()"
   ]
  },
  {
   "cell_type": "code",
   "execution_count": 33,
   "metadata": {
    "collapsed": false
   },
   "outputs": [
    {
     "name": "stdout",
     "output_type": "stream",
     "text": [
      "f1 score 0.9425287356321839\n"
     ]
    }
   ],
   "source": [
    "res_1 = metrics.f1_score(y_test, y_pred_one_hot_1, average='micro')\n",
    "res_2 = metrics.f1_score(y_test, y_pred_one_hot_2, average='micro')\n",
    "print(\"F1 score model 1: {res_1} \\nF1 score model 2: {res_2}\".format(res_1=res_1, \n",
    "                                                                     res_2=res_2))"
   ]
  },
  {
   "cell_type": "markdown",
   "metadata": {
    "collapsed": true
   },
   "source": []
  }
 ],
 "metadata": {
  "kernelspec": {
   "display_name": "Python 3",
   "language": "python",
   "name": "python3"
  },
  "language_info": {
   "codemirror_mode": {
    "name": "ipython",
    "version": 3
   },
   "file_extension": ".py",
   "mimetype": "text/x-python",
   "name": "python",
   "nbconvert_exporter": "python",
   "pygments_lexer": "ipython3",
   "version": "3.5.4"
  }
 },
 "nbformat": 4,
 "nbformat_minor": 2
}
