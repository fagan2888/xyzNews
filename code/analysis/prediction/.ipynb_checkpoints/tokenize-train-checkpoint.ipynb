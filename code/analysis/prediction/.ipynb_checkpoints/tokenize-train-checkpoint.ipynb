{
 "cells": [
  {
   "cell_type": "markdown",
   "metadata": {},
   "source": [
    "# Tokenize and Train\n",
    "\n",
    "### Author \n",
    "Stephen Lee\n",
    "\n",
    "### Goal\n",
    "Classify news source based on the article text. Training data: \n",
    "- Fox News\n",
    "- Vox News\n",
    "- PBS News\n",
    "\n",
    "### Date \n",
    "3.20.19"
   ]
  },
  {
   "cell_type": "markdown",
   "metadata": {},
   "source": [
    "## Read Data"
   ]
  },
  {
   "cell_type": "code",
   "execution_count": 1,
   "metadata": {},
   "outputs": [
    {
     "name": "stderr",
     "output_type": "stream",
     "text": [
      "Using TensorFlow backend.\n"
     ]
    }
   ],
   "source": [
    "from keras.preprocessing.text import Tokenizer \n",
    "from keras.preprocessing.sequence import pad_sequences \n",
    "from keras.models import Sequential\n",
    "from keras.layers import GRU, Dense, Bidirectional, LSTM\n",
    "\n",
    "import os \n",
    "import math \n",
    "import numpy as np \n",
    "import pandas as pd \n",
    "\n",
    "from sklearn.model_selection import train_test_split"
   ]
  },
  {
   "cell_type": "code",
   "execution_count": 2,
   "metadata": {},
   "outputs": [],
   "source": [
    "FOLDER_READ = '/home/stephen/Dropbox/CodeWorkspace/data-sets/Thesis/'\n",
    "FILE = 'clean_article_df.csv'\n",
    "ARTICLE_LENGTH = 1000    # max length for an article"
   ]
  },
  {
   "cell_type": "code",
   "execution_count": 3,
   "metadata": {},
   "outputs": [
    {
     "data": {
      "text/plain": [
       "'/home/stephen/Dropbox/CodeWorkspace/other/Anaconda/NLP/thesis'"
      ]
     },
     "execution_count": 3,
     "metadata": {},
     "output_type": "execute_result"
    }
   ],
   "source": [
    "os.getcwd()"
   ]
  },
  {
   "cell_type": "code",
   "execution_count": 4,
   "metadata": {},
   "outputs": [],
   "source": [
    "os.chdir(FOLDER_READ)"
   ]
  },
  {
   "cell_type": "code",
   "execution_count": 5,
   "metadata": {},
   "outputs": [
    {
     "data": {
      "text/plain": [
       "['vox-politics.tar.gz',\n",
       " 'fox-entertainment.tar.gz',\n",
       " 'vox-culture.tar.gz',\n",
       " 'fox-tech.tar.gz',\n",
       " 'pbs-politics.tar.gz',\n",
       " 'fox-politics.tar.gz',\n",
       " 'bbc-articles.tar.gz',\n",
       " 'clean_article_df.csv',\n",
       " 'articles.csv']"
      ]
     },
     "execution_count": 5,
     "metadata": {},
     "output_type": "execute_result"
    }
   ],
   "source": [
    "os.listdir()"
   ]
  },
  {
   "cell_type": "code",
   "execution_count": 6,
   "metadata": {},
   "outputs": [
    {
     "data": {
      "text/html": [
       "<div>\n",
       "<style scoped>\n",
       "    .dataframe tbody tr th:only-of-type {\n",
       "        vertical-align: middle;\n",
       "    }\n",
       "\n",
       "    .dataframe tbody tr th {\n",
       "        vertical-align: top;\n",
       "    }\n",
       "\n",
       "    .dataframe thead th {\n",
       "        text-align: right;\n",
       "    }\n",
       "</style>\n",
       "<table border=\"1\" class=\"dataframe\">\n",
       "  <thead>\n",
       "    <tr style=\"text-align: right;\">\n",
       "      <th></th>\n",
       "      <th>article id</th>\n",
       "      <th>source</th>\n",
       "      <th>article</th>\n",
       "      <th>clean_articles</th>\n",
       "      <th>targets</th>\n",
       "    </tr>\n",
       "  </thead>\n",
       "  <tbody>\n",
       "    <tr>\n",
       "      <th>0</th>\n",
       "      <td>fox_politics_166</td>\n",
       "      <td>Fox</td>\n",
       "      <td>Bolton warns Venezuela's Maduro to stay away f...</td>\n",
       "      <td>Bolton warns Venezuela's Maduro to stay away f...</td>\n",
       "      <td>3</td>\n",
       "    </tr>\n",
       "    <tr>\n",
       "      <th>1</th>\n",
       "      <td>fox_politics_390</td>\n",
       "      <td>Fox</td>\n",
       "      <td>Ocasio-Cortez rallies to stop all fossil fuel ...</td>\n",
       "      <td>Ocasio-Cortez rallies to stop all fossil fuel ...</td>\n",
       "      <td>3</td>\n",
       "    </tr>\n",
       "    <tr>\n",
       "      <th>2</th>\n",
       "      <td>fox_politics_423</td>\n",
       "      <td>Fox</td>\n",
       "      <td>The Pentagon announced Sunday the deployment o...</td>\n",
       "      <td>The Pentagon announced Sunday the deployment o...</td>\n",
       "      <td>3</td>\n",
       "    </tr>\n",
       "    <tr>\n",
       "      <th>3</th>\n",
       "      <td>fox_politics_102</td>\n",
       "      <td>Fox</td>\n",
       "      <td>Mayor Bill de Blasio says that US Rep. Alexand...</td>\n",
       "      <td>Mayor Bill de Blasio says that US Rep. Alexand...</td>\n",
       "      <td>3</td>\n",
       "    </tr>\n",
       "    <tr>\n",
       "      <th>4</th>\n",
       "      <td>fox_politics_492</td>\n",
       "      <td>Fox</td>\n",
       "      <td>Who is EPA's Andrew Wheeler?\\nEPA administrato...</td>\n",
       "      <td>Who is EPA's Andrew Wheeler?\\nEPA administrato...</td>\n",
       "      <td>3</td>\n",
       "    </tr>\n",
       "  </tbody>\n",
       "</table>\n",
       "</div>"
      ],
      "text/plain": [
       "         article id source                                            article  \\\n",
       "0  fox_politics_166    Fox  Bolton warns Venezuela's Maduro to stay away f...   \n",
       "1  fox_politics_390    Fox  Ocasio-Cortez rallies to stop all fossil fuel ...   \n",
       "2  fox_politics_423    Fox  The Pentagon announced Sunday the deployment o...   \n",
       "3  fox_politics_102    Fox  Mayor Bill de Blasio says that US Rep. Alexand...   \n",
       "4  fox_politics_492    Fox  Who is EPA's Andrew Wheeler?\\nEPA administrato...   \n",
       "\n",
       "                                      clean_articles  targets  \n",
       "0  Bolton warns Venezuela's Maduro to stay away f...        3  \n",
       "1  Ocasio-Cortez rallies to stop all fossil fuel ...        3  \n",
       "2  The Pentagon announced Sunday the deployment o...        3  \n",
       "3  Mayor Bill de Blasio says that US Rep. Alexand...        3  \n",
       "4  Who is EPA's Andrew Wheeler?\\nEPA administrato...        3  "
      ]
     },
     "execution_count": 6,
     "metadata": {},
     "output_type": "execute_result"
    }
   ],
   "source": [
    "df_all = pd.read_csv(FILE, sep='|').drop('Unnamed: 0', axis=1)\n",
    "df_all.head()"
   ]
  },
  {
   "cell_type": "markdown",
   "metadata": {},
   "source": [
    "## Split into test and training"
   ]
  },
  {
   "cell_type": "code",
   "execution_count": 7,
   "metadata": {},
   "outputs": [
    {
     "data": {
      "text/html": [
       "<div>\n",
       "<style scoped>\n",
       "    .dataframe tbody tr th:only-of-type {\n",
       "        vertical-align: middle;\n",
       "    }\n",
       "\n",
       "    .dataframe tbody tr th {\n",
       "        vertical-align: top;\n",
       "    }\n",
       "\n",
       "    .dataframe thead th {\n",
       "        text-align: right;\n",
       "    }\n",
       "</style>\n",
       "<table border=\"1\" class=\"dataframe\">\n",
       "  <thead>\n",
       "    <tr style=\"text-align: right;\">\n",
       "      <th></th>\n",
       "      <th>article id</th>\n",
       "      <th>source</th>\n",
       "      <th>article</th>\n",
       "      <th>clean_articles</th>\n",
       "      <th>targets</th>\n",
       "    </tr>\n",
       "  </thead>\n",
       "  <tbody>\n",
       "    <tr>\n",
       "      <th>2261</th>\n",
       "      <td>pbs_politics_25</td>\n",
       "      <td>PBS</td>\n",
       "      <td>House Democrats formally kicked off the next r...</td>\n",
       "      <td>House Democrats formally kicked off the next r...</td>\n",
       "      <td>1</td>\n",
       "    </tr>\n",
       "    <tr>\n",
       "      <th>1858</th>\n",
       "      <td>pbs_politics_1250</td>\n",
       "      <td>PBS</td>\n",
       "      <td>Americans remain divided on the issue of gun c...</td>\n",
       "      <td>Americans remain divided on the issue of gun c...</td>\n",
       "      <td>1</td>\n",
       "    </tr>\n",
       "    <tr>\n",
       "      <th>2452</th>\n",
       "      <td>pbs_politics_730</td>\n",
       "      <td>PBS</td>\n",
       "      <td>— In this election season, lawmakers are taki...</td>\n",
       "      <td>In this election season, lawmakers are takin...</td>\n",
       "      <td>1</td>\n",
       "    </tr>\n",
       "    <tr>\n",
       "      <th>1129</th>\n",
       "      <td>vox_politics_1327</td>\n",
       "      <td>Vox</td>\n",
       "      <td>As we learned on Election Day 2016, national p...</td>\n",
       "      <td>As we learned on Election Day 2016, national p...</td>\n",
       "      <td>2</td>\n",
       "    </tr>\n",
       "    <tr>\n",
       "      <th>3096</th>\n",
       "      <td>pbs_politics_265</td>\n",
       "      <td>PBS</td>\n",
       "      <td>— President Donald Trump’s nominee for attorn...</td>\n",
       "      <td>President Donald Trump’s nominee for attorne...</td>\n",
       "      <td>1</td>\n",
       "    </tr>\n",
       "  </tbody>\n",
       "</table>\n",
       "</div>"
      ],
      "text/plain": [
       "             article id source  \\\n",
       "2261    pbs_politics_25    PBS   \n",
       "1858  pbs_politics_1250    PBS   \n",
       "2452   pbs_politics_730    PBS   \n",
       "1129  vox_politics_1327    Vox   \n",
       "3096   pbs_politics_265    PBS   \n",
       "\n",
       "                                                article  \\\n",
       "2261  House Democrats formally kicked off the next r...   \n",
       "1858  Americans remain divided on the issue of gun c...   \n",
       "2452   — In this election season, lawmakers are taki...   \n",
       "1129  As we learned on Election Day 2016, national p...   \n",
       "3096   — President Donald Trump’s nominee for attorn...   \n",
       "\n",
       "                                         clean_articles  targets  \n",
       "2261  House Democrats formally kicked off the next r...        1  \n",
       "1858  Americans remain divided on the issue of gun c...        1  \n",
       "2452    In this election season, lawmakers are takin...        1  \n",
       "1129  As we learned on Election Day 2016, national p...        2  \n",
       "3096    President Donald Trump’s nominee for attorne...        1  "
      ]
     },
     "execution_count": 7,
     "metadata": {},
     "output_type": "execute_result"
    }
   ],
   "source": [
    "train_df, test_df = train_test_split(df_all, test_size=0.1)\n",
    "train_df.head()"
   ]
  },
  {
   "cell_type": "code",
   "execution_count": 8,
   "metadata": {},
   "outputs": [
    {
     "data": {
      "text/html": [
       "<div>\n",
       "<style scoped>\n",
       "    .dataframe tbody tr th:only-of-type {\n",
       "        vertical-align: middle;\n",
       "    }\n",
       "\n",
       "    .dataframe tbody tr th {\n",
       "        vertical-align: top;\n",
       "    }\n",
       "\n",
       "    .dataframe thead th {\n",
       "        text-align: right;\n",
       "    }\n",
       "</style>\n",
       "<table border=\"1\" class=\"dataframe\">\n",
       "  <thead>\n",
       "    <tr style=\"text-align: right;\">\n",
       "      <th></th>\n",
       "      <th>article id</th>\n",
       "      <th>source</th>\n",
       "      <th>article</th>\n",
       "      <th>clean_articles</th>\n",
       "      <th>targets</th>\n",
       "    </tr>\n",
       "  </thead>\n",
       "  <tbody>\n",
       "    <tr>\n",
       "      <th>3115</th>\n",
       "      <td>pbs_politics_1002</td>\n",
       "      <td>PBS</td>\n",
       "      <td>RICHMOND, Va. — Virginia Gov. Ralph Northam to...</td>\n",
       "      <td>RICHMOND, Va.  Virginia Gov. Ralph Northam tol...</td>\n",
       "      <td>1</td>\n",
       "    </tr>\n",
       "    <tr>\n",
       "      <th>1615</th>\n",
       "      <td>pbs_politics_334</td>\n",
       "      <td>PBS</td>\n",
       "      <td>NEW DELHI (AP) — The Democratic victory in the...</td>\n",
       "      <td>NEW DELHI (AP)  The Democratic victory in the ...</td>\n",
       "      <td>1</td>\n",
       "    </tr>\n",
       "    <tr>\n",
       "      <th>1097</th>\n",
       "      <td>vox_politics_1575</td>\n",
       "      <td>Vox</td>\n",
       "      <td>Take a step back and appreciate the vertiginou...</td>\n",
       "      <td>Take a step back and appreciate the vertiginou...</td>\n",
       "      <td>2</td>\n",
       "    </tr>\n",
       "    <tr>\n",
       "      <th>308</th>\n",
       "      <td>fox_politics_143</td>\n",
       "      <td>Fox</td>\n",
       "      <td>Andrew McCabe believes 'it's possible' Preside...</td>\n",
       "      <td>Andrew McCabe believes 'it's possible' Preside...</td>\n",
       "      <td>3</td>\n",
       "    </tr>\n",
       "    <tr>\n",
       "      <th>1954</th>\n",
       "      <td>pbs_politics_1721</td>\n",
       "      <td>PBS</td>\n",
       "      <td>ATLANTA — A U.S. Supreme Court ruling has clea...</td>\n",
       "      <td>ATLANTA  A U.S. Supreme Court ruling has clear...</td>\n",
       "      <td>1</td>\n",
       "    </tr>\n",
       "  </tbody>\n",
       "</table>\n",
       "</div>"
      ],
      "text/plain": [
       "             article id source  \\\n",
       "3115  pbs_politics_1002    PBS   \n",
       "1615   pbs_politics_334    PBS   \n",
       "1097  vox_politics_1575    Vox   \n",
       "308    fox_politics_143    Fox   \n",
       "1954  pbs_politics_1721    PBS   \n",
       "\n",
       "                                                article  \\\n",
       "3115  RICHMOND, Va. — Virginia Gov. Ralph Northam to...   \n",
       "1615  NEW DELHI (AP) — The Democratic victory in the...   \n",
       "1097  Take a step back and appreciate the vertiginou...   \n",
       "308   Andrew McCabe believes 'it's possible' Preside...   \n",
       "1954  ATLANTA — A U.S. Supreme Court ruling has clea...   \n",
       "\n",
       "                                         clean_articles  targets  \n",
       "3115  RICHMOND, Va.  Virginia Gov. Ralph Northam tol...        1  \n",
       "1615  NEW DELHI (AP)  The Democratic victory in the ...        1  \n",
       "1097  Take a step back and appreciate the vertiginou...        2  \n",
       "308   Andrew McCabe believes 'it's possible' Preside...        3  \n",
       "1954  ATLANTA  A U.S. Supreme Court ruling has clear...        1  "
      ]
     },
     "execution_count": 8,
     "metadata": {},
     "output_type": "execute_result"
    }
   ],
   "source": [
    "test_df.head()"
   ]
  },
  {
   "cell_type": "markdown",
   "metadata": {},
   "source": [
    "### Check for similarity between test and training"
   ]
  },
  {
   "cell_type": "code",
   "execution_count": 9,
   "metadata": {},
   "outputs": [
    {
     "data": {
      "text/html": [
       "<div>\n",
       "<style scoped>\n",
       "    .dataframe tbody tr th:only-of-type {\n",
       "        vertical-align: middle;\n",
       "    }\n",
       "\n",
       "    .dataframe tbody tr th {\n",
       "        vertical-align: top;\n",
       "    }\n",
       "\n",
       "    .dataframe thead th {\n",
       "        text-align: right;\n",
       "    }\n",
       "</style>\n",
       "<table border=\"1\" class=\"dataframe\">\n",
       "  <thead>\n",
       "    <tr style=\"text-align: right;\">\n",
       "      <th></th>\n",
       "      <th>article id</th>\n",
       "      <th>article</th>\n",
       "      <th>clean_articles</th>\n",
       "      <th>targets</th>\n",
       "    </tr>\n",
       "    <tr>\n",
       "      <th>source</th>\n",
       "      <th></th>\n",
       "      <th></th>\n",
       "      <th></th>\n",
       "      <th></th>\n",
       "    </tr>\n",
       "  </thead>\n",
       "  <tbody>\n",
       "    <tr>\n",
       "      <th>Fox</th>\n",
       "      <td>58</td>\n",
       "      <td>58</td>\n",
       "      <td>58</td>\n",
       "      <td>58</td>\n",
       "    </tr>\n",
       "    <tr>\n",
       "      <th>PBS</th>\n",
       "      <td>159</td>\n",
       "      <td>159</td>\n",
       "      <td>159</td>\n",
       "      <td>159</td>\n",
       "    </tr>\n",
       "    <tr>\n",
       "      <th>Vox</th>\n",
       "      <td>108</td>\n",
       "      <td>108</td>\n",
       "      <td>108</td>\n",
       "      <td>108</td>\n",
       "    </tr>\n",
       "  </tbody>\n",
       "</table>\n",
       "</div>"
      ],
      "text/plain": [
       "        article id  article  clean_articles  targets\n",
       "source                                              \n",
       "Fox             58       58              58       58\n",
       "PBS            159      159             159      159\n",
       "Vox            108      108             108      108"
      ]
     },
     "execution_count": 9,
     "metadata": {},
     "output_type": "execute_result"
    }
   ],
   "source": [
    "test_df.groupby('source').count()"
   ]
  },
  {
   "cell_type": "code",
   "execution_count": 10,
   "metadata": {},
   "outputs": [
    {
     "data": {
      "text/html": [
       "<div>\n",
       "<style scoped>\n",
       "    .dataframe tbody tr th:only-of-type {\n",
       "        vertical-align: middle;\n",
       "    }\n",
       "\n",
       "    .dataframe tbody tr th {\n",
       "        vertical-align: top;\n",
       "    }\n",
       "\n",
       "    .dataframe thead th {\n",
       "        text-align: right;\n",
       "    }\n",
       "</style>\n",
       "<table border=\"1\" class=\"dataframe\">\n",
       "  <thead>\n",
       "    <tr style=\"text-align: right;\">\n",
       "      <th></th>\n",
       "      <th>article id</th>\n",
       "      <th>article</th>\n",
       "      <th>clean_articles</th>\n",
       "      <th>targets</th>\n",
       "    </tr>\n",
       "    <tr>\n",
       "      <th>source</th>\n",
       "      <th></th>\n",
       "      <th></th>\n",
       "      <th></th>\n",
       "      <th></th>\n",
       "    </tr>\n",
       "  </thead>\n",
       "  <tbody>\n",
       "    <tr>\n",
       "      <th>Fox</th>\n",
       "      <td>418</td>\n",
       "      <td>418</td>\n",
       "      <td>418</td>\n",
       "      <td>418</td>\n",
       "    </tr>\n",
       "    <tr>\n",
       "      <th>PBS</th>\n",
       "      <td>1580</td>\n",
       "      <td>1580</td>\n",
       "      <td>1580</td>\n",
       "      <td>1580</td>\n",
       "    </tr>\n",
       "    <tr>\n",
       "      <th>Vox</th>\n",
       "      <td>919</td>\n",
       "      <td>919</td>\n",
       "      <td>919</td>\n",
       "      <td>919</td>\n",
       "    </tr>\n",
       "  </tbody>\n",
       "</table>\n",
       "</div>"
      ],
      "text/plain": [
       "        article id  article  clean_articles  targets\n",
       "source                                              \n",
       "Fox            418      418             418      418\n",
       "PBS           1580     1580            1580     1580\n",
       "Vox            919      919             919      919"
      ]
     },
     "execution_count": 10,
     "metadata": {},
     "output_type": "execute_result"
    }
   ],
   "source": [
    "train_df.groupby('source').count()"
   ]
  },
  {
   "cell_type": "markdown",
   "metadata": {},
   "source": [
    "## Get Embeddings, Build Functions"
   ]
  },
  {
   "cell_type": "code",
   "execution_count": 11,
   "metadata": {},
   "outputs": [],
   "source": [
    "from tqdm import tqdm"
   ]
  },
  {
   "cell_type": "code",
   "execution_count": 12,
   "metadata": {},
   "outputs": [
    {
     "name": "stderr",
     "output_type": "stream",
     "text": [
      "2196017it [04:22, 8360.84it/s]"
     ]
    },
    {
     "name": "stdout",
     "output_type": "stream",
     "text": [
      "Found 2196016 word vectors\n"
     ]
    },
    {
     "name": "stderr",
     "output_type": "stream",
     "text": [
      "\n"
     ]
    }
   ],
   "source": [
    "PATH = '/home/stephen/Dropbox/CodeWorkspace/data-sets/NLP/quora-questions/embeddings/glove.840B.300d/'\n",
    "FILE = PATH + 'glove.840B.300d.txt'\n",
    "\n",
    "embeddings_index = {}\n",
    " \n",
    "with open(FILE, encoding='utf8') as embed:\n",
    "    for line in tqdm(embed):\n",
    "        values = line.split(' ')\n",
    "        word = values[0]\n",
    "        coefs = np.asarray(values[1:], dtype='float32')\n",
    "        embeddings_index[word] = coefs\n",
    "        \n",
    "print(f\"Found {len(embeddings_index)} word vectors\")"
   ]
  },
  {
   "cell_type": "code",
   "execution_count": 13,
   "metadata": {},
   "outputs": [],
   "source": [
    "def text_to_array(text, article_length=500):\n",
    "    empty_emb = np.zeros(300)                   # each word is represented by a length 300 vector\n",
    "    text = text[:-1].split()[:article_length]   # each article is length 10000\n",
    "    \n",
    "    # look for word embedding, return zero array otherwise. \n",
    "    embeds = [embeddings_index.get(x, empty_emb) for x in text]\n",
    "    embeds += [empty_emb] * (article_length - len(embeds))\n",
    "    return np.array(embeds)"
   ]
  },
  {
   "cell_type": "code",
   "execution_count": 14,
   "metadata": {},
   "outputs": [],
   "source": [
    "def batch_gen(train_df, batch_size=64):\n",
    "    n = math.ceil(len(train_df) / batch_size)\n",
    "    while True: \n",
    "        train_df = train_df.sample(frac=1.0)\n",
    "        \n",
    "        for i in range(n):\n",
    "            texts = train_df['article'][i*batch_size: (i+1)*batch_size]\n",
    "            text_arr = np.array([text_to_array(text) for text in texts])\n",
    "            targets = np.array(train_df['targets'][i*batch_size: (i+1)*batch_size])\n",
    "            yield text_arr, targets"
   ]
  },
  {
   "cell_type": "markdown",
   "metadata": {},
   "source": [
    "## Setup Model"
   ]
  },
  {
   "cell_type": "code",
   "execution_count": 15,
   "metadata": {},
   "outputs": [
    {
     "name": "stderr",
     "output_type": "stream",
     "text": [
      "100%|██████████| 325/325 [00:00<00:00, 841.85it/s]\n"
     ]
    }
   ],
   "source": [
    "# witheld for validation\n",
    "test_articles = np.array([text_to_array(x) for x in tqdm(test_df[\"clean_articles\"])])\n",
    "test_target = np.array(test_df[\"targets\"])"
   ]
  },
  {
   "cell_type": "code",
   "execution_count": 16,
   "metadata": {},
   "outputs": [
    {
     "name": "stdout",
     "output_type": "stream",
     "text": [
      "_________________________________________________________________\n",
      "Layer (type)                 Output Shape              Param #   \n",
      "=================================================================\n",
      "bidirectional_1 (Bidirection (None, 500, 128)          186880    \n",
      "_________________________________________________________________\n",
      "bidirectional_2 (Bidirection (None, 128)               98816     \n",
      "_________________________________________________________________\n",
      "dense_1 (Dense)              (None, 1)                 129       \n",
      "=================================================================\n",
      "Total params: 285,825\n",
      "Trainable params: 285,825\n",
      "Non-trainable params: 0\n",
      "_________________________________________________________________\n"
     ]
    }
   ],
   "source": [
    "input_shape = (500, 300)\n",
    "\n",
    "model = Sequential()\n",
    "model.add(Bidirectional(LSTM(32, return_sequences=True, dropout=0.05, recurrent_dropout=0.1), \\\n",
    "                        input_shape=input_shape))\n",
    "model.add(Bidirectional(LSTM(32)))\n",
    "model.add(Dense(1, activation=\"sigmoid\"))\n",
    "model.compile(loss=\"binary_crossentropy\", \\\n",
    "              optimizer=\"adam\", \\\n",
    "              metrics=[\"accuracy\"])\n",
    "model.summary()"
   ]
  },
  {
   "cell_type": "code",
   "execution_count": null,
   "metadata": {},
   "outputs": [
    {
     "name": "stdout",
     "output_type": "stream",
     "text": [
      "Epoch 1/2\n",
      "337/500 [===================>..........] - ETA: 10:23 - loss: -9.1777 - acc: 0.5401"
     ]
    }
   ],
   "source": [
    "data = batch_gen(train_df)\n",
    "model.fit_generator(data, epochs=2, steps_per_epoch=500, \\\n",
    "                    validation_data=(test_articles, test_target), \\\n",
    "                    verbose=True)"
   ]
  },
  {
   "cell_type": "code",
   "execution_count": null,
   "metadata": {},
   "outputs": [],
   "source": []
  }
 ],
 "metadata": {
  "kernelspec": {
   "display_name": "Python 3",
   "language": "python",
   "name": "python3"
  },
  "language_info": {
   "codemirror_mode": {
    "name": "ipython",
    "version": 3
   },
   "file_extension": ".py",
   "mimetype": "text/x-python",
   "name": "python",
   "nbconvert_exporter": "python",
   "pygments_lexer": "ipython3",
   "version": "3.6.8"
  }
 },
 "nbformat": 4,
 "nbformat_minor": 2
}
