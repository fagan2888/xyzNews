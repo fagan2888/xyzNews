{
 "cells": [
  {
   "cell_type": "markdown",
   "metadata": {},
   "source": [
    "# Tokenize and Train\n",
    "\n",
    "### Author \n",
    "Stephen Lee\n",
    "\n",
    "### Goal\n",
    "Classify news source based on the article text. Training data: \n",
    "- Fox News\n",
    "- Vox News\n",
    "- PBS News\n",
    "\n",
    "### Date \n",
    "3.20.19"
   ]
  },
  {
   "cell_type": "markdown",
   "metadata": {},
   "source": [
    "## Read Data"
   ]
  },
  {
   "cell_type": "code",
   "execution_count": 1,
   "metadata": {},
   "outputs": [
    {
     "name": "stderr",
     "output_type": "stream",
     "text": [
      "Using TensorFlow backend.\n"
     ]
    }
   ],
   "source": [
    "from keras.preprocessing.text import Tokenizer \n",
    "from keras.preprocessing.sequence import pad_sequences \n",
    "from keras.models import Sequential\n",
    "from keras.layers import GRU, Dense, Bidirectional, LSTM\n",
    "\n",
    "import os \n",
    "import math \n",
    "import numpy as np \n",
    "import pandas as pd \n",
    "\n",
    "from sklearn.model_selection import train_test_split"
   ]
  },
  {
   "cell_type": "code",
   "execution_count": 2,
   "metadata": {},
   "outputs": [],
   "source": [
    "FOLDER_READ = '/home/stephen/Dropbox/CodeWorkspace/data-sets/Thesis/'\n",
    "FILE = 'clean_article_df.csv'\n",
    "ARTICLE_LENGTH = 1000    # max length for an article"
   ]
  },
  {
   "cell_type": "code",
   "execution_count": 3,
   "metadata": {},
   "outputs": [
    {
     "data": {
      "text/plain": [
       "'/home/stephen/Dropbox/CodeWorkspace/other/Anaconda/NLP/thesis'"
      ]
     },
     "execution_count": 3,
     "metadata": {},
     "output_type": "execute_result"
    }
   ],
   "source": [
    "os.getcwd()"
   ]
  },
  {
   "cell_type": "code",
   "execution_count": 4,
   "metadata": {},
   "outputs": [],
   "source": [
    "os.chdir(FOLDER_READ)"
   ]
  },
  {
   "cell_type": "code",
   "execution_count": 5,
   "metadata": {},
   "outputs": [
    {
     "data": {
      "text/plain": [
       "['vox-politics.tar.gz',\n",
       " 'fox-entertainment.tar.gz',\n",
       " 'vox-culture.tar.gz',\n",
       " 'fox-tech.tar.gz',\n",
       " 'pbs-politics.tar.gz',\n",
       " 'fox-politics.tar.gz',\n",
       " 'bbc-articles.tar.gz',\n",
       " 'clean_article_df.csv',\n",
       " 'articles.csv']"
      ]
     },
     "execution_count": 5,
     "metadata": {},
     "output_type": "execute_result"
    }
   ],
   "source": [
    "os.listdir()"
   ]
  },
  {
   "cell_type": "code",
   "execution_count": 6,
   "metadata": {},
   "outputs": [
    {
     "data": {
      "text/html": [
       "<div>\n",
       "<style scoped>\n",
       "    .dataframe tbody tr th:only-of-type {\n",
       "        vertical-align: middle;\n",
       "    }\n",
       "\n",
       "    .dataframe tbody tr th {\n",
       "        vertical-align: top;\n",
       "    }\n",
       "\n",
       "    .dataframe thead th {\n",
       "        text-align: right;\n",
       "    }\n",
       "</style>\n",
       "<table border=\"1\" class=\"dataframe\">\n",
       "  <thead>\n",
       "    <tr style=\"text-align: right;\">\n",
       "      <th></th>\n",
       "      <th>article id</th>\n",
       "      <th>source</th>\n",
       "      <th>article</th>\n",
       "      <th>clean_articles</th>\n",
       "      <th>targets</th>\n",
       "    </tr>\n",
       "  </thead>\n",
       "  <tbody>\n",
       "    <tr>\n",
       "      <th>0</th>\n",
       "      <td>fox_politics_166</td>\n",
       "      <td>Fox</td>\n",
       "      <td>Bolton warns Venezuela's Maduro to stay away f...</td>\n",
       "      <td>Bolton warns Venezuela's Maduro to stay away f...</td>\n",
       "      <td>3</td>\n",
       "    </tr>\n",
       "    <tr>\n",
       "      <th>1</th>\n",
       "      <td>fox_politics_390</td>\n",
       "      <td>Fox</td>\n",
       "      <td>Ocasio-Cortez rallies to stop all fossil fuel ...</td>\n",
       "      <td>Ocasio-Cortez rallies to stop all fossil fuel ...</td>\n",
       "      <td>3</td>\n",
       "    </tr>\n",
       "    <tr>\n",
       "      <th>2</th>\n",
       "      <td>fox_politics_423</td>\n",
       "      <td>Fox</td>\n",
       "      <td>The Pentagon announced Sunday the deployment o...</td>\n",
       "      <td>The Pentagon announced Sunday the deployment o...</td>\n",
       "      <td>3</td>\n",
       "    </tr>\n",
       "    <tr>\n",
       "      <th>3</th>\n",
       "      <td>fox_politics_102</td>\n",
       "      <td>Fox</td>\n",
       "      <td>Mayor Bill de Blasio says that US Rep. Alexand...</td>\n",
       "      <td>Mayor Bill de Blasio says that US Rep. Alexand...</td>\n",
       "      <td>3</td>\n",
       "    </tr>\n",
       "    <tr>\n",
       "      <th>4</th>\n",
       "      <td>fox_politics_492</td>\n",
       "      <td>Fox</td>\n",
       "      <td>Who is EPA's Andrew Wheeler?\\nEPA administrato...</td>\n",
       "      <td>Who is EPA's Andrew Wheeler?\\nEPA administrato...</td>\n",
       "      <td>3</td>\n",
       "    </tr>\n",
       "  </tbody>\n",
       "</table>\n",
       "</div>"
      ],
      "text/plain": [
       "         article id source                                            article  \\\n",
       "0  fox_politics_166    Fox  Bolton warns Venezuela's Maduro to stay away f...   \n",
       "1  fox_politics_390    Fox  Ocasio-Cortez rallies to stop all fossil fuel ...   \n",
       "2  fox_politics_423    Fox  The Pentagon announced Sunday the deployment o...   \n",
       "3  fox_politics_102    Fox  Mayor Bill de Blasio says that US Rep. Alexand...   \n",
       "4  fox_politics_492    Fox  Who is EPA's Andrew Wheeler?\\nEPA administrato...   \n",
       "\n",
       "                                      clean_articles  targets  \n",
       "0  Bolton warns Venezuela's Maduro to stay away f...        3  \n",
       "1  Ocasio-Cortez rallies to stop all fossil fuel ...        3  \n",
       "2  The Pentagon announced Sunday the deployment o...        3  \n",
       "3  Mayor Bill de Blasio says that US Rep. Alexand...        3  \n",
       "4  Who is EPA's Andrew Wheeler?\\nEPA administrato...        3  "
      ]
     },
     "execution_count": 6,
     "metadata": {},
     "output_type": "execute_result"
    }
   ],
   "source": [
    "df_all = pd.read_csv(FILE, sep='|').drop('Unnamed: 0', axis=1)\n",
    "df_all.head()"
   ]
  },
  {
   "cell_type": "markdown",
   "metadata": {},
   "source": [
    "## Split into test and training"
   ]
  },
  {
   "cell_type": "code",
   "execution_count": 7,
   "metadata": {},
   "outputs": [
    {
     "data": {
      "text/html": [
       "<div>\n",
       "<style scoped>\n",
       "    .dataframe tbody tr th:only-of-type {\n",
       "        vertical-align: middle;\n",
       "    }\n",
       "\n",
       "    .dataframe tbody tr th {\n",
       "        vertical-align: top;\n",
       "    }\n",
       "\n",
       "    .dataframe thead th {\n",
       "        text-align: right;\n",
       "    }\n",
       "</style>\n",
       "<table border=\"1\" class=\"dataframe\">\n",
       "  <thead>\n",
       "    <tr style=\"text-align: right;\">\n",
       "      <th></th>\n",
       "      <th>article id</th>\n",
       "      <th>source</th>\n",
       "      <th>article</th>\n",
       "      <th>clean_articles</th>\n",
       "      <th>targets</th>\n",
       "    </tr>\n",
       "  </thead>\n",
       "  <tbody>\n",
       "    <tr>\n",
       "      <th>3240</th>\n",
       "      <td>pbs_politics_1317</td>\n",
       "      <td>PBS</td>\n",
       "      <td>URBANA, Ill. (AP) — Former President Barack Ob...</td>\n",
       "      <td>URBANA, Ill. (AP)  Former President Barack Oba...</td>\n",
       "      <td>1</td>\n",
       "    </tr>\n",
       "    <tr>\n",
       "      <th>135</th>\n",
       "      <td>fox_politics_32</td>\n",
       "      <td>Fox</td>\n",
       "      <td>Democratic Sens. Elizabeth Warren of Massachus...</td>\n",
       "      <td>Democratic Sens. Elizabeth Warren of Massachus...</td>\n",
       "      <td>3</td>\n",
       "    </tr>\n",
       "    <tr>\n",
       "      <th>2829</th>\n",
       "      <td>pbs_politics_428</td>\n",
       "      <td>PBS</td>\n",
       "      <td>— Seeking to move past the shadow of the Russ...</td>\n",
       "      <td>Seeking to move past the shadow of the Russi...</td>\n",
       "      <td>1</td>\n",
       "    </tr>\n",
       "    <tr>\n",
       "      <th>1464</th>\n",
       "      <td>vox_politics_1767</td>\n",
       "      <td>Vox</td>\n",
       "      <td>President Trump signed a new executive order T...</td>\n",
       "      <td>President Trump signed a new executive order T...</td>\n",
       "      <td>2</td>\n",
       "    </tr>\n",
       "    <tr>\n",
       "      <th>984</th>\n",
       "      <td>vox_politics_1585</td>\n",
       "      <td>Vox</td>\n",
       "      <td>The Republican Party’s polling for the 2018 el...</td>\n",
       "      <td>The Republican Party’s polling for the 2018 el...</td>\n",
       "      <td>2</td>\n",
       "    </tr>\n",
       "  </tbody>\n",
       "</table>\n",
       "</div>"
      ],
      "text/plain": [
       "             article id source  \\\n",
       "3240  pbs_politics_1317    PBS   \n",
       "135     fox_politics_32    Fox   \n",
       "2829   pbs_politics_428    PBS   \n",
       "1464  vox_politics_1767    Vox   \n",
       "984   vox_politics_1585    Vox   \n",
       "\n",
       "                                                article  \\\n",
       "3240  URBANA, Ill. (AP) — Former President Barack Ob...   \n",
       "135   Democratic Sens. Elizabeth Warren of Massachus...   \n",
       "2829   — Seeking to move past the shadow of the Russ...   \n",
       "1464  President Trump signed a new executive order T...   \n",
       "984   The Republican Party’s polling for the 2018 el...   \n",
       "\n",
       "                                         clean_articles  targets  \n",
       "3240  URBANA, Ill. (AP)  Former President Barack Oba...        1  \n",
       "135   Democratic Sens. Elizabeth Warren of Massachus...        3  \n",
       "2829    Seeking to move past the shadow of the Russi...        1  \n",
       "1464  President Trump signed a new executive order T...        2  \n",
       "984   The Republican Party’s polling for the 2018 el...        2  "
      ]
     },
     "execution_count": 7,
     "metadata": {},
     "output_type": "execute_result"
    }
   ],
   "source": [
    "train_df, test_df = train_test_split(df_all, test_size=0.1)\n",
    "train_df.head()"
   ]
  },
  {
   "cell_type": "code",
   "execution_count": 8,
   "metadata": {},
   "outputs": [
    {
     "data": {
      "text/html": [
       "<div>\n",
       "<style scoped>\n",
       "    .dataframe tbody tr th:only-of-type {\n",
       "        vertical-align: middle;\n",
       "    }\n",
       "\n",
       "    .dataframe tbody tr th {\n",
       "        vertical-align: top;\n",
       "    }\n",
       "\n",
       "    .dataframe thead th {\n",
       "        text-align: right;\n",
       "    }\n",
       "</style>\n",
       "<table border=\"1\" class=\"dataframe\">\n",
       "  <thead>\n",
       "    <tr style=\"text-align: right;\">\n",
       "      <th></th>\n",
       "      <th>article id</th>\n",
       "      <th>source</th>\n",
       "      <th>article</th>\n",
       "      <th>clean_articles</th>\n",
       "      <th>targets</th>\n",
       "    </tr>\n",
       "  </thead>\n",
       "  <tbody>\n",
       "    <tr>\n",
       "      <th>2682</th>\n",
       "      <td>pbs_politics_614</td>\n",
       "      <td>PBS</td>\n",
       "      <td>— President Donald Trump leaves out a big com...</td>\n",
       "      <td>President Donald Trump leaves out a big comp...</td>\n",
       "      <td>1</td>\n",
       "    </tr>\n",
       "    <tr>\n",
       "      <th>300</th>\n",
       "      <td>fox_politics_568</td>\n",
       "      <td>Fox</td>\n",
       "      <td>Judge Nap on New York Times Report Trump Inter...</td>\n",
       "      <td>Judge Nap on New York Times Report Trump Inter...</td>\n",
       "      <td>3</td>\n",
       "    </tr>\n",
       "    <tr>\n",
       "      <th>1345</th>\n",
       "      <td>vox_politics_1500</td>\n",
       "      <td>Vox</td>\n",
       "      <td>The White House threw in the towel on two of P...</td>\n",
       "      <td>The White House threw in the towel on two of P...</td>\n",
       "      <td>2</td>\n",
       "    </tr>\n",
       "    <tr>\n",
       "      <th>523</th>\n",
       "      <td>vox_politics_1820</td>\n",
       "      <td>Vox</td>\n",
       "      <td>Two more Senate Republicans came out against t...</td>\n",
       "      <td>Two more Senate Republicans came out against t...</td>\n",
       "      <td>2</td>\n",
       "    </tr>\n",
       "    <tr>\n",
       "      <th>3238</th>\n",
       "      <td>pbs_politics_1730</td>\n",
       "      <td>PBS</td>\n",
       "      <td>WEST PALM BEACH, Fla. — President Donald Trump...</td>\n",
       "      <td>WEST PALM BEACH, Fla.  President Donald Trump ...</td>\n",
       "      <td>1</td>\n",
       "    </tr>\n",
       "  </tbody>\n",
       "</table>\n",
       "</div>"
      ],
      "text/plain": [
       "             article id source  \\\n",
       "2682   pbs_politics_614    PBS   \n",
       "300    fox_politics_568    Fox   \n",
       "1345  vox_politics_1500    Vox   \n",
       "523   vox_politics_1820    Vox   \n",
       "3238  pbs_politics_1730    PBS   \n",
       "\n",
       "                                                article  \\\n",
       "2682   — President Donald Trump leaves out a big com...   \n",
       "300   Judge Nap on New York Times Report Trump Inter...   \n",
       "1345  The White House threw in the towel on two of P...   \n",
       "523   Two more Senate Republicans came out against t...   \n",
       "3238  WEST PALM BEACH, Fla. — President Donald Trump...   \n",
       "\n",
       "                                         clean_articles  targets  \n",
       "2682    President Donald Trump leaves out a big comp...        1  \n",
       "300   Judge Nap on New York Times Report Trump Inter...        3  \n",
       "1345  The White House threw in the towel on two of P...        2  \n",
       "523   Two more Senate Republicans came out against t...        2  \n",
       "3238  WEST PALM BEACH, Fla.  President Donald Trump ...        1  "
      ]
     },
     "execution_count": 8,
     "metadata": {},
     "output_type": "execute_result"
    }
   ],
   "source": [
    "test_df.head()"
   ]
  },
  {
   "cell_type": "markdown",
   "metadata": {},
   "source": [
    "### Check for similarity between test and training"
   ]
  },
  {
   "cell_type": "code",
   "execution_count": 9,
   "metadata": {},
   "outputs": [
    {
     "data": {
      "text/html": [
       "<div>\n",
       "<style scoped>\n",
       "    .dataframe tbody tr th:only-of-type {\n",
       "        vertical-align: middle;\n",
       "    }\n",
       "\n",
       "    .dataframe tbody tr th {\n",
       "        vertical-align: top;\n",
       "    }\n",
       "\n",
       "    .dataframe thead th {\n",
       "        text-align: right;\n",
       "    }\n",
       "</style>\n",
       "<table border=\"1\" class=\"dataframe\">\n",
       "  <thead>\n",
       "    <tr style=\"text-align: right;\">\n",
       "      <th></th>\n",
       "      <th>article id</th>\n",
       "      <th>article</th>\n",
       "      <th>clean_articles</th>\n",
       "      <th>targets</th>\n",
       "    </tr>\n",
       "    <tr>\n",
       "      <th>source</th>\n",
       "      <th></th>\n",
       "      <th></th>\n",
       "      <th></th>\n",
       "      <th></th>\n",
       "    </tr>\n",
       "  </thead>\n",
       "  <tbody>\n",
       "    <tr>\n",
       "      <th>Fox</th>\n",
       "      <td>50</td>\n",
       "      <td>50</td>\n",
       "      <td>50</td>\n",
       "      <td>50</td>\n",
       "    </tr>\n",
       "    <tr>\n",
       "      <th>PBS</th>\n",
       "      <td>175</td>\n",
       "      <td>175</td>\n",
       "      <td>175</td>\n",
       "      <td>175</td>\n",
       "    </tr>\n",
       "    <tr>\n",
       "      <th>Vox</th>\n",
       "      <td>100</td>\n",
       "      <td>100</td>\n",
       "      <td>100</td>\n",
       "      <td>100</td>\n",
       "    </tr>\n",
       "  </tbody>\n",
       "</table>\n",
       "</div>"
      ],
      "text/plain": [
       "        article id  article  clean_articles  targets\n",
       "source                                              \n",
       "Fox             50       50              50       50\n",
       "PBS            175      175             175      175\n",
       "Vox            100      100             100      100"
      ]
     },
     "execution_count": 9,
     "metadata": {},
     "output_type": "execute_result"
    }
   ],
   "source": [
    "test_df.groupby('source').count()"
   ]
  },
  {
   "cell_type": "code",
   "execution_count": 10,
   "metadata": {},
   "outputs": [
    {
     "data": {
      "text/html": [
       "<div>\n",
       "<style scoped>\n",
       "    .dataframe tbody tr th:only-of-type {\n",
       "        vertical-align: middle;\n",
       "    }\n",
       "\n",
       "    .dataframe tbody tr th {\n",
       "        vertical-align: top;\n",
       "    }\n",
       "\n",
       "    .dataframe thead th {\n",
       "        text-align: right;\n",
       "    }\n",
       "</style>\n",
       "<table border=\"1\" class=\"dataframe\">\n",
       "  <thead>\n",
       "    <tr style=\"text-align: right;\">\n",
       "      <th></th>\n",
       "      <th>article id</th>\n",
       "      <th>article</th>\n",
       "      <th>clean_articles</th>\n",
       "      <th>targets</th>\n",
       "    </tr>\n",
       "    <tr>\n",
       "      <th>source</th>\n",
       "      <th></th>\n",
       "      <th></th>\n",
       "      <th></th>\n",
       "      <th></th>\n",
       "    </tr>\n",
       "  </thead>\n",
       "  <tbody>\n",
       "    <tr>\n",
       "      <th>Fox</th>\n",
       "      <td>426</td>\n",
       "      <td>426</td>\n",
       "      <td>426</td>\n",
       "      <td>426</td>\n",
       "    </tr>\n",
       "    <tr>\n",
       "      <th>PBS</th>\n",
       "      <td>1564</td>\n",
       "      <td>1564</td>\n",
       "      <td>1564</td>\n",
       "      <td>1564</td>\n",
       "    </tr>\n",
       "    <tr>\n",
       "      <th>Vox</th>\n",
       "      <td>927</td>\n",
       "      <td>927</td>\n",
       "      <td>927</td>\n",
       "      <td>927</td>\n",
       "    </tr>\n",
       "  </tbody>\n",
       "</table>\n",
       "</div>"
      ],
      "text/plain": [
       "        article id  article  clean_articles  targets\n",
       "source                                              \n",
       "Fox            426      426             426      426\n",
       "PBS           1564     1564            1564     1564\n",
       "Vox            927      927             927      927"
      ]
     },
     "execution_count": 10,
     "metadata": {},
     "output_type": "execute_result"
    }
   ],
   "source": [
    "train_df.groupby('source').count()"
   ]
  },
  {
   "cell_type": "markdown",
   "metadata": {},
   "source": [
    "## Get Embeddings, Build Functions"
   ]
  },
  {
   "cell_type": "code",
   "execution_count": 11,
   "metadata": {},
   "outputs": [],
   "source": [
    "from tqdm import tqdm"
   ]
  },
  {
   "cell_type": "code",
   "execution_count": null,
   "metadata": {},
   "outputs": [
    {
     "name": "stderr",
     "output_type": "stream",
     "text": [
      "1046541it [04:55, 5055.69it/s]"
     ]
    }
   ],
   "source": [
    "PATH = '/home/stephen/Dropbox/CodeWorkspace/data-sets/NLP/quora-questions/embeddings/glove.840B.300d/'\n",
    "FILE = PATH + 'glove.840B.300d.txt'\n",
    "\n",
    "embeddings_index = {}\n",
    " \n",
    "with open(FILE, encoding='utf8') as embed:\n",
    "    for line in tqdm(embed):\n",
    "        values = line.split(' ')\n",
    "        word = values[0]\n",
    "        coefs = np.asarray(values[1:], dtype='float32')\n",
    "        embeddings_index[word] = coefs\n",
    "        \n",
    "print(f\"Found {len(embeddings_index)} word vectors\")"
   ]
  },
  {
   "cell_type": "code",
   "execution_count": 13,
   "metadata": {},
   "outputs": [],
   "source": [
    "def text_to_array(text, article_length=500):\n",
    "    empty_emb = np.zeros(300)                   # each word is represented by a length 300 vector\n",
    "    text = text[:-1].split()[:article_length]   # each article is length 10000\n",
    "    \n",
    "    # look for word embedding, return zero array otherwise. \n",
    "    embeds = [embeddings_index.get(x, empty_emb) for x in text]\n",
    "    embeds += [empty_emb] * (article_length - len(embeds))\n",
    "    return np.array(embeds)"
   ]
  },
  {
   "cell_type": "code",
   "execution_count": 18,
   "metadata": {},
   "outputs": [],
   "source": [
    "def batch_gen(train_df, batch_size=64):\n",
    "    n = math.ceil(len(train_df) / batch_size)\n",
    "    while True: \n",
    "        train_df = train_df.sample(frac=1.0)\n",
    "        \n",
    "        for i in range(n):\n",
    "            texts = train_df['article'][i*batch_size: (i+1)*batch_size]\n",
    "            text_arr = np.array([text_to_array(text) for text in texts])\n",
    "            targets = np.array(train_df['targets'][i*batch_size: (i+1)*batch_size])\n",
    "            yield text_arr, targets"
   ]
  },
  {
   "cell_type": "markdown",
   "metadata": {},
   "source": [
    "## Setup Model"
   ]
  },
  {
   "cell_type": "code",
   "execution_count": 19,
   "metadata": {},
   "outputs": [
    {
     "name": "stderr",
     "output_type": "stream",
     "text": [
      "100%|██████████| 325/325 [00:00<00:00, 928.34it/s]\n"
     ]
    }
   ],
   "source": [
    "# witheld for validation\n",
    "test_articles = np.array([text_to_array(x) for x in tqdm(test_df[\"clean_articles\"])])\n",
    "test_target = np.array(test_df[\"targets\"])"
   ]
  },
  {
   "cell_type": "code",
   "execution_count": 20,
   "metadata": {},
   "outputs": [
    {
     "name": "stdout",
     "output_type": "stream",
     "text": [
      "_________________________________________________________________\n",
      "Layer (type)                 Output Shape              Param #   \n",
      "=================================================================\n",
      "bidirectional_3 (Bidirection (None, 500, 64)           85248     \n",
      "_________________________________________________________________\n",
      "bidirectional_4 (Bidirection (None, 64)                24832     \n",
      "_________________________________________________________________\n",
      "dense_2 (Dense)              (None, 1)                 65        \n",
      "=================================================================\n",
      "Total params: 110,145\n",
      "Trainable params: 110,145\n",
      "Non-trainable params: 0\n",
      "_________________________________________________________________\n"
     ]
    }
   ],
   "source": [
    "# note batch_size = 64         -> words per batch\n",
    "#      article_length = 500    -> words per article\n",
    "#      embed_length = 300      -> vector length per word\n",
    "\n",
    "input_shape = (500, 300)\n",
    "\n",
    "model = Sequential()\n",
    "model.add(Bidirectional(LSTM(32, return_sequences=True, dropout=0.05, recurrent_dropout=0.1), \\\n",
    "                        input_shape=input_shape))\n",
    "model.add(Bidirectional(LSTM(32)))\n",
    "model.add(Dense(1, activation=\"sigmoid\"))\n",
    "model.compile(loss=\"binary_crossentropy\", \\\n",
    "              optimizer=\"adam\", \\\n",
    "              metrics=[\"accuracy\"])\n",
    "model.summary()"
   ]
  },
  {
   "cell_type": "code",
   "execution_count": 21,
   "metadata": {},
   "outputs": [
    {
     "name": "stdout",
     "output_type": "stream",
     "text": [
      "Epoch 1/2\n",
      "500/500 [==============================] - 1475s 3s/step - loss: -8.8058 - acc: 0.5411 - val_loss: -10.9880 - val_acc: 0.4892\n",
      "Epoch 2/2\n",
      "500/500 [==============================] - 1321s 3s/step - loss: -9.5860 - acc: 0.5418 - val_loss: -10.9880 - val_acc: 0.4892\n"
     ]
    },
    {
     "data": {
      "text/plain": [
       "<keras.callbacks.History at 0x7fa5a6435278>"
      ]
     },
     "execution_count": 21,
     "metadata": {},
     "output_type": "execute_result"
    }
   ],
   "source": [
    "data = batch_gen(train_df)\n",
    "model.fit_generator(data, epochs=2, steps_per_epoch=500, \\\n",
    "                    validation_data=(test_articles, test_target), \\\n",
    "                    verbose=True)"
   ]
  },
  {
   "cell_type": "code",
   "execution_count": null,
   "metadata": {},
   "outputs": [],
   "source": []
  }
 ],
 "metadata": {
  "kernelspec": {
   "display_name": "Python 3",
   "language": "python",
   "name": "python3"
  },
  "language_info": {
   "codemirror_mode": {
    "name": "ipython",
    "version": 3
   },
   "file_extension": ".py",
   "mimetype": "text/x-python",
   "name": "python",
   "nbconvert_exporter": "python",
   "pygments_lexer": "ipython3",
   "version": "3.6.8"
  }
 },
 "nbformat": 4,
 "nbformat_minor": 2
}
