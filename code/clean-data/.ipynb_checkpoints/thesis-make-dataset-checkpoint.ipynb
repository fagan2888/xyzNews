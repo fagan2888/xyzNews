{
 "cells": [
  {
   "cell_type": "markdown",
   "metadata": {},
   "source": [
    "## Imports"
   ]
  },
  {
   "cell_type": "code",
   "execution_count": 1,
   "metadata": {},
   "outputs": [],
   "source": [
    "import pandas as pd\n",
    "from tqdm import tqdm\n",
    "import os"
   ]
  },
  {
   "cell_type": "markdown",
   "metadata": {},
   "source": [
    "#### Notes for os module usage:\n",
    "```\n",
    ">>> os.getcwd()\n",
    "'/home/stephen/'\n",
    ">>> os.chdir('/home/stephen/.../')\n",
    ">>> os.listdir()\n",
    "['.bashrc', ...]\n",
    "```"
   ]
  },
  {
   "cell_type": "code",
   "execution_count": 2,
   "metadata": {},
   "outputs": [
    {
     "data": {
      "text/plain": [
       "'/home/stephen/Dropbox/General/Projects/Thesis/code/clean-data'"
      ]
     },
     "execution_count": 2,
     "metadata": {},
     "output_type": "execute_result"
    }
   ],
   "source": [
    "os.getcwd()"
   ]
  },
  {
   "cell_type": "code",
   "execution_count": 3,
   "metadata": {},
   "outputs": [],
   "source": [
    "DATASET_PATH = \"/home/stephen/Dropbox/General/Projects/Thesis/data/\"\n",
    "\n",
    "FOX = \"fox-politics/\"\n",
    "VOX = \"vox-politics/\"\n",
    "PBS = \"pbs-politics/\""
   ]
  },
  {
   "cell_type": "markdown",
   "metadata": {},
   "source": [
    "## Read Fox News"
   ]
  },
  {
   "cell_type": "code",
   "execution_count": 4,
   "metadata": {},
   "outputs": [],
   "source": [
    "os.chdir(DATASET_PATH + FOX)"
   ]
  },
  {
   "cell_type": "code",
   "execution_count": 5,
   "metadata": {},
   "outputs": [
    {
     "name": "stdout",
     "output_type": "stream",
     "text": [
      "There are 1024 articles\n"
     ]
    },
    {
     "data": {
      "text/plain": [
       "['fox_politics_166.txt',\n",
       " 'fox_politics_390.txt',\n",
       " 'fox_politics_423.txt',\n",
       " 'fox_politics_102.txt',\n",
       " 'fox_politics_492.txt',\n",
       " 'fox_politics_554.txt',\n",
       " 'fox_politics_490.txt',\n",
       " 'fox_politics_590.txt',\n",
       " 'fox_politics_1.txt',\n",
       " 'fox_politics_971.txt']"
      ]
     },
     "execution_count": 5,
     "metadata": {},
     "output_type": "execute_result"
    }
   ],
   "source": [
    "files_to_read = os.listdir()\n",
    "print(f\"There are {len(files_to_read)} articles\")\n",
    "files_to_read[:10]"
   ]
  },
  {
   "cell_type": "code",
   "execution_count": 6,
   "metadata": {},
   "outputs": [
    {
     "name": "stderr",
     "output_type": "stream",
     "text": [
      "100%|██████████| 1024/1024 [00:00<00:00, 16133.94it/s]\n"
     ]
    }
   ],
   "source": [
    "articles = []\n",
    "sources = []\n",
    "ids = []\n",
    "for f in tqdm(files_to_read): \n",
    "    if '.txt' in f: \n",
    "        article_id = f[:-4]\n",
    "        with open(f, 'r') as _file: \n",
    "            txt = _file.read()\n",
    "        articles.append(txt)\n",
    "        sources.append('Fox')\n",
    "        ids.append(article_id)\n"
   ]
  },
  {
   "cell_type": "code",
   "execution_count": 7,
   "metadata": {},
   "outputs": [],
   "source": [
    "fox_data = {\"article id\":ids, \"source\":sources, \"article\":articles}"
   ]
  },
  {
   "cell_type": "code",
   "execution_count": 8,
   "metadata": {},
   "outputs": [
    {
     "data": {
      "text/html": [
       "<div>\n",
       "<style scoped>\n",
       "    .dataframe tbody tr th:only-of-type {\n",
       "        vertical-align: middle;\n",
       "    }\n",
       "\n",
       "    .dataframe tbody tr th {\n",
       "        vertical-align: top;\n",
       "    }\n",
       "\n",
       "    .dataframe thead th {\n",
       "        text-align: right;\n",
       "    }\n",
       "</style>\n",
       "<table border=\"1\" class=\"dataframe\">\n",
       "  <thead>\n",
       "    <tr style=\"text-align: right;\">\n",
       "      <th></th>\n",
       "      <th>article id</th>\n",
       "      <th>source</th>\n",
       "      <th>article</th>\n",
       "    </tr>\n",
       "  </thead>\n",
       "  <tbody>\n",
       "    <tr>\n",
       "      <th>1022</th>\n",
       "      <td>fox_politics_304</td>\n",
       "      <td>Fox</td>\n",
       "      <td>Video\\nWhat is the 'Green New Deal' proposal d...</td>\n",
       "    </tr>\n",
       "    <tr>\n",
       "      <th>1023</th>\n",
       "      <td>fox_politics_402</td>\n",
       "      <td>Fox</td>\n",
       "      <td>The film “Black Panther” depicted conservative...</td>\n",
       "    </tr>\n",
       "  </tbody>\n",
       "</table>\n",
       "</div>"
      ],
      "text/plain": [
       "            article id source  \\\n",
       "1022  fox_politics_304    Fox   \n",
       "1023  fox_politics_402    Fox   \n",
       "\n",
       "                                                article  \n",
       "1022  Video\\nWhat is the 'Green New Deal' proposal d...  \n",
       "1023  The film “Black Panther” depicted conservative...  "
      ]
     },
     "execution_count": 8,
     "metadata": {},
     "output_type": "execute_result"
    }
   ],
   "source": [
    "fox_df = pd.DataFrame(fox_data)\n",
    "fox_df.tail(2)"
   ]
  },
  {
   "cell_type": "markdown",
   "metadata": {},
   "source": [
    "## Read Vox"
   ]
  },
  {
   "cell_type": "code",
   "execution_count": 9,
   "metadata": {},
   "outputs": [],
   "source": [
    "os.chdir(DATASET_PATH + VOX)"
   ]
  },
  {
   "cell_type": "code",
   "execution_count": 10,
   "metadata": {},
   "outputs": [
    {
     "name": "stdout",
     "output_type": "stream",
     "text": [
      "There are 2001 articles\n"
     ]
    },
    {
     "data": {
      "text/plain": [
       "['vox_politics_396.txt',\n",
       " 'vox_politics_372.txt',\n",
       " 'vox_politics_602.txt',\n",
       " 'vox_politics_1198.txt',\n",
       " 'vox_politics_682.txt']"
      ]
     },
     "execution_count": 10,
     "metadata": {},
     "output_type": "execute_result"
    }
   ],
   "source": [
    "files_to_read = os.listdir()\n",
    "print(f\"There are {len(files_to_read)} articles\")\n",
    "files_to_read[:5]"
   ]
  },
  {
   "cell_type": "code",
   "execution_count": 11,
   "metadata": {},
   "outputs": [
    {
     "name": "stderr",
     "output_type": "stream",
     "text": [
      "100%|██████████| 2001/2001 [00:00<00:00, 20481.64it/s]\n"
     ]
    }
   ],
   "source": [
    "articles = []\n",
    "sources = []\n",
    "ids = []\n",
    "for f in tqdm(files_to_read): \n",
    "    if '.txt' in f and ('urls' not in f): \n",
    "        article_id = f[:-4]\n",
    "        with open(f, 'r') as _file: \n",
    "            txt = _file.read()\n",
    "        articles.append(txt)\n",
    "        sources.append('Vox')\n",
    "        ids.append(article_id)"
   ]
  },
  {
   "cell_type": "code",
   "execution_count": 12,
   "metadata": {},
   "outputs": [],
   "source": [
    "vox_data = {\"article id\":ids, \"source\":sources, \"article\":articles}"
   ]
  },
  {
   "cell_type": "code",
   "execution_count": 13,
   "metadata": {},
   "outputs": [
    {
     "data": {
      "text/html": [
       "<div>\n",
       "<style scoped>\n",
       "    .dataframe tbody tr th:only-of-type {\n",
       "        vertical-align: middle;\n",
       "    }\n",
       "\n",
       "    .dataframe tbody tr th {\n",
       "        vertical-align: top;\n",
       "    }\n",
       "\n",
       "    .dataframe thead th {\n",
       "        text-align: right;\n",
       "    }\n",
       "</style>\n",
       "<table border=\"1\" class=\"dataframe\">\n",
       "  <thead>\n",
       "    <tr style=\"text-align: right;\">\n",
       "      <th></th>\n",
       "      <th>article id</th>\n",
       "      <th>source</th>\n",
       "      <th>article</th>\n",
       "    </tr>\n",
       "  </thead>\n",
       "  <tbody>\n",
       "    <tr>\n",
       "      <th>0</th>\n",
       "      <td>vox_politics_396</td>\n",
       "      <td>Vox</td>\n",
       "      <td>Senate Republicans on Thursday revealed the Be...</td>\n",
       "    </tr>\n",
       "    <tr>\n",
       "      <th>1</th>\n",
       "      <td>vox_politics_372</td>\n",
       "      <td>Vox</td>\n",
       "      <td>“New York will be destroyed,” the state’s Gov....</td>\n",
       "    </tr>\n",
       "  </tbody>\n",
       "</table>\n",
       "</div>"
      ],
      "text/plain": [
       "         article id source                                            article\n",
       "0  vox_politics_396    Vox  Senate Republicans on Thursday revealed the Be...\n",
       "1  vox_politics_372    Vox  “New York will be destroyed,” the state’s Gov...."
      ]
     },
     "execution_count": 13,
     "metadata": {},
     "output_type": "execute_result"
    }
   ],
   "source": [
    "vox_df = pd.DataFrame(vox_data)\n",
    "vox_df.head(2)"
   ]
  },
  {
   "cell_type": "markdown",
   "metadata": {},
   "source": [
    "## Read PBS"
   ]
  },
  {
   "cell_type": "code",
   "execution_count": 14,
   "metadata": {},
   "outputs": [],
   "source": [
    "os.chdir(DATASET_PATH + PBS)"
   ]
  },
  {
   "cell_type": "code",
   "execution_count": 15,
   "metadata": {},
   "outputs": [
    {
     "name": "stdout",
     "output_type": "stream",
     "text": [
      "There are 1753 articles\n"
     ]
    },
    {
     "data": {
      "text/plain": [
       "['vox_politics_396.txt',\n",
       " 'vox_politics_372.txt',\n",
       " 'vox_politics_602.txt',\n",
       " 'vox_politics_1198.txt',\n",
       " 'vox_politics_682.txt']"
      ]
     },
     "execution_count": 15,
     "metadata": {},
     "output_type": "execute_result"
    }
   ],
   "source": [
    "# there is a coding error here \n",
    "# I accidently saved the pbs articles in a vox tag\n",
    "\n",
    "files_to_read = os.listdir()\n",
    "print(f\"There are {len(files_to_read)} articles\")\n",
    "files_to_read[:5]"
   ]
  },
  {
   "cell_type": "code",
   "execution_count": 16,
   "metadata": {},
   "outputs": [
    {
     "name": "stderr",
     "output_type": "stream",
     "text": [
      "100%|██████████| 1753/1753 [00:00<00:00, 19045.86it/s]\n"
     ]
    }
   ],
   "source": [
    "articles = []\n",
    "sources = []\n",
    "ids = []\n",
    "for f in tqdm(files_to_read): \n",
    "    if '.txt' in f and ('urls' not in f): \n",
    "        article_id = f[:-4].replace('vox', 'pbs')\n",
    "        with open(f, 'r') as _file: \n",
    "            txt = _file.read()\n",
    "        articles.append(txt)\n",
    "        sources.append('PBS')\n",
    "        ids.append(article_id)"
   ]
  },
  {
   "cell_type": "code",
   "execution_count": 17,
   "metadata": {},
   "outputs": [],
   "source": [
    "pbs_data = {\"article id\":ids, \"source\":sources, \"article\":articles}"
   ]
  },
  {
   "cell_type": "code",
   "execution_count": 18,
   "metadata": {},
   "outputs": [
    {
     "data": {
      "text/html": [
       "<div>\n",
       "<style scoped>\n",
       "    .dataframe tbody tr th:only-of-type {\n",
       "        vertical-align: middle;\n",
       "    }\n",
       "\n",
       "    .dataframe tbody tr th {\n",
       "        vertical-align: top;\n",
       "    }\n",
       "\n",
       "    .dataframe thead th {\n",
       "        text-align: right;\n",
       "    }\n",
       "</style>\n",
       "<table border=\"1\" class=\"dataframe\">\n",
       "  <thead>\n",
       "    <tr style=\"text-align: right;\">\n",
       "      <th></th>\n",
       "      <th>article id</th>\n",
       "      <th>source</th>\n",
       "      <th>article</th>\n",
       "    </tr>\n",
       "  </thead>\n",
       "  <tbody>\n",
       "    <tr>\n",
       "      <th>0</th>\n",
       "      <td>pbs_politics_396</td>\n",
       "      <td>PBS</td>\n",
       "      <td>President Donald Trump’s longtime personal law...</td>\n",
       "    </tr>\n",
       "    <tr>\n",
       "      <th>1</th>\n",
       "      <td>pbs_politics_372</td>\n",
       "      <td>PBS</td>\n",
       "      <td>WASHINGTON — Facing a midnight deadline to avo...</td>\n",
       "    </tr>\n",
       "  </tbody>\n",
       "</table>\n",
       "</div>"
      ],
      "text/plain": [
       "         article id source                                            article\n",
       "0  pbs_politics_396    PBS  President Donald Trump’s longtime personal law...\n",
       "1  pbs_politics_372    PBS  WASHINGTON — Facing a midnight deadline to avo..."
      ]
     },
     "execution_count": 18,
     "metadata": {},
     "output_type": "execute_result"
    }
   ],
   "source": [
    "pbs_df = pd.DataFrame(pbs_data)\n",
    "pbs_df.head(2)"
   ]
  },
  {
   "cell_type": "markdown",
   "metadata": {},
   "source": [
    "## Merge DataFrames"
   ]
  },
  {
   "cell_type": "code",
   "execution_count": 26,
   "metadata": {},
   "outputs": [],
   "source": [
    "df = pd.DataFrame()\n",
    "df = df.append(fox_df)"
   ]
  },
  {
   "cell_type": "code",
   "execution_count": 27,
   "metadata": {},
   "outputs": [],
   "source": [
    "df = df.append(vox_df)\n",
    "df = df.append(pbs_df)"
   ]
  },
  {
   "cell_type": "code",
   "execution_count": 28,
   "metadata": {},
   "outputs": [
    {
     "data": {
      "text/html": [
       "<div>\n",
       "<style scoped>\n",
       "    .dataframe tbody tr th:only-of-type {\n",
       "        vertical-align: middle;\n",
       "    }\n",
       "\n",
       "    .dataframe tbody tr th {\n",
       "        vertical-align: top;\n",
       "    }\n",
       "\n",
       "    .dataframe thead th {\n",
       "        text-align: right;\n",
       "    }\n",
       "</style>\n",
       "<table border=\"1\" class=\"dataframe\">\n",
       "  <thead>\n",
       "    <tr style=\"text-align: right;\">\n",
       "      <th></th>\n",
       "      <th>article id</th>\n",
       "      <th>source</th>\n",
       "      <th>article</th>\n",
       "    </tr>\n",
       "  </thead>\n",
       "  <tbody>\n",
       "    <tr>\n",
       "      <th>count</th>\n",
       "      <td>5024</td>\n",
       "      <td>5024</td>\n",
       "      <td>5024</td>\n",
       "    </tr>\n",
       "    <tr>\n",
       "      <th>unique</th>\n",
       "      <td>5024</td>\n",
       "      <td>3</td>\n",
       "      <td>1689</td>\n",
       "    </tr>\n",
       "    <tr>\n",
       "      <th>top</th>\n",
       "      <td>pbs_politics_1131</td>\n",
       "      <td>Vox</td>\n",
       "      <td>Part of The 2018 midterm elections, explained</td>\n",
       "    </tr>\n",
       "    <tr>\n",
       "      <th>freq</th>\n",
       "      <td>1</td>\n",
       "      <td>2000</td>\n",
       "      <td>304</td>\n",
       "    </tr>\n",
       "  </tbody>\n",
       "</table>\n",
       "</div>"
      ],
      "text/plain": [
       "               article id source  \\\n",
       "count                5024   5024   \n",
       "unique               5024      3   \n",
       "top     pbs_politics_1131    Vox   \n",
       "freq                    1   2000   \n",
       "\n",
       "                                              article  \n",
       "count                                            5024  \n",
       "unique                                           1689  \n",
       "top     Part of The 2018 midterm elections, explained  \n",
       "freq                                              304  "
      ]
     },
     "execution_count": 28,
     "metadata": {},
     "output_type": "execute_result"
    }
   ],
   "source": [
    "df.describe()"
   ]
  },
  {
   "cell_type": "markdown",
   "metadata": {},
   "source": [
    "## Dump to CSV for Easy Read"
   ]
  },
  {
   "cell_type": "code",
   "execution_count": 29,
   "metadata": {},
   "outputs": [],
   "source": [
    "os.chdir(DATASET_PATH)\n",
    "df.to_csv('articles.csv', sep='|')"
   ]
  },
  {
   "cell_type": "code",
   "execution_count": null,
   "metadata": {},
   "outputs": [],
   "source": []
  }
 ],
 "metadata": {
  "kernelspec": {
   "display_name": "Python 3",
   "language": "python",
   "name": "python3"
  },
  "language_info": {
   "codemirror_mode": {
    "name": "ipython",
    "version": 3
   },
   "file_extension": ".py",
   "mimetype": "text/x-python",
   "name": "python",
   "nbconvert_exporter": "python",
   "pygments_lexer": "ipython3",
   "version": "3.6.8"
  }
 },
 "nbformat": 4,
 "nbformat_minor": 2
}
