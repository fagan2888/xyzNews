{
 "cells": [
  {
   "cell_type": "markdown",
   "metadata": {},
   "source": [
    "# Vox and PBS\n",
    "\n",
    "### Author \n",
    "Stephen Lee\n",
    "\n",
    "### Goal\n",
    "Classify news source based on the article text. Training data: \n",
    "- Vox News\n",
    "- PBS News\n",
    "\n",
    "### Date \n",
    "4.8.19"
   ]
  },
  {
   "cell_type": "markdown",
   "metadata": {},
   "source": [
    "## Read Data"
   ]
  },
  {
   "cell_type": "code",
   "execution_count": 18,
   "metadata": {
    "collapsed": false
   },
   "outputs": [],
   "source": [
    "from keras.preprocessing.text import Tokenizer \n",
    "from keras.preprocessing.sequence import pad_sequences \n",
    "from keras.models import Sequential\n",
    "from keras.layers import GRU, Dense, Bidirectional, LSTM, Activation\n",
    "\n",
    "import os \n",
    "import math \n",
    "import pandas as pd \n",
    "\n",
    "from sklearn.model_selection import train_test_split\n",
    "from sklearn import metrics"
   ]
  },
  {
   "cell_type": "code",
   "execution_count": 2,
   "metadata": {
    "collapsed": true
   },
   "outputs": [],
   "source": [
    "FOLDER_READ = '/home/smlee_981/data'\n",
    "FILE = 'clean_article_df.csv'"
   ]
  },
  {
   "cell_type": "code",
   "execution_count": 3,
   "metadata": {
    "collapsed": false
   },
   "outputs": [
    {
     "data": {
      "text/plain": [
       "'/home/smlee_981'"
      ]
     },
     "execution_count": 3,
     "metadata": {},
     "output_type": "execute_result"
    }
   ],
   "source": [
    "os.getcwd()"
   ]
  },
  {
   "cell_type": "code",
   "execution_count": 4,
   "metadata": {
    "collapsed": true
   },
   "outputs": [],
   "source": [
    "os.chdir(FOLDER_READ)"
   ]
  },
  {
   "cell_type": "code",
   "execution_count": 5,
   "metadata": {
    "collapsed": false
   },
   "outputs": [
    {
     "data": {
      "text/plain": [
       "['clean_article_df.csv', 'glove.840B.300d.txt']"
      ]
     },
     "execution_count": 5,
     "metadata": {},
     "output_type": "execute_result"
    }
   ],
   "source": [
    "os.listdir()"
   ]
  },
  {
   "cell_type": "code",
   "execution_count": 6,
   "metadata": {
    "collapsed": false
   },
   "outputs": [
    {
     "data": {
      "text/html": [
       "<div>\n",
       "<style scoped>\n",
       "    .dataframe tbody tr th:only-of-type {\n",
       "        vertical-align: middle;\n",
       "    }\n",
       "\n",
       "    .dataframe tbody tr th {\n",
       "        vertical-align: top;\n",
       "    }\n",
       "\n",
       "    .dataframe thead th {\n",
       "        text-align: right;\n",
       "    }\n",
       "</style>\n",
       "<table border=\"1\" class=\"dataframe\">\n",
       "  <thead>\n",
       "    <tr style=\"text-align: right;\">\n",
       "      <th></th>\n",
       "      <th>article id</th>\n",
       "      <th>source</th>\n",
       "      <th>article</th>\n",
       "      <th>clean_articles</th>\n",
       "      <th>targets</th>\n",
       "    </tr>\n",
       "  </thead>\n",
       "  <tbody>\n",
       "    <tr>\n",
       "      <th>0</th>\n",
       "      <td>fox_politics_166</td>\n",
       "      <td>Fox</td>\n",
       "      <td>Bolton warns Venezuela's Maduro to stay away f...</td>\n",
       "      <td>Bolton warns Venezuela's Maduro to stay away f...</td>\n",
       "      <td>3</td>\n",
       "    </tr>\n",
       "    <tr>\n",
       "      <th>1</th>\n",
       "      <td>fox_politics_390</td>\n",
       "      <td>Fox</td>\n",
       "      <td>Ocasio-Cortez rallies to stop all fossil fuel ...</td>\n",
       "      <td>Ocasio-Cortez rallies to stop all fossil fuel ...</td>\n",
       "      <td>3</td>\n",
       "    </tr>\n",
       "    <tr>\n",
       "      <th>2</th>\n",
       "      <td>fox_politics_423</td>\n",
       "      <td>Fox</td>\n",
       "      <td>The Pentagon announced Sunday the deployment o...</td>\n",
       "      <td>The Pentagon announced Sunday the deployment o...</td>\n",
       "      <td>3</td>\n",
       "    </tr>\n",
       "    <tr>\n",
       "      <th>3</th>\n",
       "      <td>fox_politics_102</td>\n",
       "      <td>Fox</td>\n",
       "      <td>Mayor Bill de Blasio says that US Rep. Alexand...</td>\n",
       "      <td>Mayor Bill de Blasio says that US Rep. Alexand...</td>\n",
       "      <td>3</td>\n",
       "    </tr>\n",
       "    <tr>\n",
       "      <th>4</th>\n",
       "      <td>fox_politics_492</td>\n",
       "      <td>Fox</td>\n",
       "      <td>Who is EPA's Andrew Wheeler?\\nEPA administrato...</td>\n",
       "      <td>Who is EPA's Andrew Wheeler?\\nEPA administrato...</td>\n",
       "      <td>3</td>\n",
       "    </tr>\n",
       "  </tbody>\n",
       "</table>\n",
       "</div>"
      ],
      "text/plain": [
       "         article id source                                            article  \\\n",
       "0  fox_politics_166    Fox  Bolton warns Venezuela's Maduro to stay away f...   \n",
       "1  fox_politics_390    Fox  Ocasio-Cortez rallies to stop all fossil fuel ...   \n",
       "2  fox_politics_423    Fox  The Pentagon announced Sunday the deployment o...   \n",
       "3  fox_politics_102    Fox  Mayor Bill de Blasio says that US Rep. Alexand...   \n",
       "4  fox_politics_492    Fox  Who is EPA's Andrew Wheeler?\\nEPA administrato...   \n",
       "\n",
       "                                      clean_articles  targets  \n",
       "0  Bolton warns Venezuela's Maduro to stay away f...        3  \n",
       "1  Ocasio-Cortez rallies to stop all fossil fuel ...        3  \n",
       "2  The Pentagon announced Sunday the deployment o...        3  \n",
       "3  Mayor Bill de Blasio says that US Rep. Alexand...        3  \n",
       "4  Who is EPA's Andrew Wheeler?\\nEPA administrato...        3  "
      ]
     },
     "execution_count": 6,
     "metadata": {},
     "output_type": "execute_result"
    }
   ],
   "source": [
    "df_all = pd.read_csv(FILE, sep='|').drop('Unnamed: 0', axis=1)\n",
    "df_all.head()"
   ]
  },
  {
   "cell_type": "markdown",
   "metadata": {},
   "source": [
    "## Remove Fox"
   ]
  },
  {
   "cell_type": "code",
   "execution_count": 7,
   "metadata": {
    "collapsed": false
   },
   "outputs": [
    {
     "data": {
      "text/html": [
       "<div>\n",
       "<style scoped>\n",
       "    .dataframe tbody tr th:only-of-type {\n",
       "        vertical-align: middle;\n",
       "    }\n",
       "\n",
       "    .dataframe tbody tr th {\n",
       "        vertical-align: top;\n",
       "    }\n",
       "\n",
       "    .dataframe thead th {\n",
       "        text-align: right;\n",
       "    }\n",
       "</style>\n",
       "<table border=\"1\" class=\"dataframe\">\n",
       "  <thead>\n",
       "    <tr style=\"text-align: right;\">\n",
       "      <th></th>\n",
       "      <th>article id</th>\n",
       "      <th>article</th>\n",
       "      <th>clean_articles</th>\n",
       "      <th>targets</th>\n",
       "    </tr>\n",
       "    <tr>\n",
       "      <th>source</th>\n",
       "      <th></th>\n",
       "      <th></th>\n",
       "      <th></th>\n",
       "      <th></th>\n",
       "    </tr>\n",
       "  </thead>\n",
       "  <tbody>\n",
       "    <tr>\n",
       "      <th>PBS</th>\n",
       "      <td>1739</td>\n",
       "      <td>1739</td>\n",
       "      <td>1739</td>\n",
       "      <td>1739</td>\n",
       "    </tr>\n",
       "    <tr>\n",
       "      <th>Vox</th>\n",
       "      <td>1027</td>\n",
       "      <td>1027</td>\n",
       "      <td>1027</td>\n",
       "      <td>1027</td>\n",
       "    </tr>\n",
       "  </tbody>\n",
       "</table>\n",
       "</div>"
      ],
      "text/plain": [
       "        article id  article  clean_articles  targets\n",
       "source                                              \n",
       "PBS           1739     1739            1739     1739\n",
       "Vox           1027     1027            1027     1027"
      ]
     },
     "execution_count": 7,
     "metadata": {},
     "output_type": "execute_result"
    }
   ],
   "source": [
    "df_all = df_all[df_all['source'] != \"Fox\"]\n",
    "df_all.groupby('source').count()"
   ]
  },
  {
   "cell_type": "markdown",
   "metadata": {},
   "source": [
    "## Duplicate Vox to balance"
   ]
  },
  {
   "cell_type": "code",
   "execution_count": 8,
   "metadata": {
    "collapsed": false
   },
   "outputs": [
    {
     "data": {
      "text/html": [
       "<div>\n",
       "<style scoped>\n",
       "    .dataframe tbody tr th:only-of-type {\n",
       "        vertical-align: middle;\n",
       "    }\n",
       "\n",
       "    .dataframe tbody tr th {\n",
       "        vertical-align: top;\n",
       "    }\n",
       "\n",
       "    .dataframe thead th {\n",
       "        text-align: right;\n",
       "    }\n",
       "</style>\n",
       "<table border=\"1\" class=\"dataframe\">\n",
       "  <thead>\n",
       "    <tr style=\"text-align: right;\">\n",
       "      <th></th>\n",
       "      <th>article id</th>\n",
       "      <th>source</th>\n",
       "      <th>article</th>\n",
       "      <th>clean_articles</th>\n",
       "      <th>targets</th>\n",
       "    </tr>\n",
       "  </thead>\n",
       "  <tbody>\n",
       "    <tr>\n",
       "      <th>476</th>\n",
       "      <td>vox_politics_396</td>\n",
       "      <td>Vox</td>\n",
       "      <td>Senate Republicans on Thursday revealed the Be...</td>\n",
       "      <td>Senate Republicans on Thursday revealed the Be...</td>\n",
       "      <td>2</td>\n",
       "    </tr>\n",
       "    <tr>\n",
       "      <th>477</th>\n",
       "      <td>vox_politics_372</td>\n",
       "      <td>Vox</td>\n",
       "      <td>“New York will be destroyed,” the state’s Gov....</td>\n",
       "      <td>“New York will be destroyed,” the state’s Gov....</td>\n",
       "      <td>2</td>\n",
       "    </tr>\n",
       "    <tr>\n",
       "      <th>478</th>\n",
       "      <td>vox_politics_602</td>\n",
       "      <td>Vox</td>\n",
       "      <td>The Trump administration wants to send a messa...</td>\n",
       "      <td>The Trump administration wants to send a messa...</td>\n",
       "      <td>2</td>\n",
       "    </tr>\n",
       "    <tr>\n",
       "      <th>479</th>\n",
       "      <td>vox_politics_1198</td>\n",
       "      <td>Vox</td>\n",
       "      <td>Donald Trump’s long, improbable journey to pol...</td>\n",
       "      <td>Donald Trump’s long, improbable journey to pol...</td>\n",
       "      <td>2</td>\n",
       "    </tr>\n",
       "    <tr>\n",
       "      <th>480</th>\n",
       "      <td>vox_politics_682</td>\n",
       "      <td>Vox</td>\n",
       "      <td>The Trump administration threw the fate of the...</td>\n",
       "      <td>The Trump administration threw the fate of the...</td>\n",
       "      <td>2</td>\n",
       "    </tr>\n",
       "  </tbody>\n",
       "</table>\n",
       "</div>"
      ],
      "text/plain": [
       "            article id source  \\\n",
       "476   vox_politics_396    Vox   \n",
       "477   vox_politics_372    Vox   \n",
       "478   vox_politics_602    Vox   \n",
       "479  vox_politics_1198    Vox   \n",
       "480   vox_politics_682    Vox   \n",
       "\n",
       "                                               article  \\\n",
       "476  Senate Republicans on Thursday revealed the Be...   \n",
       "477  “New York will be destroyed,” the state’s Gov....   \n",
       "478  The Trump administration wants to send a messa...   \n",
       "479  Donald Trump’s long, improbable journey to pol...   \n",
       "480  The Trump administration threw the fate of the...   \n",
       "\n",
       "                                        clean_articles  targets  \n",
       "476  Senate Republicans on Thursday revealed the Be...        2  \n",
       "477  “New York will be destroyed,” the state’s Gov....        2  \n",
       "478  The Trump administration wants to send a messa...        2  \n",
       "479  Donald Trump’s long, improbable journey to pol...        2  \n",
       "480  The Trump administration threw the fate of the...        2  "
      ]
     },
     "execution_count": 8,
     "metadata": {},
     "output_type": "execute_result"
    }
   ],
   "source": [
    "vox = df_all[df_all['source'] == 'Vox'][:700]\n",
    "vox.head()"
   ]
  },
  {
   "cell_type": "code",
   "execution_count": 9,
   "metadata": {
    "collapsed": false
   },
   "outputs": [
    {
     "data": {
      "text/html": [
       "<div>\n",
       "<style scoped>\n",
       "    .dataframe tbody tr th:only-of-type {\n",
       "        vertical-align: middle;\n",
       "    }\n",
       "\n",
       "    .dataframe tbody tr th {\n",
       "        vertical-align: top;\n",
       "    }\n",
       "\n",
       "    .dataframe thead th {\n",
       "        text-align: right;\n",
       "    }\n",
       "</style>\n",
       "<table border=\"1\" class=\"dataframe\">\n",
       "  <thead>\n",
       "    <tr style=\"text-align: right;\">\n",
       "      <th></th>\n",
       "      <th>article id</th>\n",
       "      <th>article</th>\n",
       "      <th>clean_articles</th>\n",
       "      <th>targets</th>\n",
       "    </tr>\n",
       "    <tr>\n",
       "      <th>source</th>\n",
       "      <th></th>\n",
       "      <th></th>\n",
       "      <th></th>\n",
       "      <th></th>\n",
       "    </tr>\n",
       "  </thead>\n",
       "  <tbody>\n",
       "    <tr>\n",
       "      <th>PBS</th>\n",
       "      <td>1739</td>\n",
       "      <td>1739</td>\n",
       "      <td>1739</td>\n",
       "      <td>1739</td>\n",
       "    </tr>\n",
       "    <tr>\n",
       "      <th>Vox</th>\n",
       "      <td>1727</td>\n",
       "      <td>1727</td>\n",
       "      <td>1727</td>\n",
       "      <td>1727</td>\n",
       "    </tr>\n",
       "  </tbody>\n",
       "</table>\n",
       "</div>"
      ],
      "text/plain": [
       "        article id  article  clean_articles  targets\n",
       "source                                              \n",
       "PBS           1739     1739            1739     1739\n",
       "Vox           1727     1727            1727     1727"
      ]
     },
     "execution_count": 9,
     "metadata": {},
     "output_type": "execute_result"
    }
   ],
   "source": [
    "df_all = df_all.append(vox, ignore_index=True)\n",
    "df_all.groupby('source').count()"
   ]
  },
  {
   "cell_type": "markdown",
   "metadata": {},
   "source": [
    "## Relabel the targets"
   ]
  },
  {
   "cell_type": "code",
   "execution_count": 10,
   "metadata": {
    "collapsed": true
   },
   "outputs": [],
   "source": [
    "from tqdm import tqdm\n",
    "import numpy as np"
   ]
  },
  {
   "cell_type": "code",
   "execution_count": 11,
   "metadata": {
    "collapsed": false
   },
   "outputs": [
    {
     "name": "stderr",
     "output_type": "stream",
     "text": [
      "100%|██████████| 3466/3466 [00:00<00:00, 1219994.77it/s]\n"
     ]
    },
    {
     "data": {
      "text/html": [
       "<div>\n",
       "<style scoped>\n",
       "    .dataframe tbody tr th:only-of-type {\n",
       "        vertical-align: middle;\n",
       "    }\n",
       "\n",
       "    .dataframe tbody tr th {\n",
       "        vertical-align: top;\n",
       "    }\n",
       "\n",
       "    .dataframe thead th {\n",
       "        text-align: right;\n",
       "    }\n",
       "</style>\n",
       "<table border=\"1\" class=\"dataframe\">\n",
       "  <thead>\n",
       "    <tr style=\"text-align: right;\">\n",
       "      <th></th>\n",
       "      <th>article id</th>\n",
       "      <th>source</th>\n",
       "      <th>article</th>\n",
       "      <th>clean_articles</th>\n",
       "      <th>targets</th>\n",
       "    </tr>\n",
       "  </thead>\n",
       "  <tbody>\n",
       "    <tr>\n",
       "      <th>0</th>\n",
       "      <td>vox_politics_396</td>\n",
       "      <td>Vox</td>\n",
       "      <td>Senate Republicans on Thursday revealed the Be...</td>\n",
       "      <td>Senate Republicans on Thursday revealed the Be...</td>\n",
       "      <td>1</td>\n",
       "    </tr>\n",
       "    <tr>\n",
       "      <th>1</th>\n",
       "      <td>vox_politics_372</td>\n",
       "      <td>Vox</td>\n",
       "      <td>“New York will be destroyed,” the state’s Gov....</td>\n",
       "      <td>“New York will be destroyed,” the state’s Gov....</td>\n",
       "      <td>1</td>\n",
       "    </tr>\n",
       "    <tr>\n",
       "      <th>2</th>\n",
       "      <td>vox_politics_602</td>\n",
       "      <td>Vox</td>\n",
       "      <td>The Trump administration wants to send a messa...</td>\n",
       "      <td>The Trump administration wants to send a messa...</td>\n",
       "      <td>1</td>\n",
       "    </tr>\n",
       "    <tr>\n",
       "      <th>3</th>\n",
       "      <td>vox_politics_1198</td>\n",
       "      <td>Vox</td>\n",
       "      <td>Donald Trump’s long, improbable journey to pol...</td>\n",
       "      <td>Donald Trump’s long, improbable journey to pol...</td>\n",
       "      <td>1</td>\n",
       "    </tr>\n",
       "    <tr>\n",
       "      <th>4</th>\n",
       "      <td>vox_politics_682</td>\n",
       "      <td>Vox</td>\n",
       "      <td>The Trump administration threw the fate of the...</td>\n",
       "      <td>The Trump administration threw the fate of the...</td>\n",
       "      <td>1</td>\n",
       "    </tr>\n",
       "  </tbody>\n",
       "</table>\n",
       "</div>"
      ],
      "text/plain": [
       "          article id source  \\\n",
       "0   vox_politics_396    Vox   \n",
       "1   vox_politics_372    Vox   \n",
       "2   vox_politics_602    Vox   \n",
       "3  vox_politics_1198    Vox   \n",
       "4   vox_politics_682    Vox   \n",
       "\n",
       "                                             article  \\\n",
       "0  Senate Republicans on Thursday revealed the Be...   \n",
       "1  “New York will be destroyed,” the state’s Gov....   \n",
       "2  The Trump administration wants to send a messa...   \n",
       "3  Donald Trump’s long, improbable journey to pol...   \n",
       "4  The Trump administration threw the fate of the...   \n",
       "\n",
       "                                      clean_articles  targets  \n",
       "0  Senate Republicans on Thursday revealed the Be...        1  \n",
       "1  “New York will be destroyed,” the state’s Gov....        1  \n",
       "2  The Trump administration wants to send a messa...        1  \n",
       "3  Donald Trump’s long, improbable journey to pol...        1  \n",
       "4  The Trump administration threw the fate of the...        1  "
      ]
     },
     "execution_count": 11,
     "metadata": {},
     "output_type": "execute_result"
    }
   ],
   "source": [
    "def label_vox(source):\n",
    "    if source == \"Vox\":\n",
    "        return 1 \n",
    "    elif source == \"PBS\": \n",
    "        return 0\n",
    "    else: \n",
    "        print(source)\n",
    "        return None\n",
    "\n",
    "targets = np.array([label_vox(t) for t in tqdm(df_all[\"source\"])])\n",
    "df_all['targets'] = targets\n",
    "df_all.head()"
   ]
  },
  {
   "cell_type": "code",
   "execution_count": 12,
   "metadata": {
    "collapsed": false
   },
   "outputs": [
    {
     "data": {
      "text/html": [
       "<div>\n",
       "<style scoped>\n",
       "    .dataframe tbody tr th:only-of-type {\n",
       "        vertical-align: middle;\n",
       "    }\n",
       "\n",
       "    .dataframe tbody tr th {\n",
       "        vertical-align: top;\n",
       "    }\n",
       "\n",
       "    .dataframe thead th {\n",
       "        text-align: right;\n",
       "    }\n",
       "</style>\n",
       "<table border=\"1\" class=\"dataframe\">\n",
       "  <thead>\n",
       "    <tr style=\"text-align: right;\">\n",
       "      <th></th>\n",
       "      <th>targets</th>\n",
       "    </tr>\n",
       "    <tr>\n",
       "      <th>source</th>\n",
       "      <th></th>\n",
       "    </tr>\n",
       "  </thead>\n",
       "  <tbody>\n",
       "    <tr>\n",
       "      <th>PBS</th>\n",
       "      <td>0</td>\n",
       "    </tr>\n",
       "    <tr>\n",
       "      <th>Vox</th>\n",
       "      <td>1</td>\n",
       "    </tr>\n",
       "  </tbody>\n",
       "</table>\n",
       "</div>"
      ],
      "text/plain": [
       "        targets\n",
       "source         \n",
       "PBS           0\n",
       "Vox           1"
      ]
     },
     "execution_count": 12,
     "metadata": {},
     "output_type": "execute_result"
    }
   ],
   "source": [
    "df_all.groupby('source').mean()"
   ]
  },
  {
   "cell_type": "markdown",
   "metadata": {},
   "source": [
    "## Split into test and training"
   ]
  },
  {
   "cell_type": "code",
   "execution_count": 13,
   "metadata": {
    "collapsed": false
   },
   "outputs": [
    {
     "data": {
      "text/html": [
       "<div>\n",
       "<style scoped>\n",
       "    .dataframe tbody tr th:only-of-type {\n",
       "        vertical-align: middle;\n",
       "    }\n",
       "\n",
       "    .dataframe tbody tr th {\n",
       "        vertical-align: top;\n",
       "    }\n",
       "\n",
       "    .dataframe thead th {\n",
       "        text-align: right;\n",
       "    }\n",
       "</style>\n",
       "<table border=\"1\" class=\"dataframe\">\n",
       "  <thead>\n",
       "    <tr style=\"text-align: right;\">\n",
       "      <th></th>\n",
       "      <th>article id</th>\n",
       "      <th>source</th>\n",
       "      <th>article</th>\n",
       "      <th>clean_articles</th>\n",
       "      <th>targets</th>\n",
       "    </tr>\n",
       "  </thead>\n",
       "  <tbody>\n",
       "    <tr>\n",
       "      <th>2690</th>\n",
       "      <td>pbs_politics_70</td>\n",
       "      <td>PBS</td>\n",
       "      <td>— Senior White House officials pushed a proje...</td>\n",
       "      <td>Senior White House officials pushed a projec...</td>\n",
       "      <td>0</td>\n",
       "    </tr>\n",
       "    <tr>\n",
       "      <th>576</th>\n",
       "      <td>vox_politics_1296</td>\n",
       "      <td>Vox</td>\n",
       "      <td>The Congressional Budget Office’s forecast tha...</td>\n",
       "      <td>The Congressional Budget Office’s forecast tha...</td>\n",
       "      <td>1</td>\n",
       "    </tr>\n",
       "    <tr>\n",
       "      <th>2493</th>\n",
       "      <td>pbs_politics_1152</td>\n",
       "      <td>PBS</td>\n",
       "      <td>— Senate Majority Leader Mitch McConnell on T...</td>\n",
       "      <td>Senate Majority Leader Mitch McConnell on Tu...</td>\n",
       "      <td>0</td>\n",
       "    </tr>\n",
       "    <tr>\n",
       "      <th>3141</th>\n",
       "      <td>vox_politics_867</td>\n",
       "      <td>Vox</td>\n",
       "      <td>Donald Trump has won the White House. But it’s...</td>\n",
       "      <td>Donald Trump has won the White House. But it’s...</td>\n",
       "      <td>1</td>\n",
       "    </tr>\n",
       "    <tr>\n",
       "      <th>3451</th>\n",
       "      <td>vox_politics_1504</td>\n",
       "      <td>Vox</td>\n",
       "      <td>Georgia secretary of state and Republican gube...</td>\n",
       "      <td>Georgia secretary of state and Republican gube...</td>\n",
       "      <td>1</td>\n",
       "    </tr>\n",
       "  </tbody>\n",
       "</table>\n",
       "</div>"
      ],
      "text/plain": [
       "             article id source  \\\n",
       "2690    pbs_politics_70    PBS   \n",
       "576   vox_politics_1296    Vox   \n",
       "2493  pbs_politics_1152    PBS   \n",
       "3141   vox_politics_867    Vox   \n",
       "3451  vox_politics_1504    Vox   \n",
       "\n",
       "                                                article  \\\n",
       "2690   — Senior White House officials pushed a proje...   \n",
       "576   The Congressional Budget Office’s forecast tha...   \n",
       "2493   — Senate Majority Leader Mitch McConnell on T...   \n",
       "3141  Donald Trump has won the White House. But it’s...   \n",
       "3451  Georgia secretary of state and Republican gube...   \n",
       "\n",
       "                                         clean_articles  targets  \n",
       "2690    Senior White House officials pushed a projec...        0  \n",
       "576   The Congressional Budget Office’s forecast tha...        1  \n",
       "2493    Senate Majority Leader Mitch McConnell on Tu...        0  \n",
       "3141  Donald Trump has won the White House. But it’s...        1  \n",
       "3451  Georgia secretary of state and Republican gube...        1  "
      ]
     },
     "execution_count": 13,
     "metadata": {},
     "output_type": "execute_result"
    }
   ],
   "source": [
    "train_df, test_df = train_test_split(df_all, test_size=0.1)\n",
    "train_df.head()"
   ]
  },
  {
   "cell_type": "code",
   "execution_count": 14,
   "metadata": {
    "collapsed": false
   },
   "outputs": [
    {
     "data": {
      "text/html": [
       "<div>\n",
       "<style scoped>\n",
       "    .dataframe tbody tr th:only-of-type {\n",
       "        vertical-align: middle;\n",
       "    }\n",
       "\n",
       "    .dataframe tbody tr th {\n",
       "        vertical-align: top;\n",
       "    }\n",
       "\n",
       "    .dataframe thead th {\n",
       "        text-align: right;\n",
       "    }\n",
       "</style>\n",
       "<table border=\"1\" class=\"dataframe\">\n",
       "  <thead>\n",
       "    <tr style=\"text-align: right;\">\n",
       "      <th></th>\n",
       "      <th>article id</th>\n",
       "      <th>source</th>\n",
       "      <th>article</th>\n",
       "      <th>clean_articles</th>\n",
       "      <th>targets</th>\n",
       "    </tr>\n",
       "  </thead>\n",
       "  <tbody>\n",
       "    <tr>\n",
       "      <th>1634</th>\n",
       "      <td>pbs_politics_1353</td>\n",
       "      <td>PBS</td>\n",
       "      <td>— A former staffer to Rep. John Conyers says ...</td>\n",
       "      <td>A former staffer to Rep. John Conyers says h...</td>\n",
       "      <td>0</td>\n",
       "    </tr>\n",
       "    <tr>\n",
       "      <th>342</th>\n",
       "      <td>vox_politics_895</td>\n",
       "      <td>Vox</td>\n",
       "      <td>Republicans are taking a victory lap after Bre...</td>\n",
       "      <td>Republicans are taking a victory lap after Bre...</td>\n",
       "      <td>1</td>\n",
       "    </tr>\n",
       "    <tr>\n",
       "      <th>2162</th>\n",
       "      <td>pbs_politics_1562</td>\n",
       "      <td>PBS</td>\n",
       "      <td>ST. LOUIS — A seven-term prosecuting attorney ...</td>\n",
       "      <td>ST. LOUIS  A seven-term prosecuting attorney i...</td>\n",
       "      <td>0</td>\n",
       "    </tr>\n",
       "    <tr>\n",
       "      <th>283</th>\n",
       "      <td>vox_politics_1394</td>\n",
       "      <td>Vox</td>\n",
       "      <td>President Donald Trump conducted tax reform ne...</td>\n",
       "      <td>President Donald Trump conducted tax reform ne...</td>\n",
       "      <td>1</td>\n",
       "    </tr>\n",
       "    <tr>\n",
       "      <th>1429</th>\n",
       "      <td>pbs_politics_1402</td>\n",
       "      <td>PBS</td>\n",
       "      <td>12:35 p.m.: Senate leaders have reached an agr...</td>\n",
       "      <td>12:35 p.m.: Senate leaders have reached an agr...</td>\n",
       "      <td>0</td>\n",
       "    </tr>\n",
       "  </tbody>\n",
       "</table>\n",
       "</div>"
      ],
      "text/plain": [
       "             article id source  \\\n",
       "1634  pbs_politics_1353    PBS   \n",
       "342    vox_politics_895    Vox   \n",
       "2162  pbs_politics_1562    PBS   \n",
       "283   vox_politics_1394    Vox   \n",
       "1429  pbs_politics_1402    PBS   \n",
       "\n",
       "                                                article  \\\n",
       "1634   — A former staffer to Rep. John Conyers says ...   \n",
       "342   Republicans are taking a victory lap after Bre...   \n",
       "2162  ST. LOUIS — A seven-term prosecuting attorney ...   \n",
       "283   President Donald Trump conducted tax reform ne...   \n",
       "1429  12:35 p.m.: Senate leaders have reached an agr...   \n",
       "\n",
       "                                         clean_articles  targets  \n",
       "1634    A former staffer to Rep. John Conyers says h...        0  \n",
       "342   Republicans are taking a victory lap after Bre...        1  \n",
       "2162  ST. LOUIS  A seven-term prosecuting attorney i...        0  \n",
       "283   President Donald Trump conducted tax reform ne...        1  \n",
       "1429  12:35 p.m.: Senate leaders have reached an agr...        0  "
      ]
     },
     "execution_count": 14,
     "metadata": {},
     "output_type": "execute_result"
    }
   ],
   "source": [
    "test_df.head()"
   ]
  },
  {
   "cell_type": "markdown",
   "metadata": {},
   "source": [
    "### Check for similarity between test and training"
   ]
  },
  {
   "cell_type": "code",
   "execution_count": 15,
   "metadata": {
    "collapsed": false
   },
   "outputs": [
    {
     "data": {
      "text/html": [
       "<div>\n",
       "<style scoped>\n",
       "    .dataframe tbody tr th:only-of-type {\n",
       "        vertical-align: middle;\n",
       "    }\n",
       "\n",
       "    .dataframe tbody tr th {\n",
       "        vertical-align: top;\n",
       "    }\n",
       "\n",
       "    .dataframe thead th {\n",
       "        text-align: right;\n",
       "    }\n",
       "</style>\n",
       "<table border=\"1\" class=\"dataframe\">\n",
       "  <thead>\n",
       "    <tr style=\"text-align: right;\">\n",
       "      <th></th>\n",
       "      <th>article id</th>\n",
       "      <th>article</th>\n",
       "      <th>clean_articles</th>\n",
       "      <th>targets</th>\n",
       "    </tr>\n",
       "    <tr>\n",
       "      <th>source</th>\n",
       "      <th></th>\n",
       "      <th></th>\n",
       "      <th></th>\n",
       "      <th></th>\n",
       "    </tr>\n",
       "  </thead>\n",
       "  <tbody>\n",
       "    <tr>\n",
       "      <th>PBS</th>\n",
       "      <td>179</td>\n",
       "      <td>179</td>\n",
       "      <td>179</td>\n",
       "      <td>179</td>\n",
       "    </tr>\n",
       "    <tr>\n",
       "      <th>Vox</th>\n",
       "      <td>168</td>\n",
       "      <td>168</td>\n",
       "      <td>168</td>\n",
       "      <td>168</td>\n",
       "    </tr>\n",
       "  </tbody>\n",
       "</table>\n",
       "</div>"
      ],
      "text/plain": [
       "        article id  article  clean_articles  targets\n",
       "source                                              \n",
       "PBS            179      179             179      179\n",
       "Vox            168      168             168      168"
      ]
     },
     "execution_count": 15,
     "metadata": {},
     "output_type": "execute_result"
    }
   ],
   "source": [
    "test_df.groupby('source').count()"
   ]
  },
  {
   "cell_type": "code",
   "execution_count": 16,
   "metadata": {
    "collapsed": false
   },
   "outputs": [
    {
     "data": {
      "text/html": [
       "<div>\n",
       "<style scoped>\n",
       "    .dataframe tbody tr th:only-of-type {\n",
       "        vertical-align: middle;\n",
       "    }\n",
       "\n",
       "    .dataframe tbody tr th {\n",
       "        vertical-align: top;\n",
       "    }\n",
       "\n",
       "    .dataframe thead th {\n",
       "        text-align: right;\n",
       "    }\n",
       "</style>\n",
       "<table border=\"1\" class=\"dataframe\">\n",
       "  <thead>\n",
       "    <tr style=\"text-align: right;\">\n",
       "      <th></th>\n",
       "      <th>article id</th>\n",
       "      <th>article</th>\n",
       "      <th>clean_articles</th>\n",
       "      <th>targets</th>\n",
       "    </tr>\n",
       "    <tr>\n",
       "      <th>source</th>\n",
       "      <th></th>\n",
       "      <th></th>\n",
       "      <th></th>\n",
       "      <th></th>\n",
       "    </tr>\n",
       "  </thead>\n",
       "  <tbody>\n",
       "    <tr>\n",
       "      <th>PBS</th>\n",
       "      <td>1560</td>\n",
       "      <td>1560</td>\n",
       "      <td>1560</td>\n",
       "      <td>1560</td>\n",
       "    </tr>\n",
       "    <tr>\n",
       "      <th>Vox</th>\n",
       "      <td>1559</td>\n",
       "      <td>1559</td>\n",
       "      <td>1559</td>\n",
       "      <td>1559</td>\n",
       "    </tr>\n",
       "  </tbody>\n",
       "</table>\n",
       "</div>"
      ],
      "text/plain": [
       "        article id  article  clean_articles  targets\n",
       "source                                              \n",
       "PBS           1560     1560            1560     1560\n",
       "Vox           1559     1559            1559     1559"
      ]
     },
     "execution_count": 16,
     "metadata": {},
     "output_type": "execute_result"
    }
   ],
   "source": [
    "train_df.groupby('source').count()"
   ]
  },
  {
   "cell_type": "markdown",
   "metadata": {},
   "source": [
    "## Get Embeddings, Build Functions"
   ]
  },
  {
   "cell_type": "code",
   "execution_count": 17,
   "metadata": {
    "collapsed": false
   },
   "outputs": [
    {
     "name": "stderr",
     "output_type": "stream",
     "text": [
      "2196017it [03:50, 9528.66it/s]"
     ]
    },
    {
     "name": "stdout",
     "output_type": "stream",
     "text": [
      "Found 2196016 word vectors\n"
     ]
    },
    {
     "name": "stderr",
     "output_type": "stream",
     "text": [
      "\n"
     ]
    }
   ],
   "source": [
    "# glove embeddings and data are in same folder\n",
    "\n",
    "EMBEDS = 'glove.840B.300d.txt'\n",
    "\n",
    "embeddings_index = {}\n",
    " \n",
    "with open(EMBEDS, encoding='utf8') as embed:\n",
    "    for line in tqdm(embed):\n",
    "        values = line.split(' ')\n",
    "        word = values[0]\n",
    "        coefs = np.asarray(values[1:], dtype='float32')\n",
    "        embeddings_index[word] = coefs\n",
    "        \n",
    "print(\"Found {n} word vectors\".format(n=len(embeddings_index)))"
   ]
  },
  {
   "cell_type": "code",
   "execution_count": 19,
   "metadata": {
    "collapsed": true
   },
   "outputs": [],
   "source": [
    "def text_to_array(text, article_length=500):\n",
    "    empty_emb = np.zeros(300)                   # each word is represented by a length 300 vector\n",
    "    text = text[:-1].split()[:article_length]   # each article is length 10000\n",
    "    \n",
    "    # look for word embedding, return zero array otherwise. \n",
    "    embeds = [embeddings_index.get(x, empty_emb) for x in text]\n",
    "    embeds += [empty_emb] * (article_length - len(embeds))\n",
    "    return np.array(embeds)"
   ]
  },
  {
   "cell_type": "code",
   "execution_count": 20,
   "metadata": {
    "collapsed": true
   },
   "outputs": [],
   "source": [
    "def batch_gen(train_df, batch_size=64, article_length=500):\n",
    "    n = math.ceil(len(train_df) / batch_size)\n",
    "    while True: \n",
    "        train_df = train_df.sample(frac=1.0)\n",
    "        \n",
    "        for i in range(n):\n",
    "            texts = train_df['article'][i*batch_size: (i+1)*batch_size]\n",
    "            targets = np.array(train_df['targets'][i*batch_size: (i+1)*batch_size])\n",
    "            text_arr = np.array([text_to_array(text, article_length=article_length) for text in texts])\n",
    "            yield text_arr, targets"
   ]
  },
  {
   "cell_type": "markdown",
   "metadata": {},
   "source": [
    "## Setup Model"
   ]
  },
  {
   "cell_type": "code",
   "execution_count": 21,
   "metadata": {
    "collapsed": true
   },
   "outputs": [],
   "source": [
    "ARTICLE_LENGTH = 500\n",
    "BATCH_SIZE = 64\n",
    "DROPOUT = 0.1\n",
    "REC_DROPOUT = 0.1"
   ]
  },
  {
   "cell_type": "code",
   "execution_count": 22,
   "metadata": {
    "collapsed": false
   },
   "outputs": [
    {
     "name": "stderr",
     "output_type": "stream",
     "text": [
      "100%|██████████| 347/347 [00:00<00:00, 526.19it/s]\n"
     ]
    }
   ],
   "source": [
    "# witheld for validation\n",
    " \n",
    "x_test = np.array([text_to_array(x, article_length=ARTICLE_LENGTH) \\\n",
    "                          for x in tqdm(test_df[\"clean_articles\"])])\n",
    "y_test = np.array(test_df[\"targets\"])"
   ]
  },
  {
   "cell_type": "code",
   "execution_count": 23,
   "metadata": {
    "collapsed": false
   },
   "outputs": [
    {
     "name": "stdout",
     "output_type": "stream",
     "text": [
      "_________________________________________________________________\n",
      "Layer (type)                 Output Shape              Param #   \n",
      "=================================================================\n",
      "bidirectional_1 (Bidirection (None, 500, 64)           85248     \n",
      "_________________________________________________________________\n",
      "activation_1 (Activation)    (None, 500, 64)           0         \n",
      "_________________________________________________________________\n",
      "bidirectional_2 (Bidirection (None, 64)                24832     \n",
      "_________________________________________________________________\n",
      "dense_1 (Dense)              (None, 1)                 65        \n",
      "=================================================================\n",
      "Total params: 110,145\n",
      "Trainable params: 110,145\n",
      "Non-trainable params: 0\n",
      "_________________________________________________________________\n"
     ]
    }
   ],
   "source": [
    "# note...\n",
    "#      batch_size         -> words per batch\n",
    "#      article_length     -> words per article\n",
    "#      embed_length       -> vector length per word\n",
    "\n",
    "input_shape = (ARTICLE_LENGTH, 300)\n",
    "lstm_in = int(BATCH_SIZE/2)\n",
    "\n",
    "model = Sequential()\n",
    "model.add(Bidirectional(LSTM(lstm_in, return_sequences=True, \\\n",
    "                        dropout=DROPOUT, recurrent_dropout=REC_DROPOUT), \\\n",
    "                        input_shape=input_shape))\n",
    "model.add(Activation('relu'))\n",
    "model.add(Bidirectional(LSTM(lstm_in)))\n",
    "model.add(Dense(1, activation=\"sigmoid\"))\n",
    "model.compile(loss=\"binary_crossentropy\", \\\n",
    "              optimizer=\"adam\", \\\n",
    "              metrics=[\"accuracy\"])\n",
    "\n",
    "model.summary()"
   ]
  },
  {
   "cell_type": "code",
   "execution_count": 24,
   "metadata": {
    "collapsed": false
   },
   "outputs": [
    {
     "name": "stdout",
     "output_type": "stream",
     "text": [
      "Epoch 1/2\n",
      "250/250 [==============================] - 334s 1s/step - loss: 0.2472 - acc: 0.9006\n",
      "Epoch 2/2\n",
      "250/250 [==============================] - 326s 1s/step - loss: 0.0857 - acc: 0.9713\n"
     ]
    },
    {
     "data": {
      "text/plain": [
       "<keras.callbacks.History at 0x7efe3fb5db00>"
      ]
     },
     "execution_count": 24,
     "metadata": {},
     "output_type": "execute_result"
    }
   ],
   "source": [
    "data = batch_gen(train_df, batch_size=BATCH_SIZE, article_length=ARTICLE_LENGTH)\n",
    "model.fit_generator(data, epochs=2, steps_per_epoch=250, \\\n",
    "                    validation_data=None, verbose=True)"
   ]
  },
  {
   "cell_type": "code",
   "execution_count": 49,
   "metadata": {
    "collapsed": false
   },
   "outputs": [
    {
     "data": {
      "text/plain": [
       "array([[ True],\n",
       "       [False],\n",
       "       [ True],\n",
       "       [ True],\n",
       "       [ True],\n",
       "       [ True],\n",
       "       [False]], dtype=bool)"
      ]
     },
     "execution_count": 49,
     "metadata": {},
     "output_type": "execute_result"
    }
   ],
   "source": [
    "y_pred = model.predict(x_test)\n",
    "y_pred[10:17] > 0.5"
   ]
  },
  {
   "cell_type": "code",
   "execution_count": 50,
   "metadata": {
    "collapsed": false
   },
   "outputs": [
    {
     "data": {
      "text/html": [
       "<div>\n",
       "<style scoped>\n",
       "    .dataframe tbody tr th:only-of-type {\n",
       "        vertical-align: middle;\n",
       "    }\n",
       "\n",
       "    .dataframe tbody tr th {\n",
       "        vertical-align: top;\n",
       "    }\n",
       "\n",
       "    .dataframe thead th {\n",
       "        text-align: right;\n",
       "    }\n",
       "</style>\n",
       "<table border=\"1\" class=\"dataframe\">\n",
       "  <thead>\n",
       "    <tr style=\"text-align: right;\">\n",
       "      <th></th>\n",
       "      <th>source</th>\n",
       "      <th>clean_articles</th>\n",
       "      <th>targets</th>\n",
       "    </tr>\n",
       "  </thead>\n",
       "  <tbody>\n",
       "    <tr>\n",
       "      <th>452</th>\n",
       "      <td>Vox</td>\n",
       "      <td>North Carolina is in the middle of at least th...</td>\n",
       "      <td>1</td>\n",
       "    </tr>\n",
       "    <tr>\n",
       "      <th>1815</th>\n",
       "      <td>PBS</td>\n",
       "      <td>The Republican-led Congress narrowly passed ...</td>\n",
       "      <td>0</td>\n",
       "    </tr>\n",
       "    <tr>\n",
       "      <th>3437</th>\n",
       "      <td>Vox</td>\n",
       "      <td>Republicans really want to cut the corporate t...</td>\n",
       "      <td>1</td>\n",
       "    </tr>\n",
       "    <tr>\n",
       "      <th>3299</th>\n",
       "      <td>Vox</td>\n",
       "      <td>Donald Trump claimed $916 million in losses fr...</td>\n",
       "      <td>1</td>\n",
       "    </tr>\n",
       "    <tr>\n",
       "      <th>2999</th>\n",
       "      <td>Vox</td>\n",
       "      <td>On Tuesday, as the Trump administration sunk f...</td>\n",
       "      <td>1</td>\n",
       "    </tr>\n",
       "    <tr>\n",
       "      <th>1314</th>\n",
       "      <td>PBS</td>\n",
       "      <td>Days after a failed mail bomb plot and a deadl...</td>\n",
       "      <td>0</td>\n",
       "    </tr>\n",
       "    <tr>\n",
       "      <th>1540</th>\n",
       "      <td>PBS</td>\n",
       "      <td>Democrats on the House Financial Services Co...</td>\n",
       "      <td>0</td>\n",
       "    </tr>\n",
       "  </tbody>\n",
       "</table>\n",
       "</div>"
      ],
      "text/plain": [
       "     source                                     clean_articles  targets\n",
       "452     Vox  North Carolina is in the middle of at least th...        1\n",
       "1815    PBS    The Republican-led Congress narrowly passed ...        0\n",
       "3437    Vox  Republicans really want to cut the corporate t...        1\n",
       "3299    Vox  Donald Trump claimed $916 million in losses fr...        1\n",
       "2999    Vox  On Tuesday, as the Trump administration sunk f...        1\n",
       "1314    PBS  Days after a failed mail bomb plot and a deadl...        0\n",
       "1540    PBS    Democrats on the House Financial Services Co...        0"
      ]
     },
     "execution_count": 50,
     "metadata": {},
     "output_type": "execute_result"
    }
   ],
   "source": [
    "test_df[['source', 'clean_articles', 'targets']][10:17]"
   ]
  },
  {
   "cell_type": "code",
   "execution_count": 51,
   "metadata": {
    "collapsed": false
   },
   "outputs": [
    {
     "name": "stdout",
     "output_type": "stream",
     "text": [
      "Threshold 0.25, f1 score 0.8619047619047618\n",
      "Threshold 0.3, f1 score 0.86810551558753\n",
      "Threshold 0.35, f1 score 0.8695652173913043\n",
      "Threshold 0.4, f1 score 0.8801955990220048\n",
      "Threshold 0.45, f1 score 0.8861386138613861\n",
      "Threshold 0.5, f1 score 0.8827930174563592\n",
      "Threshold 0.55, f1 score 0.885\n",
      "Threshold 0.6, f1 score 0.8911392405063291\n",
      "Threshold 0.65, f1 score 0.8877551020408164\n",
      "Threshold 0.7, f1 score 0.8923076923076922\n",
      "Threshold 0.75, f1 score 0.8935064935064936\n"
     ]
    }
   ],
   "source": [
    "for i in np.arange(0.25, 0.80, 0.05):\n",
    "    res = metrics.f1_score(y_test, y_pred > i)\n",
    "    print(\"Threshold {i}, f1 score {res}\".format(i=round(i,2),res=res))"
   ]
  },
  {
   "cell_type": "code",
   "execution_count": null,
   "metadata": {
    "collapsed": true
   },
   "outputs": [],
   "source": []
  }
 ],
 "metadata": {
  "kernelspec": {
   "display_name": "Python 3",
   "language": "python",
   "name": "python3"
  },
  "language_info": {
   "codemirror_mode": {
    "name": "ipython",
    "version": 3
   },
   "file_extension": ".py",
   "mimetype": "text/x-python",
   "name": "python",
   "nbconvert_exporter": "python",
   "pygments_lexer": "ipython3",
   "version": "3.5.4"
  }
 },
 "nbformat": 4,
 "nbformat_minor": 2
}
