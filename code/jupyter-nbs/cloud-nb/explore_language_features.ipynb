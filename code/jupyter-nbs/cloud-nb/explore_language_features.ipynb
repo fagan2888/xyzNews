{
 "cells": [
  {
   "cell_type": "markdown",
   "metadata": {},
   "source": [
    "# Language Feature Analysis - News\n",
    "\n",
    "### Author \n",
    "Stephen Lee\n",
    "\n",
    "### Goal\n",
    "Find language features of the following news articles: \n",
    "- Fox News\n",
    "- Vox News\n",
    "- PBS News\n",
    "\n",
    "### Date \n",
    "3.4.19"
   ]
  },
  {
   "cell_type": "markdown",
   "metadata": {},
   "source": [
    "## Read Data, Remove Missing Values"
   ]
  },
  {
   "cell_type": "code",
   "execution_count": 1,
   "metadata": {
    "collapsed": true
   },
   "outputs": [],
   "source": [
    "import pandas as pd\n",
    "import os"
   ]
  },
  {
   "cell_type": "code",
   "execution_count": 2,
   "metadata": {
    "collapsed": true
   },
   "outputs": [],
   "source": [
    "DATASET_PATH = \"/home/smlee_981/data/\""
   ]
  },
  {
   "cell_type": "code",
   "execution_count": 3,
   "metadata": {
    "collapsed": true
   },
   "outputs": [],
   "source": [
    "FILE = 'clean_article_df.csv'"
   ]
  },
  {
   "cell_type": "code",
   "execution_count": 4,
   "metadata": {
    "collapsed": true
   },
   "outputs": [],
   "source": [
    "os.chdir(DATASET_PATH)"
   ]
  },
  {
   "cell_type": "code",
   "execution_count": 5,
   "metadata": {
    "collapsed": false
   },
   "outputs": [],
   "source": [
    "df = pd.read_csv(FILE, sep='|').drop('Unnamed: 0', axis=1)"
   ]
  },
  {
   "cell_type": "code",
   "execution_count": 6,
   "metadata": {
    "collapsed": false
   },
   "outputs": [
    {
     "data": {
      "text/html": [
       "<div>\n",
       "<style scoped>\n",
       "    .dataframe tbody tr th:only-of-type {\n",
       "        vertical-align: middle;\n",
       "    }\n",
       "\n",
       "    .dataframe tbody tr th {\n",
       "        vertical-align: top;\n",
       "    }\n",
       "\n",
       "    .dataframe thead th {\n",
       "        text-align: right;\n",
       "    }\n",
       "</style>\n",
       "<table border=\"1\" class=\"dataframe\">\n",
       "  <thead>\n",
       "    <tr style=\"text-align: right;\">\n",
       "      <th></th>\n",
       "      <th>article id</th>\n",
       "      <th>source</th>\n",
       "      <th>article</th>\n",
       "      <th>clean_articles</th>\n",
       "      <th>targets</th>\n",
       "    </tr>\n",
       "  </thead>\n",
       "  <tbody>\n",
       "    <tr>\n",
       "      <th>0</th>\n",
       "      <td>fox_politics_166</td>\n",
       "      <td>Fox</td>\n",
       "      <td>Bolton warns Venezuela's Maduro to stay away f...</td>\n",
       "      <td>Bolton warns Venezuela's Maduro to stay away f...</td>\n",
       "      <td>3</td>\n",
       "    </tr>\n",
       "    <tr>\n",
       "      <th>1</th>\n",
       "      <td>fox_politics_390</td>\n",
       "      <td>Fox</td>\n",
       "      <td>Ocasio-Cortez rallies to stop all fossil fuel ...</td>\n",
       "      <td>Ocasio-Cortez rallies to stop all fossil fuel ...</td>\n",
       "      <td>3</td>\n",
       "    </tr>\n",
       "  </tbody>\n",
       "</table>\n",
       "</div>"
      ],
      "text/plain": [
       "         article id source                                            article  \\\n",
       "0  fox_politics_166    Fox  Bolton warns Venezuela's Maduro to stay away f...   \n",
       "1  fox_politics_390    Fox  Ocasio-Cortez rallies to stop all fossil fuel ...   \n",
       "\n",
       "                                      clean_articles  targets  \n",
       "0  Bolton warns Venezuela's Maduro to stay away f...        3  \n",
       "1  Ocasio-Cortez rallies to stop all fossil fuel ...        3  "
      ]
     },
     "execution_count": 6,
     "metadata": {},
     "output_type": "execute_result"
    }
   ],
   "source": [
    "df.head(2)"
   ]
  },
  {
   "cell_type": "code",
   "execution_count": 7,
   "metadata": {
    "collapsed": false
   },
   "outputs": [
    {
     "data": {
      "text/html": [
       "<div>\n",
       "<style scoped>\n",
       "    .dataframe tbody tr th:only-of-type {\n",
       "        vertical-align: middle;\n",
       "    }\n",
       "\n",
       "    .dataframe tbody tr th {\n",
       "        vertical-align: top;\n",
       "    }\n",
       "\n",
       "    .dataframe thead th {\n",
       "        text-align: right;\n",
       "    }\n",
       "</style>\n",
       "<table border=\"1\" class=\"dataframe\">\n",
       "  <thead>\n",
       "    <tr style=\"text-align: right;\">\n",
       "      <th></th>\n",
       "      <th>article id</th>\n",
       "      <th>article</th>\n",
       "      <th>clean_articles</th>\n",
       "      <th>targets</th>\n",
       "    </tr>\n",
       "    <tr>\n",
       "      <th>source</th>\n",
       "      <th></th>\n",
       "      <th></th>\n",
       "      <th></th>\n",
       "      <th></th>\n",
       "    </tr>\n",
       "  </thead>\n",
       "  <tbody>\n",
       "    <tr>\n",
       "      <th>Fox</th>\n",
       "      <td>476</td>\n",
       "      <td>476</td>\n",
       "      <td>476</td>\n",
       "      <td>476</td>\n",
       "    </tr>\n",
       "    <tr>\n",
       "      <th>PBS</th>\n",
       "      <td>1739</td>\n",
       "      <td>1739</td>\n",
       "      <td>1739</td>\n",
       "      <td>1739</td>\n",
       "    </tr>\n",
       "    <tr>\n",
       "      <th>Vox</th>\n",
       "      <td>1027</td>\n",
       "      <td>1027</td>\n",
       "      <td>1027</td>\n",
       "      <td>1027</td>\n",
       "    </tr>\n",
       "  </tbody>\n",
       "</table>\n",
       "</div>"
      ],
      "text/plain": [
       "        article id  article  clean_articles  targets\n",
       "source                                              \n",
       "Fox            476      476             476      476\n",
       "PBS           1739     1739            1739     1739\n",
       "Vox           1027     1027            1027     1027"
      ]
     },
     "execution_count": 7,
     "metadata": {},
     "output_type": "execute_result"
    }
   ],
   "source": [
    "df.groupby('source').count()"
   ]
  },
  {
   "cell_type": "code",
   "execution_count": 8,
   "metadata": {
    "collapsed": false
   },
   "outputs": [
    {
     "data": {
      "text/html": [
       "<div>\n",
       "<style scoped>\n",
       "    .dataframe tbody tr th:only-of-type {\n",
       "        vertical-align: middle;\n",
       "    }\n",
       "\n",
       "    .dataframe tbody tr th {\n",
       "        vertical-align: top;\n",
       "    }\n",
       "\n",
       "    .dataframe thead th {\n",
       "        text-align: right;\n",
       "    }\n",
       "</style>\n",
       "<table border=\"1\" class=\"dataframe\">\n",
       "  <thead>\n",
       "    <tr style=\"text-align: right;\">\n",
       "      <th></th>\n",
       "      <th>article id</th>\n",
       "      <th>source</th>\n",
       "      <th>article</th>\n",
       "      <th>clean_articles</th>\n",
       "      <th>targets</th>\n",
       "    </tr>\n",
       "  </thead>\n",
       "  <tbody>\n",
       "  </tbody>\n",
       "</table>\n",
       "</div>"
      ],
      "text/plain": [
       "Empty DataFrame\n",
       "Columns: [article id, source, article, clean_articles, targets]\n",
       "Index: []"
      ]
     },
     "execution_count": 8,
     "metadata": {},
     "output_type": "execute_result"
    }
   ],
   "source": [
    "df[df['article'].isnull()].head()"
   ]
  },
  {
   "cell_type": "markdown",
   "metadata": {},
   "source": [
    "## Find Language Features"
   ]
  },
  {
   "cell_type": "code",
   "execution_count": 9,
   "metadata": {
    "collapsed": false
   },
   "outputs": [
    {
     "data": {
      "text/html": [
       "<script type=\"text/javascript\">window.PlotlyConfig = {MathJaxConfig: 'local'};</script><script type=\"text/javascript\">if (window.MathJax) {MathJax.Hub.Config({SVG: {font: \"STIX-Web\"}});}</script><script>requirejs.config({paths: { 'plotly': ['https://cdn.plot.ly/plotly-latest.min']},});if(!window._Plotly) {require(['plotly'],function(plotly) {window._Plotly=plotly;});}</script>"
      ],
      "text/vnd.plotly.v1+html": [
       "<script type=\"text/javascript\">window.PlotlyConfig = {MathJaxConfig: 'local'};</script><script type=\"text/javascript\">if (window.MathJax) {MathJax.Hub.Config({SVG: {font: \"STIX-Web\"}});}</script><script>requirejs.config({paths: { 'plotly': ['https://cdn.plot.ly/plotly-latest.min']},});if(!window._Plotly) {require(['plotly'],function(plotly) {window._Plotly=plotly;});}</script>"
      ]
     },
     "metadata": {},
     "output_type": "display_data"
    }
   ],
   "source": [
    "%matplotlib inline\n",
    "import matplotlib.pyplot as plt\n",
    "import plotly.offline as py\n",
    "import plotly.graph_objs as go \n",
    "from plotly import tools \n",
    "from wordcloud import STOPWORDS \n",
    "from collections import defaultdict \n",
    "py.init_notebook_mode(connected=True)"
   ]
  },
  {
   "cell_type": "code",
   "execution_count": 10,
   "metadata": {
    "collapsed": true
   },
   "outputs": [],
   "source": [
    "fox = df[df['source'] == \"Fox\"]\n",
    "vox = df[df['source'] == \"Vox\"]\n",
    "pbs = df[df['source'] == \"PBS\"]"
   ]
  },
  {
   "cell_type": "markdown",
   "metadata": {},
   "source": [
    "### Define Helpers"
   ]
  },
  {
   "cell_type": "markdown",
   "metadata": {},
   "source": [
    "#### generate n grams or 'tokens' of various length\n"
   ]
  },
  {
   "cell_type": "code",
   "execution_count": 11,
   "metadata": {
    "collapsed": true
   },
   "outputs": [],
   "source": [
    "def generate_ngrams(txt, n_gram=1):\n",
    "    token = [t for t in txt.lower().split(' ') if ((t not in STOPWORDS) and (t.isalpha()))]\n",
    "    ngrams = zip(*[token[i:] for i in range(n_gram)])\n",
    "    return [' '.join(g) for g in ngrams]"
   ]
  },
  {
   "cell_type": "markdown",
   "metadata": {},
   "source": [
    "#### make a horizontal plot"
   ]
  },
  {
   "cell_type": "code",
   "execution_count": 12,
   "metadata": {
    "collapsed": true
   },
   "outputs": [],
   "source": [
    "def hz_chart(df, color):\n",
    "    trace = go.Bar(\n",
    "        y = df['token'].values[::-1],\n",
    "        x = df['count'].values[::-1], \n",
    "        showlegend=False,\n",
    "        orientation = 'h', \n",
    "        marker=dict(color=color))\n",
    "    return trace"
   ]
  },
  {
   "cell_type": "markdown",
   "metadata": {},
   "source": [
    "#### prepare the plot\n"
   ]
  },
  {
   "cell_type": "code",
   "execution_count": 13,
   "metadata": {
    "collapsed": true
   },
   "outputs": [],
   "source": [
    "def plt_freq(txt, n_grams=1, number=15, color='blue'):\n",
    "    freq = defaultdict(int)\n",
    "    for q in txt:\n",
    "        for ngram in generate_ngrams(q, n_grams):\n",
    "            freq[ngram] += 1\n",
    "    df_sorted = pd.DataFrame(sorted(freq.items(), key=lambda x: x[1])[::-1])\n",
    "    df_sorted.columns = ['token', 'count']\n",
    "    return hz_chart(df_sorted.head(number), color)"
   ]
  },
  {
   "cell_type": "markdown",
   "metadata": {},
   "source": [
    "#### get ngram frequencies"
   ]
  },
  {
   "cell_type": "code",
   "execution_count": 14,
   "metadata": {
    "collapsed": true
   },
   "outputs": [],
   "source": [
    "def ngram_freq(txt, n_grams=1, number=15, color='blue'):\n",
    "    freq = defaultdict(int)\n",
    "    for q in txt:\n",
    "        for ngram in generate_ngrams(q, n_grams):\n",
    "            freq[ngram] += 1\n",
    "    df_sorted = pd.DataFrame(sorted(freq.items(), key=lambda x: x[1])[::-1])\n",
    "    df_sorted.columns = ['token', 'count']\n",
    "    return df_sorted"
   ]
  },
  {
   "cell_type": "markdown",
   "metadata": {},
   "source": [
    "#### display plot"
   ]
  },
  {
   "cell_type": "code",
   "execution_count": 15,
   "metadata": {
    "collapsed": true
   },
   "outputs": [],
   "source": [
    "def disp_freq_plot(word_freqs, title):\n",
    "    fig = tools.make_subplots(rows=1, cols=1, vertical_spacing=0.04)\n",
    "    fig.append_trace(word_freqs, 1, 1)\n",
    "    fig['layout'].update(height=900, width=600, title=title)\n",
    "    fig['layout'].update(font=dict(size=20), margin=dict(r=20, l=300, b=75, t=125))\n",
    "    py.iplot(fig, filename='counts')"
   ]
  },
  {
   "cell_type": "markdown",
   "metadata": {},
   "source": [
    "### Frequent Words (ngram = 1)"
   ]
  },
  {
   "cell_type": "code",
   "execution_count": 16,
   "metadata": {
    "collapsed": false
   },
   "outputs": [
    {
     "name": "stdout",
     "output_type": "stream",
     "text": [
      "This is the format of your plot grid:\n",
      "[ (1,1) x1,y1 ]\n",
      "\n"
     ]
    },
    {
     "data": {
      "application/vnd.plotly.v1+json": {
       "config": {
        "linkText": "Export to plot.ly",
        "plotlyServerURL": "https://plot.ly",
        "showLink": false
       },
       "data": [
        {
         "marker": {
          "color": "blue"
         },
         "orientation": "h",
         "showlegend": false,
         "type": "bar",
         "uid": "231af890-811e-4e3a-a3f5-910fc5a4c8f8",
         "x": [
          801,
          947,
          1110,
          1116,
          1253,
          1437,
          1596
         ],
         "xaxis": "x",
         "y": [
          "democratic",
          "will",
          "house",
          "new",
          "president",
          "said",
          "trump"
         ],
         "yaxis": "y"
        }
       ],
       "layout": {
        "font": {
         "size": 20
        },
        "height": 900,
        "margin": {
         "b": 75,
         "l": 300,
         "r": 20,
         "t": 125
        },
        "title": {
         "text": "Word Counts - Fox News"
        },
        "width": 600,
        "xaxis": {
         "anchor": "y",
         "domain": [
          0,
          1
         ]
        },
        "yaxis": {
         "anchor": "x",
         "domain": [
          0,
          1
         ]
        }
       }
      },
      "text/html": [
       "<div id=\"2ee9ecb4-623d-4776-8994-ff7b00e439a3\" style=\"height: 900px; width: 600px;\" class=\"plotly-graph-div\"></div><script type=\"text/javascript\">require([\"plotly\"], function(Plotly) { window.PLOTLYENV=window.PLOTLYENV || {};window.PLOTLYENV.BASE_URL=\"https://plot.ly\";\n",
       "if (document.getElementById(\"2ee9ecb4-623d-4776-8994-ff7b00e439a3\")) {\n",
       "    Plotly.newPlot(\"2ee9ecb4-623d-4776-8994-ff7b00e439a3\", [{\"type\": \"bar\", \"marker\": {\"color\": \"blue\"}, \"orientation\": \"h\", \"showlegend\": false, \"y\": [\"democratic\", \"will\", \"house\", \"new\", \"president\", \"said\", \"trump\"], \"x\": [801, 947, 1110, 1116, 1253, 1437, 1596], \"xaxis\": \"x\", \"uid\": \"231af890-811e-4e3a-a3f5-910fc5a4c8f8\", \"yaxis\": \"y\"}], {\"font\": {\"size\": 20}, \"margin\": {\"l\": 300, \"b\": 75, \"t\": 125, \"r\": 20}, \"width\": 600, \"title\": {\"text\": \"Word Counts - Fox News\"}, \"height\": 900, \"xaxis\": {\"anchor\": \"y\", \"domain\": [0.0, 1.0]}, \"yaxis\": {\"anchor\": \"x\", \"domain\": [0.0, 1.0]}}, {\"linkText\": \"Export to plot.ly\", \"showLink\": false, \"plotlyServerURL\": \"https://plot.ly\"}); \n",
       "}\n",
       "});</script>"
      ],
      "text/vnd.plotly.v1+html": [
       "<div id=\"2ee9ecb4-623d-4776-8994-ff7b00e439a3\" style=\"height: 900px; width: 600px;\" class=\"plotly-graph-div\"></div><script type=\"text/javascript\">require([\"plotly\"], function(Plotly) { window.PLOTLYENV=window.PLOTLYENV || {};window.PLOTLYENV.BASE_URL=\"https://plot.ly\";\n",
       "if (document.getElementById(\"2ee9ecb4-623d-4776-8994-ff7b00e439a3\")) {\n",
       "    Plotly.newPlot(\"2ee9ecb4-623d-4776-8994-ff7b00e439a3\", [{\"type\": \"bar\", \"marker\": {\"color\": \"blue\"}, \"orientation\": \"h\", \"showlegend\": false, \"y\": [\"democratic\", \"will\", \"house\", \"new\", \"president\", \"said\", \"trump\"], \"x\": [801, 947, 1110, 1116, 1253, 1437, 1596], \"xaxis\": \"x\", \"uid\": \"231af890-811e-4e3a-a3f5-910fc5a4c8f8\", \"yaxis\": \"y\"}], {\"font\": {\"size\": 20}, \"margin\": {\"l\": 300, \"b\": 75, \"t\": 125, \"r\": 20}, \"width\": 600, \"title\": {\"text\": \"Word Counts - Fox News\"}, \"height\": 900, \"xaxis\": {\"anchor\": \"y\", \"domain\": [0.0, 1.0]}, \"yaxis\": {\"anchor\": \"x\", \"domain\": [0.0, 1.0]}}, {\"linkText\": \"Export to plot.ly\", \"showLink\": false, \"plotlyServerURL\": \"https://plot.ly\"}); \n",
       "}\n",
       "});</script>"
      ]
     },
     "metadata": {},
     "output_type": "display_data"
    }
   ],
   "source": [
    "fox_counts = plt_freq(fox['article'], n_grams=1, number=7)\n",
    "vox_counts = plt_freq(vox['article'], n_grams=1, number=7)\n",
    "pbs_counts = plt_freq(pbs['article'], n_grams=1, number=7)\n",
    "\n",
    "disp_freq_plot(fox_counts, \"Word Counts - Fox News\")"
   ]
  },
  {
   "cell_type": "code",
   "execution_count": 17,
   "metadata": {
    "collapsed": false
   },
   "outputs": [
    {
     "name": "stdout",
     "output_type": "stream",
     "text": [
      "This is the format of your plot grid:\n",
      "[ (1,1) x1,y1 ]\n",
      "\n"
     ]
    },
    {
     "data": {
      "application/vnd.plotly.v1+json": {
       "config": {
        "linkText": "Export to plot.ly",
        "plotlyServerURL": "https://plot.ly",
        "showLink": false
       },
       "data": [
        {
         "marker": {
          "color": "blue"
         },
         "orientation": "h",
         "showlegend": false,
         "type": "bar",
         "uid": "59bf1751-df7f-4ba7-9bd2-7537b8b638d0",
         "x": [
          2655,
          3138,
          4003,
          4013,
          4098,
          5206,
          5446
         ],
         "xaxis": "x",
         "y": [
          "republicans",
          "bill",
          "health",
          "people",
          "will",
          "tax",
          "trump"
         ],
         "yaxis": "y"
        }
       ],
       "layout": {
        "font": {
         "size": 20
        },
        "height": 900,
        "margin": {
         "b": 75,
         "l": 300,
         "r": 20,
         "t": 125
        },
        "title": {
         "text": "Word Counts - Vox News"
        },
        "width": 600,
        "xaxis": {
         "anchor": "y",
         "domain": [
          0,
          1
         ]
        },
        "yaxis": {
         "anchor": "x",
         "domain": [
          0,
          1
         ]
        }
       }
      },
      "text/html": [
       "<div id=\"5af8bbff-ba28-4c12-a8bf-db1c2d016e03\" style=\"height: 900px; width: 600px;\" class=\"plotly-graph-div\"></div><script type=\"text/javascript\">require([\"plotly\"], function(Plotly) { window.PLOTLYENV=window.PLOTLYENV || {};window.PLOTLYENV.BASE_URL=\"https://plot.ly\";\n",
       "if (document.getElementById(\"5af8bbff-ba28-4c12-a8bf-db1c2d016e03\")) {\n",
       "    Plotly.newPlot(\"5af8bbff-ba28-4c12-a8bf-db1c2d016e03\", [{\"type\": \"bar\", \"marker\": {\"color\": \"blue\"}, \"orientation\": \"h\", \"showlegend\": false, \"y\": [\"republicans\", \"bill\", \"health\", \"people\", \"will\", \"tax\", \"trump\"], \"x\": [2655, 3138, 4003, 4013, 4098, 5206, 5446], \"xaxis\": \"x\", \"uid\": \"59bf1751-df7f-4ba7-9bd2-7537b8b638d0\", \"yaxis\": \"y\"}], {\"font\": {\"size\": 20}, \"margin\": {\"l\": 300, \"b\": 75, \"t\": 125, \"r\": 20}, \"width\": 600, \"title\": {\"text\": \"Word Counts - Vox News\"}, \"height\": 900, \"xaxis\": {\"anchor\": \"y\", \"domain\": [0.0, 1.0]}, \"yaxis\": {\"anchor\": \"x\", \"domain\": [0.0, 1.0]}}, {\"linkText\": \"Export to plot.ly\", \"showLink\": false, \"plotlyServerURL\": \"https://plot.ly\"}); \n",
       "}\n",
       "});</script>"
      ],
      "text/vnd.plotly.v1+html": [
       "<div id=\"5af8bbff-ba28-4c12-a8bf-db1c2d016e03\" style=\"height: 900px; width: 600px;\" class=\"plotly-graph-div\"></div><script type=\"text/javascript\">require([\"plotly\"], function(Plotly) { window.PLOTLYENV=window.PLOTLYENV || {};window.PLOTLYENV.BASE_URL=\"https://plot.ly\";\n",
       "if (document.getElementById(\"5af8bbff-ba28-4c12-a8bf-db1c2d016e03\")) {\n",
       "    Plotly.newPlot(\"5af8bbff-ba28-4c12-a8bf-db1c2d016e03\", [{\"type\": \"bar\", \"marker\": {\"color\": \"blue\"}, \"orientation\": \"h\", \"showlegend\": false, \"y\": [\"republicans\", \"bill\", \"health\", \"people\", \"will\", \"tax\", \"trump\"], \"x\": [2655, 3138, 4003, 4013, 4098, 5206, 5446], \"xaxis\": \"x\", \"uid\": \"59bf1751-df7f-4ba7-9bd2-7537b8b638d0\", \"yaxis\": \"y\"}], {\"font\": {\"size\": 20}, \"margin\": {\"l\": 300, \"b\": 75, \"t\": 125, \"r\": 20}, \"width\": 600, \"title\": {\"text\": \"Word Counts - Vox News\"}, \"height\": 900, \"xaxis\": {\"anchor\": \"y\", \"domain\": [0.0, 1.0]}, \"yaxis\": {\"anchor\": \"x\", \"domain\": [0.0, 1.0]}}, {\"linkText\": \"Export to plot.ly\", \"showLink\": false, \"plotlyServerURL\": \"https://plot.ly\"}); \n",
       "}\n",
       "});</script>"
      ]
     },
     "metadata": {},
     "output_type": "display_data"
    }
   ],
   "source": [
    "disp_freq_plot(vox_counts, \"Word Counts - Vox News\")"
   ]
  },
  {
   "cell_type": "code",
   "execution_count": 18,
   "metadata": {
    "collapsed": false
   },
   "outputs": [
    {
     "name": "stdout",
     "output_type": "stream",
     "text": [
      "This is the format of your plot grid:\n",
      "[ (1,1) x1,y1 ]\n",
      "\n"
     ]
    },
    {
     "data": {
      "application/vnd.plotly.v1+json": {
       "config": {
        "linkText": "Export to plot.ly",
        "plotlyServerURL": "https://plot.ly",
        "showLink": false
       },
       "data": [
        {
         "marker": {
          "color": "blue"
         },
         "orientation": "h",
         "showlegend": false,
         "type": "bar",
         "uid": "f07304bf-25e1-435a-a210-52e7ac370821",
         "x": [
          2184,
          2277,
          3079,
          3495,
          3997,
          7383,
          7811
         ],
         "xaxis": "x",
         "y": [
          "white",
          "new",
          "will",
          "house",
          "president",
          "said",
          "trump"
         ],
         "yaxis": "y"
        }
       ],
       "layout": {
        "font": {
         "size": 20
        },
        "height": 900,
        "margin": {
         "b": 75,
         "l": 300,
         "r": 20,
         "t": 125
        },
        "title": {
         "text": "Word Counts - PBS News"
        },
        "width": 600,
        "xaxis": {
         "anchor": "y",
         "domain": [
          0,
          1
         ]
        },
        "yaxis": {
         "anchor": "x",
         "domain": [
          0,
          1
         ]
        }
       }
      },
      "text/html": [
       "<div id=\"54baf8d0-6ac8-4030-bae0-0359b308bac2\" style=\"height: 900px; width: 600px;\" class=\"plotly-graph-div\"></div><script type=\"text/javascript\">require([\"plotly\"], function(Plotly) { window.PLOTLYENV=window.PLOTLYENV || {};window.PLOTLYENV.BASE_URL=\"https://plot.ly\";\n",
       "if (document.getElementById(\"54baf8d0-6ac8-4030-bae0-0359b308bac2\")) {\n",
       "    Plotly.newPlot(\"54baf8d0-6ac8-4030-bae0-0359b308bac2\", [{\"type\": \"bar\", \"marker\": {\"color\": \"blue\"}, \"orientation\": \"h\", \"showlegend\": false, \"y\": [\"white\", \"new\", \"will\", \"house\", \"president\", \"said\", \"trump\"], \"x\": [2184, 2277, 3079, 3495, 3997, 7383, 7811], \"xaxis\": \"x\", \"uid\": \"f07304bf-25e1-435a-a210-52e7ac370821\", \"yaxis\": \"y\"}], {\"font\": {\"size\": 20}, \"margin\": {\"l\": 300, \"b\": 75, \"t\": 125, \"r\": 20}, \"width\": 600, \"title\": {\"text\": \"Word Counts - PBS News\"}, \"height\": 900, \"xaxis\": {\"anchor\": \"y\", \"domain\": [0.0, 1.0]}, \"yaxis\": {\"anchor\": \"x\", \"domain\": [0.0, 1.0]}}, {\"linkText\": \"Export to plot.ly\", \"showLink\": false, \"plotlyServerURL\": \"https://plot.ly\"}); \n",
       "}\n",
       "});</script>"
      ],
      "text/vnd.plotly.v1+html": [
       "<div id=\"54baf8d0-6ac8-4030-bae0-0359b308bac2\" style=\"height: 900px; width: 600px;\" class=\"plotly-graph-div\"></div><script type=\"text/javascript\">require([\"plotly\"], function(Plotly) { window.PLOTLYENV=window.PLOTLYENV || {};window.PLOTLYENV.BASE_URL=\"https://plot.ly\";\n",
       "if (document.getElementById(\"54baf8d0-6ac8-4030-bae0-0359b308bac2\")) {\n",
       "    Plotly.newPlot(\"54baf8d0-6ac8-4030-bae0-0359b308bac2\", [{\"type\": \"bar\", \"marker\": {\"color\": \"blue\"}, \"orientation\": \"h\", \"showlegend\": false, \"y\": [\"white\", \"new\", \"will\", \"house\", \"president\", \"said\", \"trump\"], \"x\": [2184, 2277, 3079, 3495, 3997, 7383, 7811], \"xaxis\": \"x\", \"uid\": \"f07304bf-25e1-435a-a210-52e7ac370821\", \"yaxis\": \"y\"}], {\"font\": {\"size\": 20}, \"margin\": {\"l\": 300, \"b\": 75, \"t\": 125, \"r\": 20}, \"width\": 600, \"title\": {\"text\": \"Word Counts - PBS News\"}, \"height\": 900, \"xaxis\": {\"anchor\": \"y\", \"domain\": [0.0, 1.0]}, \"yaxis\": {\"anchor\": \"x\", \"domain\": [0.0, 1.0]}}, {\"linkText\": \"Export to plot.ly\", \"showLink\": false, \"plotlyServerURL\": \"https://plot.ly\"}); \n",
       "}\n",
       "});</script>"
      ]
     },
     "metadata": {},
     "output_type": "display_data"
    }
   ],
   "source": [
    "disp_freq_plot(pbs_counts, \"Word Counts - PBS News\")"
   ]
  },
  {
   "cell_type": "code",
   "execution_count": 64,
   "metadata": {
    "collapsed": false
   },
   "outputs": [
    {
     "name": "stdout",
     "output_type": "stream",
     "text": [
      "This is the format of your plot grid:\n",
      "[ (1,1) x1,y1 ]\n",
      "\n"
     ]
    },
    {
     "data": {
      "application/vnd.plotly.v1+json": {
       "config": {
        "linkText": "Export to plot.ly",
        "plotlyServerURL": "https://plot.ly",
        "showLink": false
       },
       "data": [
        {
         "marker": {
          "color": "blue"
         },
         "orientation": "h",
         "showlegend": false,
         "type": "bar",
         "uid": "1e10e6fe-d68a-4626-a7fc-f1db466c3c29",
         "x": [
          132,
          138,
          143,
          179,
          247,
          255,
          464
         ],
         "xaxis": "x",
         "y": [
          "border wall",
          "border security",
          "associated press",
          "green new",
          "new york",
          "president trump",
          "white house"
         ],
         "yaxis": "y"
        }
       ],
       "layout": {
        "font": {
         "size": 20
        },
        "height": 900,
        "margin": {
         "b": 75,
         "l": 300,
         "r": 20,
         "t": 125
        },
        "title": {
         "text": "Phrase Counts - Fox News"
        },
        "width": 600,
        "xaxis": {
         "anchor": "y",
         "domain": [
          0,
          1
         ]
        },
        "yaxis": {
         "anchor": "x",
         "domain": [
          0,
          1
         ]
        }
       }
      },
      "text/html": [
       "<div id=\"ba4d2acf-0071-434c-94c8-c0caa4966409\" style=\"height: 900px; width: 600px;\" class=\"plotly-graph-div\"></div><script type=\"text/javascript\">require([\"plotly\"], function(Plotly) { window.PLOTLYENV=window.PLOTLYENV || {};window.PLOTLYENV.BASE_URL=\"https://plot.ly\";\n",
       "if (document.getElementById(\"ba4d2acf-0071-434c-94c8-c0caa4966409\")) {\n",
       "    Plotly.newPlot(\"ba4d2acf-0071-434c-94c8-c0caa4966409\", [{\"marker\": {\"color\": \"blue\"}, \"uid\": \"1e10e6fe-d68a-4626-a7fc-f1db466c3c29\", \"y\": [\"border wall\", \"border security\", \"associated press\", \"green new\", \"new york\", \"president trump\", \"white house\"], \"showlegend\": false, \"orientation\": \"h\", \"xaxis\": \"x\", \"type\": \"bar\", \"x\": [132, 138, 143, 179, 247, 255, 464], \"yaxis\": \"y\"}], {\"font\": {\"size\": 20}, \"height\": 900, \"yaxis\": {\"domain\": [0.0, 1.0], \"anchor\": \"x\"}, \"xaxis\": {\"domain\": [0.0, 1.0], \"anchor\": \"y\"}, \"width\": 600, \"title\": {\"text\": \"Phrase Counts - Fox News\"}, \"margin\": {\"b\": 75, \"r\": 20, \"l\": 300, \"t\": 125}}, {\"linkText\": \"Export to plot.ly\", \"plotlyServerURL\": \"https://plot.ly\", \"showLink\": false}); \n",
       "}\n",
       "});</script>"
      ],
      "text/vnd.plotly.v1+html": [
       "<div id=\"ba4d2acf-0071-434c-94c8-c0caa4966409\" style=\"height: 900px; width: 600px;\" class=\"plotly-graph-div\"></div><script type=\"text/javascript\">require([\"plotly\"], function(Plotly) { window.PLOTLYENV=window.PLOTLYENV || {};window.PLOTLYENV.BASE_URL=\"https://plot.ly\";\n",
       "if (document.getElementById(\"ba4d2acf-0071-434c-94c8-c0caa4966409\")) {\n",
       "    Plotly.newPlot(\"ba4d2acf-0071-434c-94c8-c0caa4966409\", [{\"marker\": {\"color\": \"blue\"}, \"uid\": \"1e10e6fe-d68a-4626-a7fc-f1db466c3c29\", \"y\": [\"border wall\", \"border security\", \"associated press\", \"green new\", \"new york\", \"president trump\", \"white house\"], \"showlegend\": false, \"orientation\": \"h\", \"xaxis\": \"x\", \"type\": \"bar\", \"x\": [132, 138, 143, 179, 247, 255, 464], \"yaxis\": \"y\"}], {\"font\": {\"size\": 20}, \"height\": 900, \"yaxis\": {\"domain\": [0.0, 1.0], \"anchor\": \"x\"}, \"xaxis\": {\"domain\": [0.0, 1.0], \"anchor\": \"y\"}, \"width\": 600, \"title\": {\"text\": \"Phrase Counts - Fox News\"}, \"margin\": {\"b\": 75, \"r\": 20, \"l\": 300, \"t\": 125}}, {\"linkText\": \"Export to plot.ly\", \"plotlyServerURL\": \"https://plot.ly\", \"showLink\": false}); \n",
       "}\n",
       "});</script>"
      ]
     },
     "metadata": {},
     "output_type": "display_data"
    }
   ],
   "source": [
    "fox_counts = plt_freq(fox['article'], n_grams=2, number=7)\n",
    "vox_counts = plt_freq(vox['article'], n_grams=2, number=7)\n",
    "pbs_counts = plt_freq(pbs['article'], n_grams=2, number=7)\n",
    "\n",
    "disp_freq_plot(fox_counts, \"Phrase Counts - Fox News\")"
   ]
  },
  {
   "cell_type": "code",
   "execution_count": 65,
   "metadata": {
    "collapsed": false
   },
   "outputs": [
    {
     "name": "stdout",
     "output_type": "stream",
     "text": [
      "This is the format of your plot grid:\n",
      "[ (1,1) x1,y1 ]\n",
      "\n"
     ]
    },
    {
     "data": {
      "application/vnd.plotly.v1+json": {
       "config": {
        "linkText": "Export to plot.ly",
        "plotlyServerURL": "https://plot.ly",
        "showLink": false
       },
       "data": [
        {
         "marker": {
          "color": "blue"
         },
         "orientation": "h",
         "showlegend": false,
         "type": "bar",
         "uid": "a6d4da21-eb4e-4de7-9bd6-cd5d332fae00",
         "x": [
          470,
          479,
          479,
          598,
          672,
          743,
          1654
         ],
         "xaxis": "x",
         "y": [
          "new york",
          "tax cuts",
          "health insurance",
          "donald trump",
          "trump administration",
          "white house",
          "health care"
         ],
         "yaxis": "y"
        }
       ],
       "layout": {
        "font": {
         "size": 20
        },
        "height": 900,
        "margin": {
         "b": 75,
         "l": 300,
         "r": 20,
         "t": 125
        },
        "title": {
         "text": "Phrase Counts - Vox News"
        },
        "width": 600,
        "xaxis": {
         "anchor": "y",
         "domain": [
          0,
          1
         ]
        },
        "yaxis": {
         "anchor": "x",
         "domain": [
          0,
          1
         ]
        }
       }
      },
      "text/html": [
       "<div id=\"43ac0fc6-2153-4c07-9097-3944ce7d8e84\" style=\"height: 900px; width: 600px;\" class=\"plotly-graph-div\"></div><script type=\"text/javascript\">require([\"plotly\"], function(Plotly) { window.PLOTLYENV=window.PLOTLYENV || {};window.PLOTLYENV.BASE_URL=\"https://plot.ly\";\n",
       "if (document.getElementById(\"43ac0fc6-2153-4c07-9097-3944ce7d8e84\")) {\n",
       "    Plotly.newPlot(\"43ac0fc6-2153-4c07-9097-3944ce7d8e84\", [{\"marker\": {\"color\": \"blue\"}, \"uid\": \"a6d4da21-eb4e-4de7-9bd6-cd5d332fae00\", \"y\": [\"new york\", \"tax cuts\", \"health insurance\", \"donald trump\", \"trump administration\", \"white house\", \"health care\"], \"showlegend\": false, \"orientation\": \"h\", \"xaxis\": \"x\", \"type\": \"bar\", \"x\": [470, 479, 479, 598, 672, 743, 1654], \"yaxis\": \"y\"}], {\"font\": {\"size\": 20}, \"height\": 900, \"yaxis\": {\"domain\": [0.0, 1.0], \"anchor\": \"x\"}, \"xaxis\": {\"domain\": [0.0, 1.0], \"anchor\": \"y\"}, \"width\": 600, \"title\": {\"text\": \"Phrase Counts - Vox News\"}, \"margin\": {\"b\": 75, \"r\": 20, \"l\": 300, \"t\": 125}}, {\"linkText\": \"Export to plot.ly\", \"plotlyServerURL\": \"https://plot.ly\", \"showLink\": false}); \n",
       "}\n",
       "});</script>"
      ],
      "text/vnd.plotly.v1+html": [
       "<div id=\"43ac0fc6-2153-4c07-9097-3944ce7d8e84\" style=\"height: 900px; width: 600px;\" class=\"plotly-graph-div\"></div><script type=\"text/javascript\">require([\"plotly\"], function(Plotly) { window.PLOTLYENV=window.PLOTLYENV || {};window.PLOTLYENV.BASE_URL=\"https://plot.ly\";\n",
       "if (document.getElementById(\"43ac0fc6-2153-4c07-9097-3944ce7d8e84\")) {\n",
       "    Plotly.newPlot(\"43ac0fc6-2153-4c07-9097-3944ce7d8e84\", [{\"marker\": {\"color\": \"blue\"}, \"uid\": \"a6d4da21-eb4e-4de7-9bd6-cd5d332fae00\", \"y\": [\"new york\", \"tax cuts\", \"health insurance\", \"donald trump\", \"trump administration\", \"white house\", \"health care\"], \"showlegend\": false, \"orientation\": \"h\", \"xaxis\": \"x\", \"type\": \"bar\", \"x\": [470, 479, 479, 598, 672, 743, 1654], \"yaxis\": \"y\"}], {\"font\": {\"size\": 20}, \"height\": 900, \"yaxis\": {\"domain\": [0.0, 1.0], \"anchor\": \"x\"}, \"xaxis\": {\"domain\": [0.0, 1.0], \"anchor\": \"y\"}, \"width\": 600, \"title\": {\"text\": \"Phrase Counts - Vox News\"}, \"margin\": {\"b\": 75, \"r\": 20, \"l\": 300, \"t\": 125}}, {\"linkText\": \"Export to plot.ly\", \"plotlyServerURL\": \"https://plot.ly\", \"showLink\": false}); \n",
       "}\n",
       "});</script>"
      ]
     },
     "metadata": {},
     "output_type": "display_data"
    }
   ],
   "source": [
    "disp_freq_plot(vox_counts, \"Phrase Counts - Vox News\")"
   ]
  },
  {
   "cell_type": "code",
   "execution_count": 66,
   "metadata": {
    "collapsed": false
   },
   "outputs": [
    {
     "name": "stdout",
     "output_type": "stream",
     "text": [
      "This is the format of your plot grid:\n",
      "[ (1,1) x1,y1 ]\n",
      "\n"
     ]
    },
    {
     "data": {
      "application/vnd.plotly.v1+json": {
       "config": {
        "linkText": "Export to plot.ly",
        "plotlyServerURL": "https://plot.ly",
        "showLink": false
       },
       "data": [
        {
         "marker": {
          "color": "blue"
         },
         "orientation": "h",
         "showlegend": false,
         "type": "bar",
         "uid": "c9c990c3-e442-4eee-929f-49101b26b5a3",
         "x": [
          491,
          499,
          584,
          613,
          1035,
          1297,
          1683
         ],
         "xaxis": "x",
         "y": [
          "new york",
          "attorney general",
          "supreme court",
          "special counsel",
          "donald trump",
          "president donald",
          "white house"
         ],
         "yaxis": "y"
        }
       ],
       "layout": {
        "font": {
         "size": 20
        },
        "height": 900,
        "margin": {
         "b": 75,
         "l": 300,
         "r": 20,
         "t": 125
        },
        "title": {
         "text": "Phrase Counts - PBS News"
        },
        "width": 600,
        "xaxis": {
         "anchor": "y",
         "domain": [
          0,
          1
         ]
        },
        "yaxis": {
         "anchor": "x",
         "domain": [
          0,
          1
         ]
        }
       }
      },
      "text/html": [
       "<div id=\"2d148175-e89b-4bd6-94a4-d22f57f98917\" style=\"height: 900px; width: 600px;\" class=\"plotly-graph-div\"></div><script type=\"text/javascript\">require([\"plotly\"], function(Plotly) { window.PLOTLYENV=window.PLOTLYENV || {};window.PLOTLYENV.BASE_URL=\"https://plot.ly\";\n",
       "if (document.getElementById(\"2d148175-e89b-4bd6-94a4-d22f57f98917\")) {\n",
       "    Plotly.newPlot(\"2d148175-e89b-4bd6-94a4-d22f57f98917\", [{\"marker\": {\"color\": \"blue\"}, \"uid\": \"c9c990c3-e442-4eee-929f-49101b26b5a3\", \"y\": [\"new york\", \"attorney general\", \"supreme court\", \"special counsel\", \"donald trump\", \"president donald\", \"white house\"], \"showlegend\": false, \"orientation\": \"h\", \"xaxis\": \"x\", \"type\": \"bar\", \"x\": [491, 499, 584, 613, 1035, 1297, 1683], \"yaxis\": \"y\"}], {\"font\": {\"size\": 20}, \"height\": 900, \"yaxis\": {\"domain\": [0.0, 1.0], \"anchor\": \"x\"}, \"xaxis\": {\"domain\": [0.0, 1.0], \"anchor\": \"y\"}, \"width\": 600, \"title\": {\"text\": \"Phrase Counts - PBS News\"}, \"margin\": {\"b\": 75, \"r\": 20, \"l\": 300, \"t\": 125}}, {\"linkText\": \"Export to plot.ly\", \"plotlyServerURL\": \"https://plot.ly\", \"showLink\": false}); \n",
       "}\n",
       "});</script>"
      ],
      "text/vnd.plotly.v1+html": [
       "<div id=\"2d148175-e89b-4bd6-94a4-d22f57f98917\" style=\"height: 900px; width: 600px;\" class=\"plotly-graph-div\"></div><script type=\"text/javascript\">require([\"plotly\"], function(Plotly) { window.PLOTLYENV=window.PLOTLYENV || {};window.PLOTLYENV.BASE_URL=\"https://plot.ly\";\n",
       "if (document.getElementById(\"2d148175-e89b-4bd6-94a4-d22f57f98917\")) {\n",
       "    Plotly.newPlot(\"2d148175-e89b-4bd6-94a4-d22f57f98917\", [{\"marker\": {\"color\": \"blue\"}, \"uid\": \"c9c990c3-e442-4eee-929f-49101b26b5a3\", \"y\": [\"new york\", \"attorney general\", \"supreme court\", \"special counsel\", \"donald trump\", \"president donald\", \"white house\"], \"showlegend\": false, \"orientation\": \"h\", \"xaxis\": \"x\", \"type\": \"bar\", \"x\": [491, 499, 584, 613, 1035, 1297, 1683], \"yaxis\": \"y\"}], {\"font\": {\"size\": 20}, \"height\": 900, \"yaxis\": {\"domain\": [0.0, 1.0], \"anchor\": \"x\"}, \"xaxis\": {\"domain\": [0.0, 1.0], \"anchor\": \"y\"}, \"width\": 600, \"title\": {\"text\": \"Phrase Counts - PBS News\"}, \"margin\": {\"b\": 75, \"r\": 20, \"l\": 300, \"t\": 125}}, {\"linkText\": \"Export to plot.ly\", \"plotlyServerURL\": \"https://plot.ly\", \"showLink\": false}); \n",
       "}\n",
       "});</script>"
      ]
     },
     "metadata": {},
     "output_type": "display_data"
    }
   ],
   "source": [
    "disp_freq_plot(pbs_counts, \"Phrase Counts - PBS News\")"
   ]
  },
  {
   "cell_type": "code",
   "execution_count": 34,
   "metadata": {
    "collapsed": false
   },
   "outputs": [
    {
     "data": {
      "text/html": [
       "<div>\n",
       "<style scoped>\n",
       "    .dataframe tbody tr th:only-of-type {\n",
       "        vertical-align: middle;\n",
       "    }\n",
       "\n",
       "    .dataframe tbody tr th {\n",
       "        vertical-align: top;\n",
       "    }\n",
       "\n",
       "    .dataframe thead th {\n",
       "        text-align: right;\n",
       "    }\n",
       "</style>\n",
       "<table border=\"1\" class=\"dataframe\">\n",
       "  <thead>\n",
       "    <tr style=\"text-align: right;\">\n",
       "      <th></th>\n",
       "      <th>token</th>\n",
       "      <th>count</th>\n",
       "    </tr>\n",
       "  </thead>\n",
       "  <tbody>\n",
       "    <tr>\n",
       "      <th>0</th>\n",
       "      <td>trump</td>\n",
       "      <td>1596</td>\n",
       "    </tr>\n",
       "    <tr>\n",
       "      <th>1</th>\n",
       "      <td>said</td>\n",
       "      <td>1437</td>\n",
       "    </tr>\n",
       "    <tr>\n",
       "      <th>2</th>\n",
       "      <td>president</td>\n",
       "      <td>1253</td>\n",
       "    </tr>\n",
       "    <tr>\n",
       "      <th>3</th>\n",
       "      <td>new</td>\n",
       "      <td>1116</td>\n",
       "    </tr>\n",
       "    <tr>\n",
       "      <th>4</th>\n",
       "      <td>house</td>\n",
       "      <td>1110</td>\n",
       "    </tr>\n",
       "  </tbody>\n",
       "</table>\n",
       "</div>"
      ],
      "text/plain": [
       "       token  count\n",
       "0      trump   1596\n",
       "1       said   1437\n",
       "2  president   1253\n",
       "3        new   1116\n",
       "4      house   1110"
      ]
     },
     "execution_count": 34,
     "metadata": {},
     "output_type": "execute_result"
    }
   ],
   "source": [
    "fox_ngrams = ngram_freq(fox['article'], n_grams=1, number=20)\n",
    "vox_ngrams = ngram_freq(vox['article'], n_grams=1, number=20)\n",
    "pbs_ngrams = ngram_freq(pbs['article'], n_grams=1, number=20)\n",
    "\n",
    "fox_ngrams.head(5)"
   ]
  },
  {
   "cell_type": "code",
   "execution_count": 35,
   "metadata": {
    "collapsed": false
   },
   "outputs": [
    {
     "data": {
      "text/html": [
       "<div>\n",
       "<style scoped>\n",
       "    .dataframe tbody tr th:only-of-type {\n",
       "        vertical-align: middle;\n",
       "    }\n",
       "\n",
       "    .dataframe tbody tr th {\n",
       "        vertical-align: top;\n",
       "    }\n",
       "\n",
       "    .dataframe thead th {\n",
       "        text-align: right;\n",
       "    }\n",
       "</style>\n",
       "<table border=\"1\" class=\"dataframe\">\n",
       "  <thead>\n",
       "    <tr style=\"text-align: right;\">\n",
       "      <th></th>\n",
       "      <th>token</th>\n",
       "      <th>count</th>\n",
       "    </tr>\n",
       "  </thead>\n",
       "  <tbody>\n",
       "    <tr>\n",
       "      <th>0</th>\n",
       "      <td>trump</td>\n",
       "      <td>5446</td>\n",
       "    </tr>\n",
       "    <tr>\n",
       "      <th>1</th>\n",
       "      <td>tax</td>\n",
       "      <td>5206</td>\n",
       "    </tr>\n",
       "    <tr>\n",
       "      <th>2</th>\n",
       "      <td>will</td>\n",
       "      <td>4098</td>\n",
       "    </tr>\n",
       "    <tr>\n",
       "      <th>3</th>\n",
       "      <td>people</td>\n",
       "      <td>4013</td>\n",
       "    </tr>\n",
       "    <tr>\n",
       "      <th>4</th>\n",
       "      <td>health</td>\n",
       "      <td>4003</td>\n",
       "    </tr>\n",
       "  </tbody>\n",
       "</table>\n",
       "</div>"
      ],
      "text/plain": [
       "    token  count\n",
       "0   trump   5446\n",
       "1     tax   5206\n",
       "2    will   4098\n",
       "3  people   4013\n",
       "4  health   4003"
      ]
     },
     "execution_count": 35,
     "metadata": {},
     "output_type": "execute_result"
    }
   ],
   "source": [
    "vox_ngrams.head()"
   ]
  },
  {
   "cell_type": "code",
   "execution_count": 36,
   "metadata": {
    "collapsed": false
   },
   "outputs": [
    {
     "data": {
      "text/html": [
       "<div>\n",
       "<style scoped>\n",
       "    .dataframe tbody tr th:only-of-type {\n",
       "        vertical-align: middle;\n",
       "    }\n",
       "\n",
       "    .dataframe tbody tr th {\n",
       "        vertical-align: top;\n",
       "    }\n",
       "\n",
       "    .dataframe thead th {\n",
       "        text-align: right;\n",
       "    }\n",
       "</style>\n",
       "<table border=\"1\" class=\"dataframe\">\n",
       "  <thead>\n",
       "    <tr style=\"text-align: right;\">\n",
       "      <th></th>\n",
       "      <th>token</th>\n",
       "      <th>count</th>\n",
       "    </tr>\n",
       "  </thead>\n",
       "  <tbody>\n",
       "    <tr>\n",
       "      <th>0</th>\n",
       "      <td>trump</td>\n",
       "      <td>7811</td>\n",
       "    </tr>\n",
       "    <tr>\n",
       "      <th>1</th>\n",
       "      <td>said</td>\n",
       "      <td>7383</td>\n",
       "    </tr>\n",
       "    <tr>\n",
       "      <th>2</th>\n",
       "      <td>president</td>\n",
       "      <td>3997</td>\n",
       "    </tr>\n",
       "    <tr>\n",
       "      <th>3</th>\n",
       "      <td>house</td>\n",
       "      <td>3495</td>\n",
       "    </tr>\n",
       "    <tr>\n",
       "      <th>4</th>\n",
       "      <td>will</td>\n",
       "      <td>3079</td>\n",
       "    </tr>\n",
       "  </tbody>\n",
       "</table>\n",
       "</div>"
      ],
      "text/plain": [
       "       token  count\n",
       "0      trump   7811\n",
       "1       said   7383\n",
       "2  president   3997\n",
       "3      house   3495\n",
       "4       will   3079"
      ]
     },
     "execution_count": 36,
     "metadata": {},
     "output_type": "execute_result"
    }
   ],
   "source": [
    "pbs_ngrams.head()"
   ]
  },
  {
   "cell_type": "markdown",
   "metadata": {},
   "source": [
    "### Frequent Phrases (ngram = 2)"
   ]
  },
  {
   "cell_type": "code",
   "execution_count": 37,
   "metadata": {
    "collapsed": true
   },
   "outputs": [],
   "source": [
    "fox_ngrams = ngram_freq(fox['article'], n_grams=2, number=20)\n",
    "vox_ngrams = ngram_freq(vox['article'], n_grams=2, number=20)\n",
    "pbs_ngrams = ngram_freq(pbs['article'], n_grams=2, number=20)"
   ]
  },
  {
   "cell_type": "code",
   "execution_count": 38,
   "metadata": {
    "collapsed": false
   },
   "outputs": [
    {
     "data": {
      "text/html": [
       "<div>\n",
       "<style scoped>\n",
       "    .dataframe tbody tr th:only-of-type {\n",
       "        vertical-align: middle;\n",
       "    }\n",
       "\n",
       "    .dataframe tbody tr th {\n",
       "        vertical-align: top;\n",
       "    }\n",
       "\n",
       "    .dataframe thead th {\n",
       "        text-align: right;\n",
       "    }\n",
       "</style>\n",
       "<table border=\"1\" class=\"dataframe\">\n",
       "  <thead>\n",
       "    <tr style=\"text-align: right;\">\n",
       "      <th></th>\n",
       "      <th>token</th>\n",
       "      <th>count</th>\n",
       "    </tr>\n",
       "  </thead>\n",
       "  <tbody>\n",
       "    <tr>\n",
       "      <th>0</th>\n",
       "      <td>white house</td>\n",
       "      <td>464</td>\n",
       "    </tr>\n",
       "    <tr>\n",
       "      <th>1</th>\n",
       "      <td>president trump</td>\n",
       "      <td>255</td>\n",
       "    </tr>\n",
       "    <tr>\n",
       "      <th>2</th>\n",
       "      <td>new york</td>\n",
       "      <td>247</td>\n",
       "    </tr>\n",
       "    <tr>\n",
       "      <th>3</th>\n",
       "      <td>green new</td>\n",
       "      <td>179</td>\n",
       "    </tr>\n",
       "    <tr>\n",
       "      <th>4</th>\n",
       "      <td>associated press</td>\n",
       "      <td>143</td>\n",
       "    </tr>\n",
       "  </tbody>\n",
       "</table>\n",
       "</div>"
      ],
      "text/plain": [
       "              token  count\n",
       "0       white house    464\n",
       "1   president trump    255\n",
       "2          new york    247\n",
       "3         green new    179\n",
       "4  associated press    143"
      ]
     },
     "execution_count": 38,
     "metadata": {},
     "output_type": "execute_result"
    }
   ],
   "source": [
    "fox_ngrams.head()"
   ]
  },
  {
   "cell_type": "code",
   "execution_count": 39,
   "metadata": {
    "collapsed": false
   },
   "outputs": [
    {
     "data": {
      "text/html": [
       "<div>\n",
       "<style scoped>\n",
       "    .dataframe tbody tr th:only-of-type {\n",
       "        vertical-align: middle;\n",
       "    }\n",
       "\n",
       "    .dataframe tbody tr th {\n",
       "        vertical-align: top;\n",
       "    }\n",
       "\n",
       "    .dataframe thead th {\n",
       "        text-align: right;\n",
       "    }\n",
       "</style>\n",
       "<table border=\"1\" class=\"dataframe\">\n",
       "  <thead>\n",
       "    <tr style=\"text-align: right;\">\n",
       "      <th></th>\n",
       "      <th>token</th>\n",
       "      <th>count</th>\n",
       "    </tr>\n",
       "  </thead>\n",
       "  <tbody>\n",
       "    <tr>\n",
       "      <th>0</th>\n",
       "      <td>health care</td>\n",
       "      <td>1654</td>\n",
       "    </tr>\n",
       "    <tr>\n",
       "      <th>1</th>\n",
       "      <td>white house</td>\n",
       "      <td>743</td>\n",
       "    </tr>\n",
       "    <tr>\n",
       "      <th>2</th>\n",
       "      <td>trump administration</td>\n",
       "      <td>672</td>\n",
       "    </tr>\n",
       "    <tr>\n",
       "      <th>3</th>\n",
       "      <td>donald trump</td>\n",
       "      <td>598</td>\n",
       "    </tr>\n",
       "    <tr>\n",
       "      <th>4</th>\n",
       "      <td>health insurance</td>\n",
       "      <td>479</td>\n",
       "    </tr>\n",
       "  </tbody>\n",
       "</table>\n",
       "</div>"
      ],
      "text/plain": [
       "                  token  count\n",
       "0           health care   1654\n",
       "1           white house    743\n",
       "2  trump administration    672\n",
       "3          donald trump    598\n",
       "4      health insurance    479"
      ]
     },
     "execution_count": 39,
     "metadata": {},
     "output_type": "execute_result"
    }
   ],
   "source": [
    "vox_ngrams.head()"
   ]
  },
  {
   "cell_type": "code",
   "execution_count": 40,
   "metadata": {
    "collapsed": false
   },
   "outputs": [
    {
     "data": {
      "text/html": [
       "<div>\n",
       "<style scoped>\n",
       "    .dataframe tbody tr th:only-of-type {\n",
       "        vertical-align: middle;\n",
       "    }\n",
       "\n",
       "    .dataframe tbody tr th {\n",
       "        vertical-align: top;\n",
       "    }\n",
       "\n",
       "    .dataframe thead th {\n",
       "        text-align: right;\n",
       "    }\n",
       "</style>\n",
       "<table border=\"1\" class=\"dataframe\">\n",
       "  <thead>\n",
       "    <tr style=\"text-align: right;\">\n",
       "      <th></th>\n",
       "      <th>token</th>\n",
       "      <th>count</th>\n",
       "    </tr>\n",
       "  </thead>\n",
       "  <tbody>\n",
       "    <tr>\n",
       "      <th>0</th>\n",
       "      <td>white house</td>\n",
       "      <td>1683</td>\n",
       "    </tr>\n",
       "    <tr>\n",
       "      <th>1</th>\n",
       "      <td>president donald</td>\n",
       "      <td>1297</td>\n",
       "    </tr>\n",
       "    <tr>\n",
       "      <th>2</th>\n",
       "      <td>donald trump</td>\n",
       "      <td>1035</td>\n",
       "    </tr>\n",
       "    <tr>\n",
       "      <th>3</th>\n",
       "      <td>special counsel</td>\n",
       "      <td>613</td>\n",
       "    </tr>\n",
       "    <tr>\n",
       "      <th>4</th>\n",
       "      <td>supreme court</td>\n",
       "      <td>584</td>\n",
       "    </tr>\n",
       "  </tbody>\n",
       "</table>\n",
       "</div>"
      ],
      "text/plain": [
       "              token  count\n",
       "0       white house   1683\n",
       "1  president donald   1297\n",
       "2      donald trump   1035\n",
       "3   special counsel    613\n",
       "4     supreme court    584"
      ]
     },
     "execution_count": 40,
     "metadata": {},
     "output_type": "execute_result"
    }
   ],
   "source": [
    "pbs_ngrams.head()"
   ]
  },
  {
   "cell_type": "markdown",
   "metadata": {},
   "source": [
    "### Frequent Phrases (ngram = 3)"
   ]
  },
  {
   "cell_type": "code",
   "execution_count": 41,
   "metadata": {
    "collapsed": true
   },
   "outputs": [],
   "source": [
    "fox_ngrams = ngram_freq(fox['article'], n_grams=3, number=20)\n",
    "vox_ngrams = ngram_freq(vox['article'], n_grams=3, number=20)\n",
    "pbs_ngrams = ngram_freq(pbs['article'], n_grams=3, number=20)"
   ]
  },
  {
   "cell_type": "code",
   "execution_count": 42,
   "metadata": {
    "collapsed": false
   },
   "outputs": [
    {
     "data": {
      "text/html": [
       "<div>\n",
       "<style scoped>\n",
       "    .dataframe tbody tr th:only-of-type {\n",
       "        vertical-align: middle;\n",
       "    }\n",
       "\n",
       "    .dataframe tbody tr th {\n",
       "        vertical-align: top;\n",
       "    }\n",
       "\n",
       "    .dataframe thead th {\n",
       "        text-align: right;\n",
       "    }\n",
       "</style>\n",
       "<table border=\"1\" class=\"dataframe\">\n",
       "  <thead>\n",
       "    <tr style=\"text-align: right;\">\n",
       "      <th></th>\n",
       "      <th>token</th>\n",
       "      <th>count</th>\n",
       "    </tr>\n",
       "  </thead>\n",
       "  <tbody>\n",
       "    <tr>\n",
       "      <th>0</th>\n",
       "      <td>associated press contributed</td>\n",
       "      <td>131</td>\n",
       "    </tr>\n",
       "    <tr>\n",
       "      <th>1</th>\n",
       "      <td>green new deal</td>\n",
       "      <td>104</td>\n",
       "    </tr>\n",
       "    <tr>\n",
       "      <th>2</th>\n",
       "      <td>house speaker nancy</td>\n",
       "      <td>75</td>\n",
       "    </tr>\n",
       "    <tr>\n",
       "      <th>3</th>\n",
       "      <td>state union address</td>\n",
       "      <td>56</td>\n",
       "    </tr>\n",
       "    <tr>\n",
       "      <th>4</th>\n",
       "      <td>partial government shutdown</td>\n",
       "      <td>55</td>\n",
       "    </tr>\n",
       "  </tbody>\n",
       "</table>\n",
       "</div>"
      ],
      "text/plain": [
       "                          token  count\n",
       "0  associated press contributed    131\n",
       "1                green new deal    104\n",
       "2           house speaker nancy     75\n",
       "3           state union address     56\n",
       "4   partial government shutdown     55"
      ]
     },
     "execution_count": 42,
     "metadata": {},
     "output_type": "execute_result"
    }
   ],
   "source": [
    "fox_ngrams.head()"
   ]
  },
  {
   "cell_type": "code",
   "execution_count": 43,
   "metadata": {
    "collapsed": false
   },
   "outputs": [
    {
     "data": {
      "text/html": [
       "<div>\n",
       "<style scoped>\n",
       "    .dataframe tbody tr th:only-of-type {\n",
       "        vertical-align: middle;\n",
       "    }\n",
       "\n",
       "    .dataframe tbody tr th {\n",
       "        vertical-align: top;\n",
       "    }\n",
       "\n",
       "    .dataframe thead th {\n",
       "        text-align: right;\n",
       "    }\n",
       "</style>\n",
       "<table border=\"1\" class=\"dataframe\">\n",
       "  <thead>\n",
       "    <tr style=\"text-align: right;\">\n",
       "      <th></th>\n",
       "      <th>token</th>\n",
       "      <th>count</th>\n",
       "    </tr>\n",
       "  </thead>\n",
       "  <tbody>\n",
       "    <tr>\n",
       "      <th>0</th>\n",
       "      <td>affordable care act</td>\n",
       "      <td>222</td>\n",
       "    </tr>\n",
       "    <tr>\n",
       "      <th>1</th>\n",
       "      <td>president donald trump</td>\n",
       "      <td>157</td>\n",
       "    </tr>\n",
       "    <tr>\n",
       "      <th>2</th>\n",
       "      <td>congressional budget office</td>\n",
       "      <td>127</td>\n",
       "    </tr>\n",
       "    <tr>\n",
       "      <th>3</th>\n",
       "      <td>health care bill</td>\n",
       "      <td>121</td>\n",
       "    </tr>\n",
       "    <tr>\n",
       "      <th>4</th>\n",
       "      <td>new york times</td>\n",
       "      <td>115</td>\n",
       "    </tr>\n",
       "  </tbody>\n",
       "</table>\n",
       "</div>"
      ],
      "text/plain": [
       "                         token  count\n",
       "0          affordable care act    222\n",
       "1       president donald trump    157\n",
       "2  congressional budget office    127\n",
       "3             health care bill    121\n",
       "4               new york times    115"
      ]
     },
     "execution_count": 43,
     "metadata": {},
     "output_type": "execute_result"
    }
   ],
   "source": [
    "vox_ngrams.head()"
   ]
  },
  {
   "cell_type": "code",
   "execution_count": 44,
   "metadata": {
    "collapsed": false
   },
   "outputs": [
    {
     "data": {
      "text/html": [
       "<div>\n",
       "<style scoped>\n",
       "    .dataframe tbody tr th:only-of-type {\n",
       "        vertical-align: middle;\n",
       "    }\n",
       "\n",
       "    .dataframe tbody tr th {\n",
       "        vertical-align: top;\n",
       "    }\n",
       "\n",
       "    .dataframe thead th {\n",
       "        text-align: right;\n",
       "    }\n",
       "</style>\n",
       "<table border=\"1\" class=\"dataframe\">\n",
       "  <thead>\n",
       "    <tr style=\"text-align: right;\">\n",
       "      <th></th>\n",
       "      <th>token</th>\n",
       "      <th>count</th>\n",
       "    </tr>\n",
       "  </thead>\n",
       "  <tbody>\n",
       "    <tr>\n",
       "      <th>0</th>\n",
       "      <td>president donald trump</td>\n",
       "      <td>785</td>\n",
       "    </tr>\n",
       "    <tr>\n",
       "      <th>1</th>\n",
       "      <td>special counsel robert</td>\n",
       "      <td>396</td>\n",
       "    </tr>\n",
       "    <tr>\n",
       "      <th>2</th>\n",
       "      <td>majority leader mitch</td>\n",
       "      <td>179</td>\n",
       "    </tr>\n",
       "    <tr>\n",
       "      <th>3</th>\n",
       "      <td>attorney general jeff</td>\n",
       "      <td>139</td>\n",
       "    </tr>\n",
       "    <tr>\n",
       "      <th>4</th>\n",
       "      <td>sarah huckabee sanders</td>\n",
       "      <td>137</td>\n",
       "    </tr>\n",
       "  </tbody>\n",
       "</table>\n",
       "</div>"
      ],
      "text/plain": [
       "                    token  count\n",
       "0  president donald trump    785\n",
       "1  special counsel robert    396\n",
       "2   majority leader mitch    179\n",
       "3   attorney general jeff    139\n",
       "4  sarah huckabee sanders    137"
      ]
     },
     "execution_count": 44,
     "metadata": {},
     "output_type": "execute_result"
    }
   ],
   "source": [
    "pbs_ngrams.head()"
   ]
  },
  {
   "cell_type": "code",
   "execution_count": null,
   "metadata": {
    "collapsed": true
   },
   "outputs": [],
   "source": []
  }
 ],
 "metadata": {
  "kernelspec": {
   "display_name": "Python 3",
   "language": "python",
   "name": "python3"
  },
  "language_info": {
   "codemirror_mode": {
    "name": "ipython",
    "version": 3
   },
   "file_extension": ".py",
   "mimetype": "text/x-python",
   "name": "python",
   "nbconvert_exporter": "python",
   "pygments_lexer": "ipython3",
   "version": "3.5.4"
  }
 },
 "nbformat": 4,
 "nbformat_minor": 2
}
