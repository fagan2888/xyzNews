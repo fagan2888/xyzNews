{
 "cells": [
  {
   "cell_type": "markdown",
   "metadata": {},
   "source": [
    "# Tokenize and Train\n",
    "\n",
    "### Author \n",
    "Stephen Lee\n",
    "\n",
    "### Goal\n",
    "Classify news source based on the article text. Training data: \n",
    "- Fox News\n",
    "- Vox News\n",
    "- PBS News\n",
    "\n",
    "### Date \n",
    "4.8.19"
   ]
  },
  {
   "cell_type": "markdown",
   "metadata": {},
   "source": [
    "## Read Data"
   ]
  },
  {
   "cell_type": "code",
   "execution_count": 1,
   "metadata": {
    "collapsed": false
   },
   "outputs": [
    {
     "name": "stderr",
     "output_type": "stream",
     "text": [
      "Using TensorFlow backend.\n",
      "/home/smlee_981/anaconda3/lib/python3.5/site-packages/sklearn/utils/fixes.py:313: FutureWarning: numpy not_equal will not check object identity in the future. The comparison did not return the same result as suggested by the identity (`is`)) and will change.\n",
      "  _nan_object_mask = _nan_object_array != _nan_object_array\n"
     ]
    }
   ],
   "source": [
    "from keras.preprocessing.text import Tokenizer \n",
    "from keras.preprocessing.sequence import pad_sequences \n",
    "from keras.models import Sequential\n",
    "from keras.layers import GRU, Dense, Bidirectional, LSTM, Activation\n",
    "from keras.utils import to_categorical\n",
    "\n",
    "import os \n",
    "import math \n",
    "import pandas as pd \n",
    "\n",
    "from sklearn.model_selection import train_test_split\n",
    "from sklearn import metrics"
   ]
  },
  {
   "cell_type": "code",
   "execution_count": 2,
   "metadata": {
    "collapsed": true
   },
   "outputs": [],
   "source": [
    "FOLDER_READ = '/home/smlee_981/data'\n",
    "FILE = 'clean_article_df.csv'\n",
    "ARTICLE_LENGTH = 1000    # max length for an article"
   ]
  },
  {
   "cell_type": "code",
   "execution_count": 3,
   "metadata": {
    "collapsed": false
   },
   "outputs": [
    {
     "data": {
      "text/plain": [
       "'/home/smlee_981'"
      ]
     },
     "execution_count": 3,
     "metadata": {},
     "output_type": "execute_result"
    }
   ],
   "source": [
    "os.getcwd()"
   ]
  },
  {
   "cell_type": "code",
   "execution_count": 4,
   "metadata": {
    "collapsed": true
   },
   "outputs": [],
   "source": [
    "os.chdir(FOLDER_READ)"
   ]
  },
  {
   "cell_type": "code",
   "execution_count": 5,
   "metadata": {
    "collapsed": false
   },
   "outputs": [
    {
     "data": {
      "text/plain": [
       "['clean_article_df.csv', 'glove.840B.300d.txt']"
      ]
     },
     "execution_count": 5,
     "metadata": {},
     "output_type": "execute_result"
    }
   ],
   "source": [
    "os.listdir()"
   ]
  },
  {
   "cell_type": "code",
   "execution_count": 14,
   "metadata": {
    "collapsed": false
   },
   "outputs": [
    {
     "data": {
      "text/html": [
       "<div>\n",
       "<style scoped>\n",
       "    .dataframe tbody tr th:only-of-type {\n",
       "        vertical-align: middle;\n",
       "    }\n",
       "\n",
       "    .dataframe tbody tr th {\n",
       "        vertical-align: top;\n",
       "    }\n",
       "\n",
       "    .dataframe thead th {\n",
       "        text-align: right;\n",
       "    }\n",
       "</style>\n",
       "<table border=\"1\" class=\"dataframe\">\n",
       "  <thead>\n",
       "    <tr style=\"text-align: right;\">\n",
       "      <th></th>\n",
       "      <th>article id</th>\n",
       "      <th>source</th>\n",
       "      <th>article</th>\n",
       "      <th>clean_articles</th>\n",
       "      <th>targets</th>\n",
       "    </tr>\n",
       "  </thead>\n",
       "  <tbody>\n",
       "    <tr>\n",
       "      <th>0</th>\n",
       "      <td>fox_politics_166</td>\n",
       "      <td>Fox</td>\n",
       "      <td>Bolton warns Venezuela's Maduro to stay away f...</td>\n",
       "      <td>Bolton warns Venezuela's Maduro to stay away f...</td>\n",
       "      <td>3</td>\n",
       "    </tr>\n",
       "    <tr>\n",
       "      <th>1</th>\n",
       "      <td>fox_politics_390</td>\n",
       "      <td>Fox</td>\n",
       "      <td>Ocasio-Cortez rallies to stop all fossil fuel ...</td>\n",
       "      <td>Ocasio-Cortez rallies to stop all fossil fuel ...</td>\n",
       "      <td>3</td>\n",
       "    </tr>\n",
       "    <tr>\n",
       "      <th>2</th>\n",
       "      <td>fox_politics_423</td>\n",
       "      <td>Fox</td>\n",
       "      <td>The Pentagon announced Sunday the deployment o...</td>\n",
       "      <td>The Pentagon announced Sunday the deployment o...</td>\n",
       "      <td>3</td>\n",
       "    </tr>\n",
       "    <tr>\n",
       "      <th>3</th>\n",
       "      <td>fox_politics_102</td>\n",
       "      <td>Fox</td>\n",
       "      <td>Mayor Bill de Blasio says that US Rep. Alexand...</td>\n",
       "      <td>Mayor Bill de Blasio says that US Rep. Alexand...</td>\n",
       "      <td>3</td>\n",
       "    </tr>\n",
       "    <tr>\n",
       "      <th>4</th>\n",
       "      <td>fox_politics_492</td>\n",
       "      <td>Fox</td>\n",
       "      <td>Who is EPA's Andrew Wheeler?\\nEPA administrato...</td>\n",
       "      <td>Who is EPA's Andrew Wheeler?\\nEPA administrato...</td>\n",
       "      <td>3</td>\n",
       "    </tr>\n",
       "  </tbody>\n",
       "</table>\n",
       "</div>"
      ],
      "text/plain": [
       "         article id source                                            article  \\\n",
       "0  fox_politics_166    Fox  Bolton warns Venezuela's Maduro to stay away f...   \n",
       "1  fox_politics_390    Fox  Ocasio-Cortez rallies to stop all fossil fuel ...   \n",
       "2  fox_politics_423    Fox  The Pentagon announced Sunday the deployment o...   \n",
       "3  fox_politics_102    Fox  Mayor Bill de Blasio says that US Rep. Alexand...   \n",
       "4  fox_politics_492    Fox  Who is EPA's Andrew Wheeler?\\nEPA administrato...   \n",
       "\n",
       "                                      clean_articles  targets  \n",
       "0  Bolton warns Venezuela's Maduro to stay away f...        3  \n",
       "1  Ocasio-Cortez rallies to stop all fossil fuel ...        3  \n",
       "2  The Pentagon announced Sunday the deployment o...        3  \n",
       "3  Mayor Bill de Blasio says that US Rep. Alexand...        3  \n",
       "4  Who is EPA's Andrew Wheeler?\\nEPA administrato...        3  "
      ]
     },
     "execution_count": 14,
     "metadata": {},
     "output_type": "execute_result"
    }
   ],
   "source": [
    "df_all = pd.read_csv(FILE, sep='|').drop('Unnamed: 0', axis=1)\n",
    "df_all.head()"
   ]
  },
  {
   "cell_type": "markdown",
   "metadata": {},
   "source": [
    "## Relabel targets from 0 - 2 for one-hot vectors"
   ]
  },
  {
   "cell_type": "code",
   "execution_count": 19,
   "metadata": {
    "collapsed": false
   },
   "outputs": [
    {
     "data": {
      "text/html": [
       "<div>\n",
       "<style scoped>\n",
       "    .dataframe tbody tr th:only-of-type {\n",
       "        vertical-align: middle;\n",
       "    }\n",
       "\n",
       "    .dataframe tbody tr th {\n",
       "        vertical-align: top;\n",
       "    }\n",
       "\n",
       "    .dataframe thead th {\n",
       "        text-align: right;\n",
       "    }\n",
       "</style>\n",
       "<table border=\"1\" class=\"dataframe\">\n",
       "  <thead>\n",
       "    <tr style=\"text-align: right;\">\n",
       "      <th></th>\n",
       "      <th>targets</th>\n",
       "    </tr>\n",
       "    <tr>\n",
       "      <th>source</th>\n",
       "      <th></th>\n",
       "    </tr>\n",
       "  </thead>\n",
       "  <tbody>\n",
       "    <tr>\n",
       "      <th>Fox</th>\n",
       "      <td>0</td>\n",
       "    </tr>\n",
       "    <tr>\n",
       "      <th>PBS</th>\n",
       "      <td>1</td>\n",
       "    </tr>\n",
       "    <tr>\n",
       "      <th>Vox</th>\n",
       "      <td>2</td>\n",
       "    </tr>\n",
       "  </tbody>\n",
       "</table>\n",
       "</div>"
      ],
      "text/plain": [
       "        targets\n",
       "source         \n",
       "Fox           0\n",
       "PBS           1\n",
       "Vox           2"
      ]
     },
     "execution_count": 19,
     "metadata": {},
     "output_type": "execute_result"
    }
   ],
   "source": [
    "df_all['targets'] = df_all['targets'].replace(3,0)\n",
    "df_all.groupby('source').mean()"
   ]
  },
  {
   "cell_type": "markdown",
   "metadata": {},
   "source": [
    "## Bootstrap data for balance"
   ]
  },
  {
   "cell_type": "code",
   "execution_count": 31,
   "metadata": {
    "collapsed": false
   },
   "outputs": [
    {
     "data": {
      "text/html": [
       "<div>\n",
       "<style scoped>\n",
       "    .dataframe tbody tr th:only-of-type {\n",
       "        vertical-align: middle;\n",
       "    }\n",
       "\n",
       "    .dataframe tbody tr th {\n",
       "        vertical-align: top;\n",
       "    }\n",
       "\n",
       "    .dataframe thead th {\n",
       "        text-align: right;\n",
       "    }\n",
       "</style>\n",
       "<table border=\"1\" class=\"dataframe\">\n",
       "  <thead>\n",
       "    <tr style=\"text-align: right;\">\n",
       "      <th></th>\n",
       "      <th>article id</th>\n",
       "      <th>article</th>\n",
       "      <th>clean_articles</th>\n",
       "      <th>targets</th>\n",
       "    </tr>\n",
       "    <tr>\n",
       "      <th>source</th>\n",
       "      <th></th>\n",
       "      <th></th>\n",
       "      <th></th>\n",
       "      <th></th>\n",
       "    </tr>\n",
       "  </thead>\n",
       "  <tbody>\n",
       "    <tr>\n",
       "      <th>Fox</th>\n",
       "      <td>476</td>\n",
       "      <td>476</td>\n",
       "      <td>476</td>\n",
       "      <td>476</td>\n",
       "    </tr>\n",
       "    <tr>\n",
       "      <th>PBS</th>\n",
       "      <td>1739</td>\n",
       "      <td>1739</td>\n",
       "      <td>1739</td>\n",
       "      <td>1739</td>\n",
       "    </tr>\n",
       "    <tr>\n",
       "      <th>Vox</th>\n",
       "      <td>1027</td>\n",
       "      <td>1027</td>\n",
       "      <td>1027</td>\n",
       "      <td>1027</td>\n",
       "    </tr>\n",
       "  </tbody>\n",
       "</table>\n",
       "</div>"
      ],
      "text/plain": [
       "        article id  article  clean_articles  targets\n",
       "source                                              \n",
       "Fox            476      476             476      476\n",
       "PBS           1739     1739            1739     1739\n",
       "Vox           1027     1027            1027     1027"
      ]
     },
     "execution_count": 31,
     "metadata": {},
     "output_type": "execute_result"
    }
   ],
   "source": [
    "df_all.groupby('source').count()"
   ]
  },
  {
   "cell_type": "markdown",
   "metadata": {},
   "source": [
    "## Add more Fox and Vox"
   ]
  },
  {
   "cell_type": "code",
   "execution_count": 32,
   "metadata": {
    "collapsed": true
   },
   "outputs": [],
   "source": [
    "fox = df_all[df_all['source'] == 'Fox']\n",
    "vox = df_all[df_all['source'] == 'Vox'][:700]"
   ]
  },
  {
   "cell_type": "code",
   "execution_count": 33,
   "metadata": {
    "collapsed": false
   },
   "outputs": [
    {
     "data": {
      "text/html": [
       "<div>\n",
       "<style scoped>\n",
       "    .dataframe tbody tr th:only-of-type {\n",
       "        vertical-align: middle;\n",
       "    }\n",
       "\n",
       "    .dataframe tbody tr th {\n",
       "        vertical-align: top;\n",
       "    }\n",
       "\n",
       "    .dataframe thead th {\n",
       "        text-align: right;\n",
       "    }\n",
       "</style>\n",
       "<table border=\"1\" class=\"dataframe\">\n",
       "  <thead>\n",
       "    <tr style=\"text-align: right;\">\n",
       "      <th></th>\n",
       "      <th>article id</th>\n",
       "      <th>article</th>\n",
       "      <th>clean_articles</th>\n",
       "      <th>targets</th>\n",
       "    </tr>\n",
       "    <tr>\n",
       "      <th>source</th>\n",
       "      <th></th>\n",
       "      <th></th>\n",
       "      <th></th>\n",
       "      <th></th>\n",
       "    </tr>\n",
       "  </thead>\n",
       "  <tbody>\n",
       "    <tr>\n",
       "      <th>Fox</th>\n",
       "      <td>1904</td>\n",
       "      <td>1904</td>\n",
       "      <td>1904</td>\n",
       "      <td>1904</td>\n",
       "    </tr>\n",
       "    <tr>\n",
       "      <th>PBS</th>\n",
       "      <td>1739</td>\n",
       "      <td>1739</td>\n",
       "      <td>1739</td>\n",
       "      <td>1739</td>\n",
       "    </tr>\n",
       "    <tr>\n",
       "      <th>Vox</th>\n",
       "      <td>1727</td>\n",
       "      <td>1727</td>\n",
       "      <td>1727</td>\n",
       "      <td>1727</td>\n",
       "    </tr>\n",
       "  </tbody>\n",
       "</table>\n",
       "</div>"
      ],
      "text/plain": [
       "        article id  article  clean_articles  targets\n",
       "source                                              \n",
       "Fox           1904     1904            1904     1904\n",
       "PBS           1739     1739            1739     1739\n",
       "Vox           1727     1727            1727     1727"
      ]
     },
     "execution_count": 33,
     "metadata": {},
     "output_type": "execute_result"
    }
   ],
   "source": [
    "df_all = df_all.append([fox]*3, ignore_index=True)\n",
    "df_all = df_all.append(vox, ignore_index=True)\n",
    "df_all.groupby('source').count()"
   ]
  },
  {
   "cell_type": "markdown",
   "metadata": {},
   "source": [
    "## Split into test and training"
   ]
  },
  {
   "cell_type": "code",
   "execution_count": 34,
   "metadata": {
    "collapsed": false
   },
   "outputs": [
    {
     "data": {
      "text/html": [
       "<div>\n",
       "<style scoped>\n",
       "    .dataframe tbody tr th:only-of-type {\n",
       "        vertical-align: middle;\n",
       "    }\n",
       "\n",
       "    .dataframe tbody tr th {\n",
       "        vertical-align: top;\n",
       "    }\n",
       "\n",
       "    .dataframe thead th {\n",
       "        text-align: right;\n",
       "    }\n",
       "</style>\n",
       "<table border=\"1\" class=\"dataframe\">\n",
       "  <thead>\n",
       "    <tr style=\"text-align: right;\">\n",
       "      <th></th>\n",
       "      <th>article id</th>\n",
       "      <th>source</th>\n",
       "      <th>article</th>\n",
       "      <th>clean_articles</th>\n",
       "      <th>targets</th>\n",
       "    </tr>\n",
       "  </thead>\n",
       "  <tbody>\n",
       "    <tr>\n",
       "      <th>4876</th>\n",
       "      <td>vox_politics_1487</td>\n",
       "      <td>Vox</td>\n",
       "      <td>Mitt Romney is making the case that he’s more ...</td>\n",
       "      <td>Mitt Romney is making the case that he’s more ...</td>\n",
       "      <td>2</td>\n",
       "    </tr>\n",
       "    <tr>\n",
       "      <th>1856</th>\n",
       "      <td>pbs_politics_970</td>\n",
       "      <td>PBS</td>\n",
       "      <td>— President Donald Trump said Thursday that p...</td>\n",
       "      <td>President Donald Trump said Thursday that pe...</td>\n",
       "      <td>1</td>\n",
       "    </tr>\n",
       "    <tr>\n",
       "      <th>1219</th>\n",
       "      <td>vox_politics_1045</td>\n",
       "      <td>Vox</td>\n",
       "      <td>There are some posts so strange you don’t quit...</td>\n",
       "      <td>There are some posts so strange you don’t quit...</td>\n",
       "      <td>2</td>\n",
       "    </tr>\n",
       "    <tr>\n",
       "      <th>484</th>\n",
       "      <td>vox_politics_71</td>\n",
       "      <td>Vox</td>\n",
       "      <td>Republicans and Democrats in Congress have fin...</td>\n",
       "      <td>Republicans and Democrats in Congress have fin...</td>\n",
       "      <td>2</td>\n",
       "    </tr>\n",
       "    <tr>\n",
       "      <th>5103</th>\n",
       "      <td>vox_politics_701</td>\n",
       "      <td>Vox</td>\n",
       "      <td>Just hours after Senate Republican leaders rel...</td>\n",
       "      <td>Just hours after Senate Republican leaders rel...</td>\n",
       "      <td>2</td>\n",
       "    </tr>\n",
       "  </tbody>\n",
       "</table>\n",
       "</div>"
      ],
      "text/plain": [
       "             article id source  \\\n",
       "4876  vox_politics_1487    Vox   \n",
       "1856   pbs_politics_970    PBS   \n",
       "1219  vox_politics_1045    Vox   \n",
       "484     vox_politics_71    Vox   \n",
       "5103   vox_politics_701    Vox   \n",
       "\n",
       "                                                article  \\\n",
       "4876  Mitt Romney is making the case that he’s more ...   \n",
       "1856   — President Donald Trump said Thursday that p...   \n",
       "1219  There are some posts so strange you don’t quit...   \n",
       "484   Republicans and Democrats in Congress have fin...   \n",
       "5103  Just hours after Senate Republican leaders rel...   \n",
       "\n",
       "                                         clean_articles  targets  \n",
       "4876  Mitt Romney is making the case that he’s more ...        2  \n",
       "1856    President Donald Trump said Thursday that pe...        1  \n",
       "1219  There are some posts so strange you don’t quit...        2  \n",
       "484   Republicans and Democrats in Congress have fin...        2  \n",
       "5103  Just hours after Senate Republican leaders rel...        2  "
      ]
     },
     "execution_count": 34,
     "metadata": {},
     "output_type": "execute_result"
    }
   ],
   "source": [
    "train_df, test_df = train_test_split(df_all, test_size=0.1)\n",
    "train_df.head()"
   ]
  },
  {
   "cell_type": "code",
   "execution_count": 35,
   "metadata": {
    "collapsed": false
   },
   "outputs": [
    {
     "data": {
      "text/html": [
       "<div>\n",
       "<style scoped>\n",
       "    .dataframe tbody tr th:only-of-type {\n",
       "        vertical-align: middle;\n",
       "    }\n",
       "\n",
       "    .dataframe tbody tr th {\n",
       "        vertical-align: top;\n",
       "    }\n",
       "\n",
       "    .dataframe thead th {\n",
       "        text-align: right;\n",
       "    }\n",
       "</style>\n",
       "<table border=\"1\" class=\"dataframe\">\n",
       "  <thead>\n",
       "    <tr style=\"text-align: right;\">\n",
       "      <th></th>\n",
       "      <th>article id</th>\n",
       "      <th>source</th>\n",
       "      <th>article</th>\n",
       "      <th>clean_articles</th>\n",
       "      <th>targets</th>\n",
       "    </tr>\n",
       "  </thead>\n",
       "  <tbody>\n",
       "    <tr>\n",
       "      <th>755</th>\n",
       "      <td>vox_politics_693</td>\n",
       "      <td>Vox</td>\n",
       "      <td>The biggest policy fight left in 2017 is stuck...</td>\n",
       "      <td>The biggest policy fight left in 2017 is stuck...</td>\n",
       "      <td>2</td>\n",
       "    </tr>\n",
       "    <tr>\n",
       "      <th>4557</th>\n",
       "      <td>fox_politics_625</td>\n",
       "      <td>Fox</td>\n",
       "      <td>DOJ asks Supreme Court to take up transgender ...</td>\n",
       "      <td>DOJ asks Supreme Court to take up transgender ...</td>\n",
       "      <td>0</td>\n",
       "    </tr>\n",
       "    <tr>\n",
       "      <th>1153</th>\n",
       "      <td>vox_politics_1399</td>\n",
       "      <td>Vox</td>\n",
       "      <td>Senate Republicans are in such a rush to pass ...</td>\n",
       "      <td>Senate Republicans are in such a rush to pass ...</td>\n",
       "      <td>2</td>\n",
       "    </tr>\n",
       "    <tr>\n",
       "      <th>2480</th>\n",
       "      <td>pbs_politics_1623</td>\n",
       "      <td>PBS</td>\n",
       "      <td>The desperate sobbing of 10 Central American c...</td>\n",
       "      <td>The desperate sobbing of 10 Central American c...</td>\n",
       "      <td>1</td>\n",
       "    </tr>\n",
       "    <tr>\n",
       "      <th>4989</th>\n",
       "      <td>vox_politics_1212</td>\n",
       "      <td>Vox</td>\n",
       "      <td>On Friday, the Department of Justice sent lett...</td>\n",
       "      <td>On Friday, the Department of Justice sent lett...</td>\n",
       "      <td>2</td>\n",
       "    </tr>\n",
       "  </tbody>\n",
       "</table>\n",
       "</div>"
      ],
      "text/plain": [
       "             article id source  \\\n",
       "755    vox_politics_693    Vox   \n",
       "4557   fox_politics_625    Fox   \n",
       "1153  vox_politics_1399    Vox   \n",
       "2480  pbs_politics_1623    PBS   \n",
       "4989  vox_politics_1212    Vox   \n",
       "\n",
       "                                                article  \\\n",
       "755   The biggest policy fight left in 2017 is stuck...   \n",
       "4557  DOJ asks Supreme Court to take up transgender ...   \n",
       "1153  Senate Republicans are in such a rush to pass ...   \n",
       "2480  The desperate sobbing of 10 Central American c...   \n",
       "4989  On Friday, the Department of Justice sent lett...   \n",
       "\n",
       "                                         clean_articles  targets  \n",
       "755   The biggest policy fight left in 2017 is stuck...        2  \n",
       "4557  DOJ asks Supreme Court to take up transgender ...        0  \n",
       "1153  Senate Republicans are in such a rush to pass ...        2  \n",
       "2480  The desperate sobbing of 10 Central American c...        1  \n",
       "4989  On Friday, the Department of Justice sent lett...        2  "
      ]
     },
     "execution_count": 35,
     "metadata": {},
     "output_type": "execute_result"
    }
   ],
   "source": [
    "test_df.head()"
   ]
  },
  {
   "cell_type": "markdown",
   "metadata": {},
   "source": [
    "### Check for similarity between test and training"
   ]
  },
  {
   "cell_type": "code",
   "execution_count": 36,
   "metadata": {
    "collapsed": false
   },
   "outputs": [
    {
     "data": {
      "text/html": [
       "<div>\n",
       "<style scoped>\n",
       "    .dataframe tbody tr th:only-of-type {\n",
       "        vertical-align: middle;\n",
       "    }\n",
       "\n",
       "    .dataframe tbody tr th {\n",
       "        vertical-align: top;\n",
       "    }\n",
       "\n",
       "    .dataframe thead th {\n",
       "        text-align: right;\n",
       "    }\n",
       "</style>\n",
       "<table border=\"1\" class=\"dataframe\">\n",
       "  <thead>\n",
       "    <tr style=\"text-align: right;\">\n",
       "      <th></th>\n",
       "      <th>article id</th>\n",
       "      <th>article</th>\n",
       "      <th>clean_articles</th>\n",
       "      <th>targets</th>\n",
       "    </tr>\n",
       "    <tr>\n",
       "      <th>source</th>\n",
       "      <th></th>\n",
       "      <th></th>\n",
       "      <th></th>\n",
       "      <th></th>\n",
       "    </tr>\n",
       "  </thead>\n",
       "  <tbody>\n",
       "    <tr>\n",
       "      <th>Fox</th>\n",
       "      <td>198</td>\n",
       "      <td>198</td>\n",
       "      <td>198</td>\n",
       "      <td>198</td>\n",
       "    </tr>\n",
       "    <tr>\n",
       "      <th>PBS</th>\n",
       "      <td>161</td>\n",
       "      <td>161</td>\n",
       "      <td>161</td>\n",
       "      <td>161</td>\n",
       "    </tr>\n",
       "    <tr>\n",
       "      <th>Vox</th>\n",
       "      <td>178</td>\n",
       "      <td>178</td>\n",
       "      <td>178</td>\n",
       "      <td>178</td>\n",
       "    </tr>\n",
       "  </tbody>\n",
       "</table>\n",
       "</div>"
      ],
      "text/plain": [
       "        article id  article  clean_articles  targets\n",
       "source                                              \n",
       "Fox            198      198             198      198\n",
       "PBS            161      161             161      161\n",
       "Vox            178      178             178      178"
      ]
     },
     "execution_count": 36,
     "metadata": {},
     "output_type": "execute_result"
    }
   ],
   "source": [
    "test_df.groupby('source').count()"
   ]
  },
  {
   "cell_type": "code",
   "execution_count": 37,
   "metadata": {
    "collapsed": false
   },
   "outputs": [
    {
     "data": {
      "text/html": [
       "<div>\n",
       "<style scoped>\n",
       "    .dataframe tbody tr th:only-of-type {\n",
       "        vertical-align: middle;\n",
       "    }\n",
       "\n",
       "    .dataframe tbody tr th {\n",
       "        vertical-align: top;\n",
       "    }\n",
       "\n",
       "    .dataframe thead th {\n",
       "        text-align: right;\n",
       "    }\n",
       "</style>\n",
       "<table border=\"1\" class=\"dataframe\">\n",
       "  <thead>\n",
       "    <tr style=\"text-align: right;\">\n",
       "      <th></th>\n",
       "      <th>article id</th>\n",
       "      <th>article</th>\n",
       "      <th>clean_articles</th>\n",
       "      <th>targets</th>\n",
       "    </tr>\n",
       "    <tr>\n",
       "      <th>source</th>\n",
       "      <th></th>\n",
       "      <th></th>\n",
       "      <th></th>\n",
       "      <th></th>\n",
       "    </tr>\n",
       "  </thead>\n",
       "  <tbody>\n",
       "    <tr>\n",
       "      <th>Fox</th>\n",
       "      <td>1706</td>\n",
       "      <td>1706</td>\n",
       "      <td>1706</td>\n",
       "      <td>1706</td>\n",
       "    </tr>\n",
       "    <tr>\n",
       "      <th>PBS</th>\n",
       "      <td>1578</td>\n",
       "      <td>1578</td>\n",
       "      <td>1578</td>\n",
       "      <td>1578</td>\n",
       "    </tr>\n",
       "    <tr>\n",
       "      <th>Vox</th>\n",
       "      <td>1549</td>\n",
       "      <td>1549</td>\n",
       "      <td>1549</td>\n",
       "      <td>1549</td>\n",
       "    </tr>\n",
       "  </tbody>\n",
       "</table>\n",
       "</div>"
      ],
      "text/plain": [
       "        article id  article  clean_articles  targets\n",
       "source                                              \n",
       "Fox           1706     1706            1706     1706\n",
       "PBS           1578     1578            1578     1578\n",
       "Vox           1549     1549            1549     1549"
      ]
     },
     "execution_count": 37,
     "metadata": {},
     "output_type": "execute_result"
    }
   ],
   "source": [
    "train_df.groupby('source').count()"
   ]
  },
  {
   "cell_type": "markdown",
   "metadata": {},
   "source": [
    "## Get Embeddings, Build Functions"
   ]
  },
  {
   "cell_type": "code",
   "execution_count": 38,
   "metadata": {
    "collapsed": false
   },
   "outputs": [],
   "source": [
    "from tqdm import tqdm\n",
    "import numpy as np"
   ]
  },
  {
   "cell_type": "code",
   "execution_count": 39,
   "metadata": {
    "collapsed": false
   },
   "outputs": [
    {
     "name": "stderr",
     "output_type": "stream",
     "text": [
      "2196017it [03:46, 9676.34it/s]"
     ]
    },
    {
     "name": "stdout",
     "output_type": "stream",
     "text": [
      "Found 2196016 word vectors\n"
     ]
    },
    {
     "name": "stderr",
     "output_type": "stream",
     "text": [
      "\n"
     ]
    }
   ],
   "source": [
    "# glove embeddings and data are in same folder\n",
    "\n",
    "EMBEDS = 'glove.840B.300d.txt'\n",
    "\n",
    "embeddings_index = {}\n",
    " \n",
    "with open(EMBEDS, encoding='utf8') as embed:\n",
    "    for line in tqdm(embed):\n",
    "        values = line.split(' ')\n",
    "        word = values[0]\n",
    "        coefs = np.asarray(values[1:], dtype='float32')\n",
    "        embeddings_index[word] = coefs\n",
    "        \n",
    "print(\"Found {n} word vectors\".format(n=len(embeddings_index)))"
   ]
  },
  {
   "cell_type": "code",
   "execution_count": 44,
   "metadata": {
    "collapsed": true
   },
   "outputs": [],
   "source": [
    "def target_to_one_hot(target, num_classes=3):\n",
    "    return to_categorical(target, num_classes=num_classes)"
   ]
  },
  {
   "cell_type": "code",
   "execution_count": 41,
   "metadata": {
    "collapsed": true
   },
   "outputs": [],
   "source": [
    "def text_to_array(text, article_length=500):\n",
    "    empty_emb = np.zeros(300)                   # each word is represented by a length 300 vector\n",
    "    text = text[:-1].split()[:article_length]   # each article is length 10000\n",
    "    \n",
    "    # look for word embedding, return zero array otherwise. \n",
    "    embeds = [embeddings_index.get(x, empty_emb) for x in text]\n",
    "    embeds += [empty_emb] * (article_length - len(embeds))\n",
    "    return np.array(embeds)"
   ]
  },
  {
   "cell_type": "code",
   "execution_count": 42,
   "metadata": {
    "collapsed": true
   },
   "outputs": [],
   "source": [
    "def batch_gen(train_df, batch_size=64, article_length=500, num_classes=3):\n",
    "    n = math.ceil(len(train_df) / batch_size)\n",
    "    while True: \n",
    "        train_df = train_df.sample(frac=1.0)\n",
    "        \n",
    "        for i in range(n):\n",
    "            texts = train_df['article'][i*batch_size: (i+1)*batch_size]\n",
    "            targets = train_df['targets'][i*batch_size: (i+1)*batch_size]\n",
    "            \n",
    "            targets = np.array([target_to_one_hot(t, num_classes) for t in targets])\n",
    "            text_arr = np.array([text_to_array(text, article_length=article_length) for text in texts])\n",
    "            yield text_arr, targets"
   ]
  },
  {
   "cell_type": "markdown",
   "metadata": {},
   "source": [
    "## Setup Model"
   ]
  },
  {
   "cell_type": "code",
   "execution_count": 47,
   "metadata": {
    "collapsed": true
   },
   "outputs": [],
   "source": [
    "ARTICLE_LENGTH = 500\n",
    "BATCH_SIZE = 128\n",
    "DROPOUT = 0.1\n",
    "REC_DROPOUT = 0.1"
   ]
  },
  {
   "cell_type": "code",
   "execution_count": 48,
   "metadata": {
    "collapsed": false,
    "scrolled": true
   },
   "outputs": [
    {
     "name": "stderr",
     "output_type": "stream",
     "text": [
      "\n",
      "  0%|          | 0/537 [00:00<?, ?it/s]\u001b[A\n",
      " 13%|█▎        | 70/537 [00:00<00:00, 692.13it/s]\u001b[A\n",
      " 26%|██▌       | 139/537 [00:00<00:00, 689.05it/s]\u001b[A\n",
      " 39%|███▊      | 208/537 [00:00<00:00, 687.04it/s]\u001b[A\n",
      " 52%|█████▏    | 280/537 [00:00<00:00, 692.76it/s]\u001b[A\n",
      " 65%|██████▌   | 350/537 [00:00<00:00, 694.85it/s]\u001b[A\n",
      " 77%|███████▋  | 416/537 [00:00<00:00, 677.97it/s]\u001b[A\n",
      " 89%|████████▉ | 479/537 [00:00<00:00, 660.17it/s]\u001b[A\n",
      "100%|██████████| 537/537 [00:00<00:00, 674.92it/s]\u001b[A\n",
      "  0%|          | 0/537 [00:00<?, ?it/s]\u001b[A\n",
      "100%|██████████| 537/537 [00:00<00:00, 68518.53it/s]\u001b[A"
     ]
    }
   ],
   "source": [
    "# witheld for validation\n",
    " \n",
    "x_test = np.array([text_to_array(x, article_length=ARTICLE_LENGTH) \\\n",
    "                          for x in tqdm(test_df[\"clean_articles\"])])\n",
    "y_test = np.array([target_to_one_hot(t) for t in tqdm(test_df[\"targets\"])])"
   ]
  },
  {
   "cell_type": "code",
   "execution_count": 55,
   "metadata": {
    "collapsed": false
   },
   "outputs": [
    {
     "name": "stdout",
     "output_type": "stream",
     "text": [
      "_________________________________________________________________\n",
      "Layer (type)                 Output Shape              Param #   \n",
      "=================================================================\n",
      "bidirectional_9 (Bidirection (None, 500, 128)          186880    \n",
      "_________________________________________________________________\n",
      "activation_3 (Activation)    (None, 500, 128)          0         \n",
      "_________________________________________________________________\n",
      "bidirectional_10 (Bidirectio (None, 128)               98816     \n",
      "_________________________________________________________________\n",
      "dense_4 (Dense)              (None, 3)                 387       \n",
      "=================================================================\n",
      "Total params: 286,083\n",
      "Trainable params: 286,083\n",
      "Non-trainable params: 0\n",
      "_________________________________________________________________\n"
     ]
    }
   ],
   "source": [
    "# note...\n",
    "#      batch_size         -> words per batch\n",
    "#      article_length     -> words per article\n",
    "#      embed_length       -> vector length per word\n",
    "\n",
    "input_shape = (ARTICLE_LENGTH, 300)\n",
    "lstm_in = int(BATCH_SIZE/2)\n",
    "\n",
    "model = Sequential()\n",
    "model.add(Bidirectional(LSTM(lstm_in, return_sequences=True, \\\n",
    "                        dropout=DROPOUT, recurrent_dropout=REC_DROPOUT), \\\n",
    "                        input_shape=input_shape))\n",
    "model.add(Activation('relu'))\n",
    "model.add(Bidirectional(LSTM(lstm_in)))\n",
    "model.add(Dense(3, activation='softmax'))\n",
    "model.compile(optimizer='rmsprop',\n",
    "              loss='categorical_crossentropy',\n",
    "              metrics=['accuracy'])\n",
    "model.summary()"
   ]
  },
  {
   "cell_type": "code",
   "execution_count": 56,
   "metadata": {
    "collapsed": false
   },
   "outputs": [
    {
     "name": "stdout",
     "output_type": "stream",
     "text": [
      "Epoch 1/2\n",
      "500/500 [==============================] - 1506s 3s/step - loss: 0.1899 - acc: 0.9264\n",
      "Epoch 2/2\n",
      "500/500 [==============================] - 1494s 3s/step - loss: 0.0181 - acc: 0.9945\n"
     ]
    },
    {
     "data": {
      "text/plain": [
       "<keras.callbacks.History at 0x7f8b459b9630>"
      ]
     },
     "execution_count": 56,
     "metadata": {},
     "output_type": "execute_result"
    }
   ],
   "source": [
    "data = batch_gen(train_df, batch_size=BATCH_SIZE, article_length=ARTICLE_LENGTH)\n",
    "model.fit_generator(data, epochs=2, steps_per_epoch=500, verbose=True)"
   ]
  },
  {
   "cell_type": "code",
   "execution_count": 58,
   "metadata": {
    "collapsed": false
   },
   "outputs": [],
   "source": [
    "y_pred = model.predict(x_test, batch_size=BATCH_SIZE)\n",
    "y_pred_class = np.argmax(y_pred, axis=1)\n",
    "y_pred_one_hot = to_categorical(y_pred_class, num_classes=3)"
   ]
  },
  {
   "cell_type": "code",
   "execution_count": 65,
   "metadata": {
    "collapsed": false
   },
   "outputs": [
    {
     "data": {
      "text/plain": [
       "array([[  1.77483298e-06,   1.17231739e-05,   9.99986529e-01],\n",
       "       [  9.99990702e-01,   9.16947010e-06,   8.62704042e-08],\n",
       "       [  7.02655758e-04,   1.10057428e-01,   8.89239907e-01],\n",
       "       [  2.69893244e-05,   1.90524617e-03,   9.98067796e-01],\n",
       "       [  2.75058817e-04,   9.16835248e-01,   8.28896910e-02]], dtype=float32)"
      ]
     },
     "execution_count": 65,
     "metadata": {},
     "output_type": "execute_result"
    }
   ],
   "source": [
    "y_pred[0:5]"
   ]
  },
  {
   "cell_type": "code",
   "execution_count": 60,
   "metadata": {
    "collapsed": false
   },
   "outputs": [
    {
     "data": {
      "text/html": [
       "<div>\n",
       "<style scoped>\n",
       "    .dataframe tbody tr th:only-of-type {\n",
       "        vertical-align: middle;\n",
       "    }\n",
       "\n",
       "    .dataframe tbody tr th {\n",
       "        vertical-align: top;\n",
       "    }\n",
       "\n",
       "    .dataframe thead th {\n",
       "        text-align: right;\n",
       "    }\n",
       "</style>\n",
       "<table border=\"1\" class=\"dataframe\">\n",
       "  <thead>\n",
       "    <tr style=\"text-align: right;\">\n",
       "      <th></th>\n",
       "      <th>article id</th>\n",
       "      <th>source</th>\n",
       "      <th>article</th>\n",
       "      <th>clean_articles</th>\n",
       "      <th>targets</th>\n",
       "    </tr>\n",
       "  </thead>\n",
       "  <tbody>\n",
       "    <tr>\n",
       "      <th>755</th>\n",
       "      <td>vox_politics_693</td>\n",
       "      <td>Vox</td>\n",
       "      <td>The biggest policy fight left in 2017 is stuck...</td>\n",
       "      <td>The biggest policy fight left in 2017 is stuck...</td>\n",
       "      <td>2</td>\n",
       "    </tr>\n",
       "    <tr>\n",
       "      <th>4557</th>\n",
       "      <td>fox_politics_625</td>\n",
       "      <td>Fox</td>\n",
       "      <td>DOJ asks Supreme Court to take up transgender ...</td>\n",
       "      <td>DOJ asks Supreme Court to take up transgender ...</td>\n",
       "      <td>0</td>\n",
       "    </tr>\n",
       "    <tr>\n",
       "      <th>1153</th>\n",
       "      <td>vox_politics_1399</td>\n",
       "      <td>Vox</td>\n",
       "      <td>Senate Republicans are in such a rush to pass ...</td>\n",
       "      <td>Senate Republicans are in such a rush to pass ...</td>\n",
       "      <td>2</td>\n",
       "    </tr>\n",
       "    <tr>\n",
       "      <th>2480</th>\n",
       "      <td>pbs_politics_1623</td>\n",
       "      <td>PBS</td>\n",
       "      <td>The desperate sobbing of 10 Central American c...</td>\n",
       "      <td>The desperate sobbing of 10 Central American c...</td>\n",
       "      <td>1</td>\n",
       "    </tr>\n",
       "    <tr>\n",
       "      <th>4989</th>\n",
       "      <td>vox_politics_1212</td>\n",
       "      <td>Vox</td>\n",
       "      <td>On Friday, the Department of Justice sent lett...</td>\n",
       "      <td>On Friday, the Department of Justice sent lett...</td>\n",
       "      <td>2</td>\n",
       "    </tr>\n",
       "  </tbody>\n",
       "</table>\n",
       "</div>"
      ],
      "text/plain": [
       "             article id source  \\\n",
       "755    vox_politics_693    Vox   \n",
       "4557   fox_politics_625    Fox   \n",
       "1153  vox_politics_1399    Vox   \n",
       "2480  pbs_politics_1623    PBS   \n",
       "4989  vox_politics_1212    Vox   \n",
       "\n",
       "                                                article  \\\n",
       "755   The biggest policy fight left in 2017 is stuck...   \n",
       "4557  DOJ asks Supreme Court to take up transgender ...   \n",
       "1153  Senate Republicans are in such a rush to pass ...   \n",
       "2480  The desperate sobbing of 10 Central American c...   \n",
       "4989  On Friday, the Department of Justice sent lett...   \n",
       "\n",
       "                                         clean_articles  targets  \n",
       "755   The biggest policy fight left in 2017 is stuck...        2  \n",
       "4557  DOJ asks Supreme Court to take up transgender ...        0  \n",
       "1153  Senate Republicans are in such a rush to pass ...        2  \n",
       "2480  The desperate sobbing of 10 Central American c...        1  \n",
       "4989  On Friday, the Department of Justice sent lett...        2  "
      ]
     },
     "execution_count": 60,
     "metadata": {},
     "output_type": "execute_result"
    }
   ],
   "source": [
    "test_df.head()"
   ]
  },
  {
   "cell_type": "code",
   "execution_count": 64,
   "metadata": {
    "collapsed": false
   },
   "outputs": [
    {
     "name": "stdout",
     "output_type": "stream",
     "text": [
      "f1 score 0.8901303538175046\n"
     ]
    }
   ],
   "source": [
    "res = metrics.f1_score(y_test, y_pred_one_hot, average='micro')\n",
    "print(\"f1 score {res}\".format(res=res))"
   ]
  },
  {
   "cell_type": "code",
   "execution_count": null,
   "metadata": {
    "collapsed": true
   },
   "outputs": [],
   "source": []
  }
 ],
 "metadata": {
  "kernelspec": {
   "display_name": "Python 3",
   "language": "python",
   "name": "python3"
  },
  "language_info": {
   "codemirror_mode": {
    "name": "ipython",
    "version": 3
   },
   "file_extension": ".py",
   "mimetype": "text/x-python",
   "name": "python",
   "nbconvert_exporter": "python",
   "pygments_lexer": "ipython3",
   "version": "3.5.4"
  }
 },
 "nbformat": 4,
 "nbformat_minor": 2
}
